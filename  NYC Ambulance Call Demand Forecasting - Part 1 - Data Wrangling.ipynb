{
 "cells": [
  {
   "cell_type": "markdown",
   "id": "8d1009d7",
   "metadata": {},
   "source": [
    "**Objective:**  \n",
    "The goal of this project is to predict daily ambulance call demand in New York City, with a focus on borough-specific patterns.  \n",
    "This analysis will also incorporate weather and holiday data to explore external factors influencing call volume.\n",
    "\n",
    "**Dataset Source:**  \n",
    "NYC Open Data API – [Link to API](https://data.cityofnewyork.us/resource/76xm-jjuj.json)  \n",
    "\n",
    "**Notebook Outline:**  \n",
    "1. Introduction  \n",
    "2. Data Wrangling  \n",
    "3. Feature Engineering (adding weather & holiday data)   \n",
    "4.Exploratory Data Analysis (EDA)   \n",
    "5. Model Selection & Training  \n",
    "6. Evaluation & Conclusion\n"
   ]
  },
  {
   "cell_type": "markdown",
   "id": "be987a4f",
   "metadata": {},
   "source": [
    "**Introduction**\n",
    "\n",
    "Emergency response systems are a critical part of city infrastructure, and understanding patterns in emergency call demand can help allocate resources more efficiently. In this project, I analyze 911 call data for New York City to explore patterns by time, location, and external factors such as weather and holidays.\n",
    "The primary goals of this project are:\n",
    "\n",
    "Data Wrangling – Collect and clean raw data from the NYC Open Data API.\n",
    "\n",
    "Feature Engineering – Create meaningful variables such as hour, day_of_week, is_holiday, and integrate external data sources like weather conditions. \n",
    "\n",
    "Exploratory Data Analysis (EDA) – Visualize trends in call volume across boroughs and identify patterns related to time, weather, and holidays. \n",
    "\n",
    "Modeling – Build and evaluate predictive models (Linear Regression and Random Forest) to forecast daily call volume. \n",
    "\n",
    "Insights – Summarize findings and highlight factors most strongly associated with variations in call volume. "
   ]
  },
  {
   "cell_type": "code",
   "execution_count": 1,
   "id": "475c41de",
   "metadata": {},
   "outputs": [],
   "source": [
    "# Loading the libraries\n",
    "\n",
    "import requests \n",
    "import pandas as pd\n",
    "import numpy as np\n",
    "import matplotlib.pyplot as plt\n",
    "import seaborn as sns\n",
    "%matplotlib inline"
   ]
  },
  {
   "cell_type": "markdown",
   "id": "e2978935",
   "metadata": {},
   "source": [
    "# Data Collection\n",
    "\n",
    " The following code was used to collect the NYC EMS call data from the NYC Open Data API. It's commented out in Markdown to avoid accidental reruns, since the full request can take hours to complete.\n",
    " \n",
    "<pre> import requests import pandas as pd # API endpoint url = \"https://data.cityofnewyork.us/resource/76xm-jjuj.json\" # Initialize variables all_data = [] limit = 1000 total_needed = 500000 # Loop to fetch data in batches for offset in range(0, total_needed, limit): params = { \"$where\": \"incident_datetime between '2025-01-01T00:00:00' and '2025-06-30T23:59:59'\", \"$order\": \"incident_datetime ASC\", \"$limit\": limit, \"$offset\": offset } response = requests.get(url, params=params) batch = response.json() if not batch: break all_data.extend(batch) # Convert to DataFrame df = pd.DataFrame(all_data) print(f\"Fetched {len(df)} rows\") # Save to CSV to avoid re-fetching df.to_csv('nyc_ambulance_call.csv', index=False) # Load the saved CSV df = pd.read_csv('nyc_ambulance_call.csv') </pre>"
   ]
  },
  {
   "cell_type": "code",
   "execution_count": 2,
   "id": "50b80942",
   "metadata": {},
   "outputs": [],
   "source": [
    "# Load the csv file into dataframe\n",
    "df = pd.read_csv('nyc_ambulance_call.csv')"
   ]
  },
  {
   "cell_type": "code",
   "execution_count": 3,
   "id": "8627dd43",
   "metadata": {},
   "outputs": [
    {
     "name": "stdout",
     "output_type": "stream",
     "text": [
      "df - number of rows : 500000\n",
      "df - number of columns : 31\n"
     ]
    },
    {
     "data": {
      "text/html": [
       "<div>\n",
       "<style scoped>\n",
       "    .dataframe tbody tr th:only-of-type {\n",
       "        vertical-align: middle;\n",
       "    }\n",
       "\n",
       "    .dataframe tbody tr th {\n",
       "        vertical-align: top;\n",
       "    }\n",
       "\n",
       "    .dataframe thead th {\n",
       "        text-align: right;\n",
       "    }\n",
       "</style>\n",
       "<table border=\"1\" class=\"dataframe\">\n",
       "  <thead>\n",
       "    <tr style=\"text-align: right;\">\n",
       "      <th></th>\n",
       "      <th>cad_incident_id</th>\n",
       "      <th>incident_datetime</th>\n",
       "      <th>initial_call_type</th>\n",
       "      <th>initial_severity_level_code</th>\n",
       "      <th>final_call_type</th>\n",
       "      <th>final_severity_level_code</th>\n",
       "      <th>first_assignment_datetime</th>\n",
       "      <th>valid_dispatch_rspns_time_indc</th>\n",
       "      <th>dispatch_response_seconds_qy</th>\n",
       "      <th>first_activation_datetime</th>\n",
       "      <th>...</th>\n",
       "      <th>communitydistrict</th>\n",
       "      <th>communityschooldistrict</th>\n",
       "      <th>congressionaldistrict</th>\n",
       "      <th>reopen_indicator</th>\n",
       "      <th>special_event_indicator</th>\n",
       "      <th>standby_indicator</th>\n",
       "      <th>transfer_indicator</th>\n",
       "      <th>incident_response_seconds_qy</th>\n",
       "      <th>first_to_hosp_datetime</th>\n",
       "      <th>first_hosp_arrival_datetime</th>\n",
       "    </tr>\n",
       "  </thead>\n",
       "  <tbody>\n",
       "    <tr>\n",
       "      <th>0</th>\n",
       "      <td>250010001</td>\n",
       "      <td>2025-01-01T00:00:12.000</td>\n",
       "      <td>STNDBY</td>\n",
       "      <td>8</td>\n",
       "      <td>STNDBY</td>\n",
       "      <td>8</td>\n",
       "      <td>2025-01-01T09:53:41.000</td>\n",
       "      <td>N</td>\n",
       "      <td>0</td>\n",
       "      <td>2025-01-01T09:57:09.000</td>\n",
       "      <td>...</td>\n",
       "      <td>313.0</td>\n",
       "      <td>21.0</td>\n",
       "      <td>8.0</td>\n",
       "      <td>Y</td>\n",
       "      <td>N</td>\n",
       "      <td>Y</td>\n",
       "      <td>N</td>\n",
       "      <td>NaN</td>\n",
       "      <td>NaN</td>\n",
       "      <td>NaN</td>\n",
       "    </tr>\n",
       "    <tr>\n",
       "      <th>1</th>\n",
       "      <td>250010003</td>\n",
       "      <td>2025-01-01T00:01:53.000</td>\n",
       "      <td>UNC</td>\n",
       "      <td>2</td>\n",
       "      <td>UNC</td>\n",
       "      <td>2</td>\n",
       "      <td>2025-01-01T00:02:06.000</td>\n",
       "      <td>Y</td>\n",
       "      <td>13</td>\n",
       "      <td>2025-01-01T00:02:43.000</td>\n",
       "      <td>...</td>\n",
       "      <td>104.0</td>\n",
       "      <td>2.0</td>\n",
       "      <td>10.0</td>\n",
       "      <td>N</td>\n",
       "      <td>N</td>\n",
       "      <td>N</td>\n",
       "      <td>N</td>\n",
       "      <td>454.0</td>\n",
       "      <td>2025-01-01T00:21:01.000</td>\n",
       "      <td>2025-01-01T00:39:03.000</td>\n",
       "    </tr>\n",
       "    <tr>\n",
       "      <th>2</th>\n",
       "      <td>250010004</td>\n",
       "      <td>2025-01-01T00:01:58.000</td>\n",
       "      <td>CARD</td>\n",
       "      <td>3</td>\n",
       "      <td>CARD</td>\n",
       "      <td>3</td>\n",
       "      <td>2025-01-01T00:01:58.000</td>\n",
       "      <td>Y</td>\n",
       "      <td>0</td>\n",
       "      <td>2025-01-01T00:01:58.000</td>\n",
       "      <td>...</td>\n",
       "      <td>104.0</td>\n",
       "      <td>2.0</td>\n",
       "      <td>10.0</td>\n",
       "      <td>N</td>\n",
       "      <td>N</td>\n",
       "      <td>N</td>\n",
       "      <td>N</td>\n",
       "      <td>0.0</td>\n",
       "      <td>NaN</td>\n",
       "      <td>NaN</td>\n",
       "    </tr>\n",
       "    <tr>\n",
       "      <th>3</th>\n",
       "      <td>250010007</td>\n",
       "      <td>2025-01-01T00:03:42.000</td>\n",
       "      <td>ABDPN</td>\n",
       "      <td>5</td>\n",
       "      <td>ABDPN</td>\n",
       "      <td>5</td>\n",
       "      <td>2025-01-01T00:03:59.000</td>\n",
       "      <td>Y</td>\n",
       "      <td>17</td>\n",
       "      <td>2025-01-01T00:04:12.000</td>\n",
       "      <td>...</td>\n",
       "      <td>112.0</td>\n",
       "      <td>6.0</td>\n",
       "      <td>13.0</td>\n",
       "      <td>N</td>\n",
       "      <td>N</td>\n",
       "      <td>N</td>\n",
       "      <td>N</td>\n",
       "      <td>654.0</td>\n",
       "      <td>2025-01-01T00:28:30.000</td>\n",
       "      <td>2025-01-01T00:37:31.000</td>\n",
       "    </tr>\n",
       "    <tr>\n",
       "      <th>4</th>\n",
       "      <td>250010008</td>\n",
       "      <td>2025-01-01T00:04:36.000</td>\n",
       "      <td>STATEP</td>\n",
       "      <td>2</td>\n",
       "      <td>STATEP</td>\n",
       "      <td>2</td>\n",
       "      <td>2025-01-01T00:05:06.000</td>\n",
       "      <td>Y</td>\n",
       "      <td>30</td>\n",
       "      <td>2025-01-01T00:05:18.000</td>\n",
       "      <td>...</td>\n",
       "      <td>212.0</td>\n",
       "      <td>11.0</td>\n",
       "      <td>16.0</td>\n",
       "      <td>N</td>\n",
       "      <td>N</td>\n",
       "      <td>N</td>\n",
       "      <td>N</td>\n",
       "      <td>284.0</td>\n",
       "      <td>2025-01-01T00:40:27.000</td>\n",
       "      <td>2025-01-01T00:50:50.000</td>\n",
       "    </tr>\n",
       "  </tbody>\n",
       "</table>\n",
       "<p>5 rows × 31 columns</p>\n",
       "</div>"
      ],
      "text/plain": [
       "   cad_incident_id        incident_datetime initial_call_type  \\\n",
       "0        250010001  2025-01-01T00:00:12.000            STNDBY   \n",
       "1        250010003  2025-01-01T00:01:53.000               UNC   \n",
       "2        250010004  2025-01-01T00:01:58.000              CARD   \n",
       "3        250010007  2025-01-01T00:03:42.000             ABDPN   \n",
       "4        250010008  2025-01-01T00:04:36.000            STATEP   \n",
       "\n",
       "   initial_severity_level_code final_call_type  final_severity_level_code  \\\n",
       "0                            8          STNDBY                          8   \n",
       "1                            2             UNC                          2   \n",
       "2                            3            CARD                          3   \n",
       "3                            5           ABDPN                          5   \n",
       "4                            2          STATEP                          2   \n",
       "\n",
       "  first_assignment_datetime valid_dispatch_rspns_time_indc  \\\n",
       "0   2025-01-01T09:53:41.000                              N   \n",
       "1   2025-01-01T00:02:06.000                              Y   \n",
       "2   2025-01-01T00:01:58.000                              Y   \n",
       "3   2025-01-01T00:03:59.000                              Y   \n",
       "4   2025-01-01T00:05:06.000                              Y   \n",
       "\n",
       "   dispatch_response_seconds_qy first_activation_datetime  ...  \\\n",
       "0                             0   2025-01-01T09:57:09.000  ...   \n",
       "1                            13   2025-01-01T00:02:43.000  ...   \n",
       "2                             0   2025-01-01T00:01:58.000  ...   \n",
       "3                            17   2025-01-01T00:04:12.000  ...   \n",
       "4                            30   2025-01-01T00:05:18.000  ...   \n",
       "\n",
       "  communitydistrict communityschooldistrict  congressionaldistrict  \\\n",
       "0             313.0                    21.0                    8.0   \n",
       "1             104.0                     2.0                   10.0   \n",
       "2             104.0                     2.0                   10.0   \n",
       "3             112.0                     6.0                   13.0   \n",
       "4             212.0                    11.0                   16.0   \n",
       "\n",
       "  reopen_indicator special_event_indicator standby_indicator  \\\n",
       "0                Y                       N                 Y   \n",
       "1                N                       N                 N   \n",
       "2                N                       N                 N   \n",
       "3                N                       N                 N   \n",
       "4                N                       N                 N   \n",
       "\n",
       "  transfer_indicator incident_response_seconds_qy   first_to_hosp_datetime  \\\n",
       "0                  N                          NaN                      NaN   \n",
       "1                  N                        454.0  2025-01-01T00:21:01.000   \n",
       "2                  N                          0.0                      NaN   \n",
       "3                  N                        654.0  2025-01-01T00:28:30.000   \n",
       "4                  N                        284.0  2025-01-01T00:40:27.000   \n",
       "\n",
       "   first_hosp_arrival_datetime  \n",
       "0                          NaN  \n",
       "1      2025-01-01T00:39:03.000  \n",
       "2                          NaN  \n",
       "3      2025-01-01T00:37:31.000  \n",
       "4      2025-01-01T00:50:50.000  \n",
       "\n",
       "[5 rows x 31 columns]"
      ]
     },
     "execution_count": 3,
     "metadata": {},
     "output_type": "execute_result"
    }
   ],
   "source": [
    "print(f'df - number of rows : {df.shape[0]}')\n",
    "print((f'df - number of columns : {df.shape[1]}'))\n",
    "df.head()      "
   ]
  },
  {
   "cell_type": "code",
   "execution_count": 4,
   "id": "e33e4588",
   "metadata": {},
   "outputs": [
    {
     "data": {
      "text/plain": [
       "Index(['cad_incident_id', 'incident_datetime', 'initial_call_type',\n",
       "       'initial_severity_level_code', 'final_call_type',\n",
       "       'final_severity_level_code', 'first_assignment_datetime',\n",
       "       'valid_dispatch_rspns_time_indc', 'dispatch_response_seconds_qy',\n",
       "       'first_activation_datetime', 'first_on_scene_datetime',\n",
       "       'valid_incident_rspns_time_indc', 'incident_travel_tm_seconds_qy',\n",
       "       'incident_close_datetime', 'held_indicator',\n",
       "       'incident_disposition_code', 'borough', 'incident_dispatch_area',\n",
       "       'zipcode', 'policeprecinct', 'citycouncildistrict', 'communitydistrict',\n",
       "       'communityschooldistrict', 'congressionaldistrict', 'reopen_indicator',\n",
       "       'special_event_indicator', 'standby_indicator', 'transfer_indicator',\n",
       "       'incident_response_seconds_qy', 'first_to_hosp_datetime',\n",
       "       'first_hosp_arrival_datetime'],\n",
       "      dtype='object')"
      ]
     },
     "execution_count": 4,
     "metadata": {},
     "output_type": "execute_result"
    }
   ],
   "source": [
    "# Dataframes columns\n",
    "df.columns"
   ]
  },
  {
   "cell_type": "code",
   "execution_count": 5,
   "id": "b7253532",
   "metadata": {},
   "outputs": [
    {
     "data": {
      "text/plain": [
       "cad_incident_id                     int64\n",
       "incident_datetime                  object\n",
       "initial_call_type                  object\n",
       "initial_severity_level_code         int64\n",
       "final_call_type                    object\n",
       "final_severity_level_code           int64\n",
       "first_assignment_datetime          object\n",
       "valid_dispatch_rspns_time_indc     object\n",
       "dispatch_response_seconds_qy        int64\n",
       "first_activation_datetime          object\n",
       "first_on_scene_datetime            object\n",
       "valid_incident_rspns_time_indc     object\n",
       "incident_travel_tm_seconds_qy     float64\n",
       "incident_close_datetime            object\n",
       "held_indicator                     object\n",
       "incident_disposition_code          object\n",
       "borough                            object\n",
       "incident_dispatch_area             object\n",
       "zipcode                           float64\n",
       "policeprecinct                    float64\n",
       "citycouncildistrict               float64\n",
       "communitydistrict                 float64\n",
       "communityschooldistrict           float64\n",
       "congressionaldistrict             float64\n",
       "reopen_indicator                   object\n",
       "special_event_indicator            object\n",
       "standby_indicator                  object\n",
       "transfer_indicator                 object\n",
       "incident_response_seconds_qy      float64\n",
       "first_to_hosp_datetime             object\n",
       "first_hosp_arrival_datetime        object\n",
       "dtype: object"
      ]
     },
     "execution_count": 5,
     "metadata": {},
     "output_type": "execute_result"
    }
   ],
   "source": [
    "# df data types \n",
    "df.dtypes"
   ]
  },
  {
   "cell_type": "code",
   "execution_count": 6,
   "id": "6ffbbc2e",
   "metadata": {},
   "outputs": [
    {
     "name": "stdout",
     "output_type": "stream",
     "text": [
      "<class 'pandas.core.frame.DataFrame'>\n",
      "RangeIndex: 500000 entries, 0 to 499999\n",
      "Data columns (total 31 columns):\n",
      " #   Column                          Non-Null Count   Dtype  \n",
      "---  ------                          --------------   -----  \n",
      " 0   cad_incident_id                 500000 non-null  int64  \n",
      " 1   incident_datetime               500000 non-null  object \n",
      " 2   initial_call_type               500000 non-null  object \n",
      " 3   initial_severity_level_code     500000 non-null  int64  \n",
      " 4   final_call_type                 500000 non-null  object \n",
      " 5   final_severity_level_code       500000 non-null  int64  \n",
      " 6   first_assignment_datetime       490831 non-null  object \n",
      " 7   valid_dispatch_rspns_time_indc  500000 non-null  object \n",
      " 8   dispatch_response_seconds_qy    500000 non-null  int64  \n",
      " 9   first_activation_datetime       489951 non-null  object \n",
      " 10  first_on_scene_datetime         472388 non-null  object \n",
      " 11  valid_incident_rspns_time_indc  500000 non-null  object \n",
      " 12  incident_travel_tm_seconds_qy   472388 non-null  float64\n",
      " 13  incident_close_datetime         499946 non-null  object \n",
      " 14  held_indicator                  500000 non-null  object \n",
      " 15  incident_disposition_code       500000 non-null  object \n",
      " 16  borough                         500000 non-null  object \n",
      " 17  incident_dispatch_area          500000 non-null  object \n",
      " 18  zipcode                         487600 non-null  float64\n",
      " 19  policeprecinct                  487610 non-null  float64\n",
      " 20  citycouncildistrict             487610 non-null  float64\n",
      " 21  communitydistrict               487610 non-null  float64\n",
      " 22  communityschooldistrict         487318 non-null  float64\n",
      " 23  congressionaldistrict           487610 non-null  float64\n",
      " 24  reopen_indicator                500000 non-null  object \n",
      " 25  special_event_indicator         500000 non-null  object \n",
      " 26  standby_indicator               500000 non-null  object \n",
      " 27  transfer_indicator              500000 non-null  object \n",
      " 28  incident_response_seconds_qy    472267 non-null  float64\n",
      " 29  first_to_hosp_datetime          315889 non-null  object \n",
      " 30  first_hosp_arrival_datetime     314601 non-null  object \n",
      "dtypes: float64(8), int64(4), object(19)\n",
      "memory usage: 118.3+ MB\n"
     ]
    }
   ],
   "source": [
    "# Datframe info\n",
    "df.info()"
   ]
  },
  {
   "cell_type": "code",
   "execution_count": 7,
   "id": "648c05b8",
   "metadata": {},
   "outputs": [
    {
     "data": {
      "text/plain": [
       "('2025-01-01T00:00:12.000', '2025-04-25T21:03:38.000')"
      ]
     },
     "execution_count": 7,
     "metadata": {},
     "output_type": "execute_result"
    }
   ],
   "source": [
    "# max and min date\n",
    "\n",
    "df.incident_datetime.min(), df.incident_datetime.max()"
   ]
  },
  {
   "cell_type": "markdown",
   "id": "b68ce67b",
   "metadata": {},
   "source": [
    "**Select only the columns relevant to predicting ambulance call demand by hour and location. The incident_datetime column allow time-based analysis and forecasting. Borough and zipcode provide geographic context to understand spatial demand patterns. Other columns like initial_call_type and severity_level help capture the nature and urgency of calls, which may affect demand. Removing unnecessary columns reduces data size, simplifies the analysis, and focuses the model on meaningful features.**"
   ]
  },
  {
   "cell_type": "code",
   "execution_count": 8,
   "id": "7bd0a3dc",
   "metadata": {},
   "outputs": [
    {
     "data": {
      "text/html": [
       "<div>\n",
       "<style scoped>\n",
       "    .dataframe tbody tr th:only-of-type {\n",
       "        vertical-align: middle;\n",
       "    }\n",
       "\n",
       "    .dataframe tbody tr th {\n",
       "        vertical-align: top;\n",
       "    }\n",
       "\n",
       "    .dataframe thead th {\n",
       "        text-align: right;\n",
       "    }\n",
       "</style>\n",
       "<table border=\"1\" class=\"dataframe\">\n",
       "  <thead>\n",
       "    <tr style=\"text-align: right;\">\n",
       "      <th></th>\n",
       "      <th>incident_datetime</th>\n",
       "      <th>borough</th>\n",
       "      <th>zipcode</th>\n",
       "      <th>initial_call_type</th>\n",
       "      <th>initial_severity_level_code</th>\n",
       "    </tr>\n",
       "  </thead>\n",
       "  <tbody>\n",
       "    <tr>\n",
       "      <th>0</th>\n",
       "      <td>2025-01-01T00:00:12.000</td>\n",
       "      <td>BROOKLYN</td>\n",
       "      <td>11224.0</td>\n",
       "      <td>STNDBY</td>\n",
       "      <td>8</td>\n",
       "    </tr>\n",
       "    <tr>\n",
       "      <th>10</th>\n",
       "      <td>2025-01-01T00:07:12.000</td>\n",
       "      <td>BRONX</td>\n",
       "      <td>10459.0</td>\n",
       "      <td>UNKNOW</td>\n",
       "      <td>4</td>\n",
       "    </tr>\n",
       "    <tr>\n",
       "      <th>20</th>\n",
       "      <td>2025-01-01T00:09:57.000</td>\n",
       "      <td>BRONX</td>\n",
       "      <td>10475.0</td>\n",
       "      <td>CARD</td>\n",
       "      <td>3</td>\n",
       "    </tr>\n",
       "    <tr>\n",
       "      <th>30</th>\n",
       "      <td>2025-01-01T00:14:16.000</td>\n",
       "      <td>QUEENS</td>\n",
       "      <td>11432.0</td>\n",
       "      <td>ABDPN</td>\n",
       "      <td>5</td>\n",
       "    </tr>\n",
       "    <tr>\n",
       "      <th>40</th>\n",
       "      <td>2025-01-01T00:16:49.000</td>\n",
       "      <td>MANHATTAN</td>\n",
       "      <td>10036.0</td>\n",
       "      <td>DRUG</td>\n",
       "      <td>5</td>\n",
       "    </tr>\n",
       "    <tr>\n",
       "      <th>50</th>\n",
       "      <td>2025-01-01T00:20:13.000</td>\n",
       "      <td>MANHATTAN</td>\n",
       "      <td>10038.0</td>\n",
       "      <td>SICK</td>\n",
       "      <td>6</td>\n",
       "    </tr>\n",
       "    <tr>\n",
       "      <th>60</th>\n",
       "      <td>2025-01-01T00:24:07.000</td>\n",
       "      <td>QUEENS</td>\n",
       "      <td>11433.0</td>\n",
       "      <td>SICK</td>\n",
       "      <td>6</td>\n",
       "    </tr>\n",
       "    <tr>\n",
       "      <th>70</th>\n",
       "      <td>2025-01-01T00:27:36.000</td>\n",
       "      <td>BROOKLYN</td>\n",
       "      <td>11234.0</td>\n",
       "      <td>STATEP</td>\n",
       "      <td>2</td>\n",
       "    </tr>\n",
       "    <tr>\n",
       "      <th>80</th>\n",
       "      <td>2025-01-01T00:31:50.000</td>\n",
       "      <td>QUEENS</td>\n",
       "      <td>11415.0</td>\n",
       "      <td>INJMAJ</td>\n",
       "      <td>3</td>\n",
       "    </tr>\n",
       "    <tr>\n",
       "      <th>90</th>\n",
       "      <td>2025-01-01T00:35:46.000</td>\n",
       "      <td>MANHATTAN</td>\n",
       "      <td>10036.0</td>\n",
       "      <td>DRUG</td>\n",
       "      <td>5</td>\n",
       "    </tr>\n",
       "  </tbody>\n",
       "</table>\n",
       "</div>"
      ],
      "text/plain": [
       "          incident_datetime    borough  zipcode initial_call_type  \\\n",
       "0   2025-01-01T00:00:12.000   BROOKLYN  11224.0            STNDBY   \n",
       "10  2025-01-01T00:07:12.000      BRONX  10459.0            UNKNOW   \n",
       "20  2025-01-01T00:09:57.000      BRONX  10475.0              CARD   \n",
       "30  2025-01-01T00:14:16.000     QUEENS  11432.0             ABDPN   \n",
       "40  2025-01-01T00:16:49.000  MANHATTAN  10036.0              DRUG   \n",
       "50  2025-01-01T00:20:13.000  MANHATTAN  10038.0              SICK   \n",
       "60  2025-01-01T00:24:07.000     QUEENS  11433.0              SICK   \n",
       "70  2025-01-01T00:27:36.000   BROOKLYN  11234.0            STATEP   \n",
       "80  2025-01-01T00:31:50.000     QUEENS  11415.0            INJMAJ   \n",
       "90  2025-01-01T00:35:46.000  MANHATTAN  10036.0              DRUG   \n",
       "\n",
       "    initial_severity_level_code  \n",
       "0                             8  \n",
       "10                            4  \n",
       "20                            3  \n",
       "30                            5  \n",
       "40                            5  \n",
       "50                            6  \n",
       "60                            6  \n",
       "70                            2  \n",
       "80                            3  \n",
       "90                            5  "
      ]
     },
     "execution_count": 8,
     "metadata": {},
     "output_type": "execute_result"
    }
   ],
   "source": [
    "# Selecting the required columns \n",
    "cols=['incident_datetime','borough','zipcode','initial_call_type','initial_severity_level_code']\n",
    "\n",
    "# Subsetting the dataframe \n",
    "df = df[cols]\n",
    "df.iloc[0:100:10]"
   ]
  },
  {
   "cell_type": "code",
   "execution_count": 9,
   "id": "d922bcc9",
   "metadata": {},
   "outputs": [],
   "source": [
    "# Converting incident_datetime to pandas date time format\n",
    "df['incident_datetime'] = pd.to_datetime(df['incident_datetime'], errors='coerce')"
   ]
  },
  {
   "cell_type": "code",
   "execution_count": 10,
   "id": "7c8738e0",
   "metadata": {
    "scrolled": true
   },
   "outputs": [
    {
     "data": {
      "text/plain": [
       "incident_datetime              datetime64[ns]\n",
       "borough                                object\n",
       "zipcode                               float64\n",
       "initial_call_type                      object\n",
       "initial_severity_level_code             int64\n",
       "dtype: object"
      ]
     },
     "execution_count": 10,
     "metadata": {},
     "output_type": "execute_result"
    }
   ],
   "source": [
    "# Check datatypes \n",
    "df.dtypes"
   ]
  },
  {
   "cell_type": "markdown",
   "id": "10f5c369",
   "metadata": {},
   "source": [
    "__**Feature Engineering:**  \n",
    "Create new columns from the incident_datetime because the original timestamp is hard to use directly.  \n",
    "'date' helps us group calls by day.  \n",
    "'hour' shows what time of day calls happen.  \n",
    "'day_of_week' is an arbitrary number (0 for Monday, 1 for Tuesday, etc.) that helps identify the day of the week.  \n",
    "'month' lets us see if calls change by season.  \n",
    "'is_weekend' marks weekends, since weekends can have different call patterns than weekdays.  \n",
    "These features make it easier to find patterns and improve our predictions.__"
   ]
  },
  {
   "cell_type": "code",
   "execution_count": 11,
   "id": "918c1ada",
   "metadata": {},
   "outputs": [],
   "source": [
    "# Feature engineering - creating new columns from incident_datetime \n",
    "df['date'] = df['incident_datetime'].dt.date\n",
    "df['hour'] = df['incident_datetime'].dt.hour\n",
    "df['day_of_week'] = df['incident_datetime'].dt.dayofweek\n",
    "df['month'] = df['incident_datetime'].dt.month\n",
    "df['is_weekend'] = df['day_of_week'].isin([5,6]).astype(int)"
   ]
  },
  {
   "cell_type": "code",
   "execution_count": 12,
   "id": "2554efb1",
   "metadata": {},
   "outputs": [
    {
     "data": {
      "text/html": [
       "<div>\n",
       "<style scoped>\n",
       "    .dataframe tbody tr th:only-of-type {\n",
       "        vertical-align: middle;\n",
       "    }\n",
       "\n",
       "    .dataframe tbody tr th {\n",
       "        vertical-align: top;\n",
       "    }\n",
       "\n",
       "    .dataframe thead th {\n",
       "        text-align: right;\n",
       "    }\n",
       "</style>\n",
       "<table border=\"1\" class=\"dataframe\">\n",
       "  <thead>\n",
       "    <tr style=\"text-align: right;\">\n",
       "      <th></th>\n",
       "      <th>incident_datetime</th>\n",
       "      <th>borough</th>\n",
       "      <th>zipcode</th>\n",
       "      <th>initial_call_type</th>\n",
       "      <th>initial_severity_level_code</th>\n",
       "      <th>date</th>\n",
       "      <th>hour</th>\n",
       "      <th>day_of_week</th>\n",
       "      <th>month</th>\n",
       "      <th>is_weekend</th>\n",
       "    </tr>\n",
       "  </thead>\n",
       "  <tbody>\n",
       "    <tr>\n",
       "      <th>0</th>\n",
       "      <td>2025-01-01 00:00:12</td>\n",
       "      <td>BROOKLYN</td>\n",
       "      <td>11224.0</td>\n",
       "      <td>STNDBY</td>\n",
       "      <td>8</td>\n",
       "      <td>2025-01-01</td>\n",
       "      <td>0</td>\n",
       "      <td>2</td>\n",
       "      <td>1</td>\n",
       "      <td>0</td>\n",
       "    </tr>\n",
       "    <tr>\n",
       "      <th>1</th>\n",
       "      <td>2025-01-01 00:01:53</td>\n",
       "      <td>MANHATTAN</td>\n",
       "      <td>10001.0</td>\n",
       "      <td>UNC</td>\n",
       "      <td>2</td>\n",
       "      <td>2025-01-01</td>\n",
       "      <td>0</td>\n",
       "      <td>2</td>\n",
       "      <td>1</td>\n",
       "      <td>0</td>\n",
       "    </tr>\n",
       "    <tr>\n",
       "      <th>2</th>\n",
       "      <td>2025-01-01 00:01:58</td>\n",
       "      <td>MANHATTAN</td>\n",
       "      <td>10036.0</td>\n",
       "      <td>CARD</td>\n",
       "      <td>3</td>\n",
       "      <td>2025-01-01</td>\n",
       "      <td>0</td>\n",
       "      <td>2</td>\n",
       "      <td>1</td>\n",
       "      <td>0</td>\n",
       "    </tr>\n",
       "    <tr>\n",
       "      <th>3</th>\n",
       "      <td>2025-01-01 00:03:42</td>\n",
       "      <td>MANHATTAN</td>\n",
       "      <td>10040.0</td>\n",
       "      <td>ABDPN</td>\n",
       "      <td>5</td>\n",
       "      <td>2025-01-01</td>\n",
       "      <td>0</td>\n",
       "      <td>2</td>\n",
       "      <td>1</td>\n",
       "      <td>0</td>\n",
       "    </tr>\n",
       "    <tr>\n",
       "      <th>4</th>\n",
       "      <td>2025-01-01 00:04:36</td>\n",
       "      <td>BRONX</td>\n",
       "      <td>10466.0</td>\n",
       "      <td>STATEP</td>\n",
       "      <td>2</td>\n",
       "      <td>2025-01-01</td>\n",
       "      <td>0</td>\n",
       "      <td>2</td>\n",
       "      <td>1</td>\n",
       "      <td>0</td>\n",
       "    </tr>\n",
       "  </tbody>\n",
       "</table>\n",
       "</div>"
      ],
      "text/plain": [
       "    incident_datetime    borough  zipcode initial_call_type  \\\n",
       "0 2025-01-01 00:00:12   BROOKLYN  11224.0            STNDBY   \n",
       "1 2025-01-01 00:01:53  MANHATTAN  10001.0               UNC   \n",
       "2 2025-01-01 00:01:58  MANHATTAN  10036.0              CARD   \n",
       "3 2025-01-01 00:03:42  MANHATTAN  10040.0             ABDPN   \n",
       "4 2025-01-01 00:04:36      BRONX  10466.0            STATEP   \n",
       "\n",
       "   initial_severity_level_code        date  hour  day_of_week  month  \\\n",
       "0                            8  2025-01-01     0            2      1   \n",
       "1                            2  2025-01-01     0            2      1   \n",
       "2                            3  2025-01-01     0            2      1   \n",
       "3                            5  2025-01-01     0            2      1   \n",
       "4                            2  2025-01-01     0            2      1   \n",
       "\n",
       "   is_weekend  \n",
       "0           0  \n",
       "1           0  \n",
       "2           0  \n",
       "3           0  \n",
       "4           0  "
      ]
     },
     "execution_count": 12,
     "metadata": {},
     "output_type": "execute_result"
    }
   ],
   "source": [
    "df.head()"
   ]
  },
  {
   "cell_type": "code",
   "execution_count": 13,
   "id": "594c1006",
   "metadata": {},
   "outputs": [],
   "source": [
    "# Rearanging the DataFrame columns by subsetting and exclude the original incident_datetime\n",
    "cols = ['date', 'hour', 'day_of_week', 'is_weekend', 'month', 'borough', 'zipcode', 'initial_call_type', 'initial_severity_level_code']\n",
    "df = df[cols]"
   ]
  },
  {
   "cell_type": "code",
   "execution_count": 14,
   "id": "ce4191e2",
   "metadata": {},
   "outputs": [
    {
     "data": {
      "text/html": [
       "<div>\n",
       "<style scoped>\n",
       "    .dataframe tbody tr th:only-of-type {\n",
       "        vertical-align: middle;\n",
       "    }\n",
       "\n",
       "    .dataframe tbody tr th {\n",
       "        vertical-align: top;\n",
       "    }\n",
       "\n",
       "    .dataframe thead th {\n",
       "        text-align: right;\n",
       "    }\n",
       "</style>\n",
       "<table border=\"1\" class=\"dataframe\">\n",
       "  <thead>\n",
       "    <tr style=\"text-align: right;\">\n",
       "      <th></th>\n",
       "      <th>date</th>\n",
       "      <th>hour</th>\n",
       "      <th>day_of_week</th>\n",
       "      <th>is_weekend</th>\n",
       "      <th>month</th>\n",
       "      <th>borough</th>\n",
       "      <th>zipcode</th>\n",
       "      <th>initial_call_type</th>\n",
       "      <th>initial_severity_level_code</th>\n",
       "    </tr>\n",
       "  </thead>\n",
       "  <tbody>\n",
       "    <tr>\n",
       "      <th>0</th>\n",
       "      <td>2025-01-01</td>\n",
       "      <td>0</td>\n",
       "      <td>2</td>\n",
       "      <td>0</td>\n",
       "      <td>1</td>\n",
       "      <td>BROOKLYN</td>\n",
       "      <td>11224.0</td>\n",
       "      <td>STNDBY</td>\n",
       "      <td>8</td>\n",
       "    </tr>\n",
       "    <tr>\n",
       "      <th>1</th>\n",
       "      <td>2025-01-01</td>\n",
       "      <td>0</td>\n",
       "      <td>2</td>\n",
       "      <td>0</td>\n",
       "      <td>1</td>\n",
       "      <td>MANHATTAN</td>\n",
       "      <td>10001.0</td>\n",
       "      <td>UNC</td>\n",
       "      <td>2</td>\n",
       "    </tr>\n",
       "    <tr>\n",
       "      <th>2</th>\n",
       "      <td>2025-01-01</td>\n",
       "      <td>0</td>\n",
       "      <td>2</td>\n",
       "      <td>0</td>\n",
       "      <td>1</td>\n",
       "      <td>MANHATTAN</td>\n",
       "      <td>10036.0</td>\n",
       "      <td>CARD</td>\n",
       "      <td>3</td>\n",
       "    </tr>\n",
       "    <tr>\n",
       "      <th>3</th>\n",
       "      <td>2025-01-01</td>\n",
       "      <td>0</td>\n",
       "      <td>2</td>\n",
       "      <td>0</td>\n",
       "      <td>1</td>\n",
       "      <td>MANHATTAN</td>\n",
       "      <td>10040.0</td>\n",
       "      <td>ABDPN</td>\n",
       "      <td>5</td>\n",
       "    </tr>\n",
       "    <tr>\n",
       "      <th>4</th>\n",
       "      <td>2025-01-01</td>\n",
       "      <td>0</td>\n",
       "      <td>2</td>\n",
       "      <td>0</td>\n",
       "      <td>1</td>\n",
       "      <td>BRONX</td>\n",
       "      <td>10466.0</td>\n",
       "      <td>STATEP</td>\n",
       "      <td>2</td>\n",
       "    </tr>\n",
       "  </tbody>\n",
       "</table>\n",
       "</div>"
      ],
      "text/plain": [
       "         date  hour  day_of_week  is_weekend  month    borough  zipcode  \\\n",
       "0  2025-01-01     0            2           0      1   BROOKLYN  11224.0   \n",
       "1  2025-01-01     0            2           0      1  MANHATTAN  10001.0   \n",
       "2  2025-01-01     0            2           0      1  MANHATTAN  10036.0   \n",
       "3  2025-01-01     0            2           0      1  MANHATTAN  10040.0   \n",
       "4  2025-01-01     0            2           0      1      BRONX  10466.0   \n",
       "\n",
       "  initial_call_type  initial_severity_level_code  \n",
       "0            STNDBY                            8  \n",
       "1               UNC                            2  \n",
       "2              CARD                            3  \n",
       "3             ABDPN                            5  \n",
       "4            STATEP                            2  "
      ]
     },
     "execution_count": 14,
     "metadata": {},
     "output_type": "execute_result"
    }
   ],
   "source": [
    "df.head()"
   ]
  },
  {
   "cell_type": "markdown",
   "id": "118ea43a",
   "metadata": {},
   "source": [
    "__Checking for Missing Values__\n",
    "\n",
    "Before adding features like holidays or weather, it's important to handle missing values in key columns:\n",
    "\n",
    "- **`date`**: Needed to match holidays and weather data by time. Missing dates make time-based features unreliable.\n",
    "- **`zipcode`** and **`borough`**: Needed to match the location for weather data. Missing values mean we can’t add weather accurately.\n"
   ]
  },
  {
   "cell_type": "code",
   "execution_count": 15,
   "id": "c6fff940",
   "metadata": {},
   "outputs": [
    {
     "data": {
      "text/plain": [
       "np.int64(0)"
      ]
     },
     "execution_count": 15,
     "metadata": {},
     "output_type": "execute_result"
    }
   ],
   "source": [
    "# Check for missing date\n",
    "df.date.isna().sum()"
   ]
  },
  {
   "cell_type": "code",
   "execution_count": 16,
   "id": "d1a5282d",
   "metadata": {},
   "outputs": [
    {
     "data": {
      "text/plain": [
       "np.int64(12400)"
      ]
     },
     "execution_count": 16,
     "metadata": {},
     "output_type": "execute_result"
    }
   ],
   "source": [
    "#Check for missing  in boruogh \n",
    "df.zipcode.isna().sum()"
   ]
  },
  {
   "cell_type": "markdown",
   "id": "0f8ea169",
   "metadata": {},
   "source": [
    "__Analyzing missing zipcode rows__"
   ]
  },
  {
   "cell_type": "code",
   "execution_count": 17,
   "id": "2240d47f",
   "metadata": {},
   "outputs": [
    {
     "data": {
      "text/html": [
       "<div>\n",
       "<style scoped>\n",
       "    .dataframe tbody tr th:only-of-type {\n",
       "        vertical-align: middle;\n",
       "    }\n",
       "\n",
       "    .dataframe tbody tr th {\n",
       "        vertical-align: top;\n",
       "    }\n",
       "\n",
       "    .dataframe thead th {\n",
       "        text-align: right;\n",
       "    }\n",
       "</style>\n",
       "<table border=\"1\" class=\"dataframe\">\n",
       "  <thead>\n",
       "    <tr style=\"text-align: right;\">\n",
       "      <th></th>\n",
       "      <th>date</th>\n",
       "      <th>hour</th>\n",
       "      <th>day_of_week</th>\n",
       "      <th>is_weekend</th>\n",
       "      <th>month</th>\n",
       "      <th>borough</th>\n",
       "      <th>zipcode</th>\n",
       "      <th>initial_call_type</th>\n",
       "      <th>initial_severity_level_code</th>\n",
       "    </tr>\n",
       "  </thead>\n",
       "  <tbody>\n",
       "    <tr>\n",
       "      <th>499789</th>\n",
       "      <td>2025-04-25</td>\n",
       "      <td>20</td>\n",
       "      <td>4</td>\n",
       "      <td>0</td>\n",
       "      <td>4</td>\n",
       "      <td>QUEENS</td>\n",
       "      <td>NaN</td>\n",
       "      <td>SICMIN</td>\n",
       "      <td>7</td>\n",
       "    </tr>\n",
       "    <tr>\n",
       "      <th>499810</th>\n",
       "      <td>2025-04-25</td>\n",
       "      <td>20</td>\n",
       "      <td>4</td>\n",
       "      <td>0</td>\n",
       "      <td>4</td>\n",
       "      <td>BROOKLYN</td>\n",
       "      <td>NaN</td>\n",
       "      <td>UNKNOW</td>\n",
       "      <td>4</td>\n",
       "    </tr>\n",
       "    <tr>\n",
       "      <th>499844</th>\n",
       "      <td>2025-04-25</td>\n",
       "      <td>20</td>\n",
       "      <td>4</td>\n",
       "      <td>0</td>\n",
       "      <td>4</td>\n",
       "      <td>BRONX</td>\n",
       "      <td>NaN</td>\n",
       "      <td>MVAINJ</td>\n",
       "      <td>5</td>\n",
       "    </tr>\n",
       "    <tr>\n",
       "      <th>499923</th>\n",
       "      <td>2025-04-25</td>\n",
       "      <td>20</td>\n",
       "      <td>4</td>\n",
       "      <td>0</td>\n",
       "      <td>4</td>\n",
       "      <td>RICHMOND / STATEN ISLAND</td>\n",
       "      <td>NaN</td>\n",
       "      <td>INJURY</td>\n",
       "      <td>5</td>\n",
       "    </tr>\n",
       "    <tr>\n",
       "      <th>499937</th>\n",
       "      <td>2025-04-25</td>\n",
       "      <td>20</td>\n",
       "      <td>4</td>\n",
       "      <td>0</td>\n",
       "      <td>4</td>\n",
       "      <td>QUEENS</td>\n",
       "      <td>NaN</td>\n",
       "      <td>STNDBY</td>\n",
       "      <td>8</td>\n",
       "    </tr>\n",
       "  </tbody>\n",
       "</table>\n",
       "</div>"
      ],
      "text/plain": [
       "              date  hour  day_of_week  is_weekend  month  \\\n",
       "499789  2025-04-25    20            4           0      4   \n",
       "499810  2025-04-25    20            4           0      4   \n",
       "499844  2025-04-25    20            4           0      4   \n",
       "499923  2025-04-25    20            4           0      4   \n",
       "499937  2025-04-25    20            4           0      4   \n",
       "\n",
       "                         borough  zipcode initial_call_type  \\\n",
       "499789                    QUEENS      NaN            SICMIN   \n",
       "499810                  BROOKLYN      NaN            UNKNOW   \n",
       "499844                     BRONX      NaN            MVAINJ   \n",
       "499923  RICHMOND / STATEN ISLAND      NaN            INJURY   \n",
       "499937                    QUEENS      NaN            STNDBY   \n",
       "\n",
       "        initial_severity_level_code  \n",
       "499789                            7  \n",
       "499810                            4  \n",
       "499844                            5  \n",
       "499923                            5  \n",
       "499937                            8  "
      ]
     },
     "execution_count": 17,
     "metadata": {},
     "output_type": "execute_result"
    }
   ],
   "source": [
    "missing_zip = df[df.zipcode.isna()]\n",
    "missing_zip.tail()"
   ]
  },
  {
   "cell_type": "code",
   "execution_count": 18,
   "id": "944953c3",
   "metadata": {},
   "outputs": [
    {
     "data": {
      "text/plain": [
       "borough\n",
       "QUEENS                      4450\n",
       "BROOKLYN                    2931\n",
       "BRONX                       2260\n",
       "MANHATTAN                   1383\n",
       "RICHMOND / STATEN ISLAND    1375\n",
       "UNKNOWN                        1\n",
       "Name: count, dtype: int64"
      ]
     },
     "execution_count": 18,
     "metadata": {},
     "output_type": "execute_result"
    }
   ],
   "source": [
    "# check missing zipcode by borough\n",
    "missing_zip.borough.value_counts()"
   ]
  },
  {
   "cell_type": "code",
   "execution_count": 19,
   "id": "ae696edf",
   "metadata": {},
   "outputs": [
    {
     "name": "stdout",
     "output_type": "stream",
     "text": [
      "borough\n",
      "BRONX                         1.889680\n",
      "BROOKLYN                      2.109847\n",
      "MANHATTAN                     1.173775\n",
      "QUEENS                        4.363986\n",
      "RICHMOND / STATEN ISLAND      6.340496\n",
      "UNKNOWN                     100.000000\n",
      "dtype: float64\n"
     ]
    }
   ],
   "source": [
    "# Percentage of missing zipcodes by borough\n",
    "total_counts = df.groupby('borough').size()\n",
    "\n",
    "# Missing zipcode per borough\n",
    "missing_zip = df[df.zipcode.isna()].groupby('borough').size()\n",
    "\n",
    "# Mising percentage \n",
    "missing_percentage = (missing_zip/total_counts)*100\n",
    "\n",
    "print(missing_percentage)"
   ]
  },
  {
   "cell_type": "markdown",
   "id": "04083dc6",
   "metadata": {},
   "source": [
    "__Drop Rows with Missing `zipcode`__\n",
    "\n",
    "Dataset has about **500000 rows**, and around **1–11% of zipcodes are missing**, depending on the borough.\n",
    "\n",
    "Since `zipcode` is important for adding **location-based features** like weather, missing values in this column reduce the accuracy of those features.\n",
    "\n",
    "Given the small dataset size, keeping clean and reliable data is essential. \n",
    "So, we choose to **drop rows with missing `zipcode`** to avoid adding incorrect or incomplete location-based data.\n",
    "\n",
    "This results in only a small data loss (~2.5%), which is acceptable for improving data quality."
   ]
  },
  {
   "cell_type": "code",
   "execution_count": 20,
   "id": "cb5b7cc0",
   "metadata": {},
   "outputs": [
    {
     "data": {
      "text/plain": [
       "np.int64(0)"
      ]
     },
     "execution_count": 20,
     "metadata": {},
     "output_type": "execute_result"
    }
   ],
   "source": [
    "# Drop missing zipcode values\n",
    "df = df.dropna(subset=['zipcode'])\n",
    "\n",
    "df.zipcode.isna().sum()"
   ]
  },
  {
   "cell_type": "code",
   "execution_count": 21,
   "id": "8a5b878e",
   "metadata": {},
   "outputs": [
    {
     "data": {
      "text/plain": [
       "date                           0\n",
       "hour                           0\n",
       "day_of_week                    0\n",
       "is_weekend                     0\n",
       "month                          0\n",
       "borough                        0\n",
       "zipcode                        0\n",
       "initial_call_type              0\n",
       "initial_severity_level_code    0\n",
       "dtype: int64"
      ]
     },
     "execution_count": 21,
     "metadata": {},
     "output_type": "execute_result"
    }
   ],
   "source": [
    "# Check the df for any other missing values\n",
    "df.isna().sum()"
   ]
  },
  {
   "cell_type": "markdown",
   "id": "6f91cfee",
   "metadata": {},
   "source": [
    "__Zipcodes are numeric identifiers — storing them as float (e.g., 10001.0) is incorrect and can cause confusion.__"
   ]
  },
  {
   "cell_type": "code",
   "execution_count": 22,
   "id": "720f58f5",
   "metadata": {},
   "outputs": [
    {
     "data": {
      "text/plain": [
       "dtype('float64')"
      ]
     },
     "execution_count": 22,
     "metadata": {},
     "output_type": "execute_result"
    }
   ],
   "source": [
    "# check zipcode type\n",
    "df.zipcode.dtype"
   ]
  },
  {
   "cell_type": "code",
   "execution_count": 23,
   "id": "12beb175",
   "metadata": {},
   "outputs": [],
   "source": [
    "# Converting zipcode to int\n",
    "df['zipcode'] = df['zipcode'].astype(int)\n"
   ]
  },
  {
   "cell_type": "code",
   "execution_count": 24,
   "id": "c95d85fd",
   "metadata": {},
   "outputs": [
    {
     "data": {
      "text/plain": [
       "date                           object\n",
       "hour                            int32\n",
       "day_of_week                     int32\n",
       "is_weekend                      int64\n",
       "month                           int32\n",
       "borough                        object\n",
       "zipcode                         int64\n",
       "initial_call_type              object\n",
       "initial_severity_level_code     int64\n",
       "dtype: object"
      ]
     },
     "execution_count": 24,
     "metadata": {},
     "output_type": "execute_result"
    }
   ],
   "source": [
    "df.dtypes"
   ]
  },
  {
   "cell_type": "code",
   "execution_count": 25,
   "id": "2f77574b",
   "metadata": {},
   "outputs": [],
   "source": [
    "# Converting date back to datetime \n",
    "df['date']=pd.to_datetime(df['date'])"
   ]
  },
  {
   "cell_type": "code",
   "execution_count": 26,
   "id": "4dccc87f",
   "metadata": {},
   "outputs": [
    {
     "data": {
      "text/plain": [
       "dtype('<M8[ns]')"
      ]
     },
     "execution_count": 26,
     "metadata": {},
     "output_type": "execute_result"
    }
   ],
   "source": [
    "df.date.dtype"
   ]
  },
  {
   "cell_type": "code",
   "execution_count": 27,
   "id": "a527e1c8",
   "metadata": {},
   "outputs": [
    {
     "data": {
      "text/plain": [
       "(487600, 9)"
      ]
     },
     "execution_count": 27,
     "metadata": {},
     "output_type": "execute_result"
    }
   ],
   "source": [
    "df.shape"
   ]
  },
  {
   "cell_type": "markdown",
   "id": "cd33b74d",
   "metadata": {},
   "source": [
    "__Add Holidays to the Dataset__\n",
    "\n",
    "Holidays can affect ambulance call patterns because people behave differently on those days. There may be more accidents, health emergencies, or delayed care. \n",
    "\n",
    "We are adding a holiday column using the `pandas` `USFederalHolidayCalendar` library to help the model understand and predict these changes more accurately."
   ]
  },
  {
   "cell_type": "code",
   "execution_count": 28,
   "id": "283ef7eb",
   "metadata": {},
   "outputs": [],
   "source": [
    "# importing USFederalHoilidayCalender\n",
    "from pandas.tseries.holiday import USFederalHolidayCalendar   \n",
    "\n",
    "#Generate calender\n",
    "calendar = USFederalHolidayCalendar()\n",
    "\n",
    "# Create US hoildays using df date range\n",
    "us_holidays = calendar.holidays(start='2025-01-01', end='2025-04-25')"
   ]
  },
  {
   "cell_type": "code",
   "execution_count": 29,
   "id": "7c1aa1a6",
   "metadata": {},
   "outputs": [
    {
     "data": {
      "text/html": [
       "<div>\n",
       "<style scoped>\n",
       "    .dataframe tbody tr th:only-of-type {\n",
       "        vertical-align: middle;\n",
       "    }\n",
       "\n",
       "    .dataframe tbody tr th {\n",
       "        vertical-align: top;\n",
       "    }\n",
       "\n",
       "    .dataframe thead th {\n",
       "        text-align: right;\n",
       "    }\n",
       "</style>\n",
       "<table border=\"1\" class=\"dataframe\">\n",
       "  <thead>\n",
       "    <tr style=\"text-align: right;\">\n",
       "      <th></th>\n",
       "      <th>date</th>\n",
       "      <th>hour</th>\n",
       "      <th>day_of_week</th>\n",
       "      <th>is_weekend</th>\n",
       "      <th>month</th>\n",
       "      <th>borough</th>\n",
       "      <th>zipcode</th>\n",
       "      <th>initial_call_type</th>\n",
       "      <th>initial_severity_level_code</th>\n",
       "      <th>is_holiday</th>\n",
       "    </tr>\n",
       "  </thead>\n",
       "  <tbody>\n",
       "    <tr>\n",
       "      <th>0</th>\n",
       "      <td>2025-01-01</td>\n",
       "      <td>0</td>\n",
       "      <td>2</td>\n",
       "      <td>0</td>\n",
       "      <td>1</td>\n",
       "      <td>BROOKLYN</td>\n",
       "      <td>11224</td>\n",
       "      <td>STNDBY</td>\n",
       "      <td>8</td>\n",
       "      <td>1</td>\n",
       "    </tr>\n",
       "    <tr>\n",
       "      <th>1</th>\n",
       "      <td>2025-01-01</td>\n",
       "      <td>0</td>\n",
       "      <td>2</td>\n",
       "      <td>0</td>\n",
       "      <td>1</td>\n",
       "      <td>MANHATTAN</td>\n",
       "      <td>10001</td>\n",
       "      <td>UNC</td>\n",
       "      <td>2</td>\n",
       "      <td>1</td>\n",
       "    </tr>\n",
       "    <tr>\n",
       "      <th>2</th>\n",
       "      <td>2025-01-01</td>\n",
       "      <td>0</td>\n",
       "      <td>2</td>\n",
       "      <td>0</td>\n",
       "      <td>1</td>\n",
       "      <td>MANHATTAN</td>\n",
       "      <td>10036</td>\n",
       "      <td>CARD</td>\n",
       "      <td>3</td>\n",
       "      <td>1</td>\n",
       "    </tr>\n",
       "    <tr>\n",
       "      <th>3</th>\n",
       "      <td>2025-01-01</td>\n",
       "      <td>0</td>\n",
       "      <td>2</td>\n",
       "      <td>0</td>\n",
       "      <td>1</td>\n",
       "      <td>MANHATTAN</td>\n",
       "      <td>10040</td>\n",
       "      <td>ABDPN</td>\n",
       "      <td>5</td>\n",
       "      <td>1</td>\n",
       "    </tr>\n",
       "    <tr>\n",
       "      <th>4</th>\n",
       "      <td>2025-01-01</td>\n",
       "      <td>0</td>\n",
       "      <td>2</td>\n",
       "      <td>0</td>\n",
       "      <td>1</td>\n",
       "      <td>BRONX</td>\n",
       "      <td>10466</td>\n",
       "      <td>STATEP</td>\n",
       "      <td>2</td>\n",
       "      <td>1</td>\n",
       "    </tr>\n",
       "  </tbody>\n",
       "</table>\n",
       "</div>"
      ],
      "text/plain": [
       "        date  hour  day_of_week  is_weekend  month    borough  zipcode  \\\n",
       "0 2025-01-01     0            2           0      1   BROOKLYN    11224   \n",
       "1 2025-01-01     0            2           0      1  MANHATTAN    10001   \n",
       "2 2025-01-01     0            2           0      1  MANHATTAN    10036   \n",
       "3 2025-01-01     0            2           0      1  MANHATTAN    10040   \n",
       "4 2025-01-01     0            2           0      1      BRONX    10466   \n",
       "\n",
       "  initial_call_type  initial_severity_level_code  is_holiday  \n",
       "0            STNDBY                            8           1  \n",
       "1               UNC                            2           1  \n",
       "2              CARD                            3           1  \n",
       "3             ABDPN                            5           1  \n",
       "4            STATEP                            2           1  "
      ]
     },
     "execution_count": 29,
     "metadata": {},
     "output_type": "execute_result"
    }
   ],
   "source": [
    "# Create new cloumn is_holiday. True=1, False=0\n",
    "df['is_holiday']=df['date'].isin(us_holidays).astype(int)\n",
    "df.head()"
   ]
  },
  {
   "cell_type": "code",
   "execution_count": 30,
   "id": "0f9bd740",
   "metadata": {},
   "outputs": [
    {
     "data": {
      "text/plain": [
       "np.int64(12224)"
      ]
     },
     "execution_count": 30,
     "metadata": {},
     "output_type": "execute_result"
    }
   ],
   "source": [
    "df.is_holiday.sum()"
   ]
  },
  {
   "cell_type": "code",
   "execution_count": 31,
   "id": "25a6a3b0",
   "metadata": {},
   "outputs": [
    {
     "data": {
      "text/plain": [
       "(Timestamp('2025-01-01 00:00:00'), Timestamp('2025-04-25 00:00:00'))"
      ]
     },
     "execution_count": 31,
     "metadata": {},
     "output_type": "execute_result"
    }
   ],
   "source": [
    "df.date.min(), df.date.max()"
   ]
  },
  {
   "cell_type": "markdown",
   "id": "f4488272",
   "metadata": {},
   "source": [
    "**Feature Engineering: Rationale** \n",
    "  \n",
    "**1. Daily Aggregation of Ambulance Calls**.   \n",
    "Why: The goal is to predict daily call volumes, not hourly.  \n",
    "Reason: Aggregating to daily level simplifies modeling, reduces noise from short-term fluctuations, and aligns with how trends like holidays, weather, or weekdays typically influence behavior.  \n",
    "How: Count total calls per day per borough or ZIP.\n",
    "\n",
    "**2. Mean, Min, and Max Severity Levels**   \n",
    "Why: Severity level ranges from **1 (most severe) to 8 (least severe)**.      \n",
    "Reason: These statistical summaries help capture the nature of the calls on a given day:   \n",
    "mean_severity: shows general trend of urgency (lower = more severe).  \n",
    "min_severity: identifies if very serious cases occurred.  \n",
    "max_severity: captures the full range of severity types on that day.  \n",
    "Insight: A day with mostly low severity levels might reflect routine calls, while a lower mean might indicate a stressful or crisis-heavy day.  \n",
    "\n",
    "**3. Non-Urgent Call Volume**.  \n",
    "Why: To distinguish between emergency and non-emergency workload.  \n",
    "Reason: High volumes of non-urgent calls (e.g., severity 7–8) can still strain resources and impact emergency response.  \n",
    "How: Count number (or percentage) of calls with severity level ≥ 7 per day.  \n",
    "Insight: Helps understand the composition of daily workload, not just the total volume.  \n",
    "\n",
    "**4. Lag Features (Previous Day’s Call Volume)**.     \n",
    "Why: To capture temporal trends and patterns.  \n",
    "Reason: Ambulance call volume often shows autocorrelation — a high call volume one day might be followed by a similar trend the next.  \n",
    "How: Create lag features like:  \n",
    "calls_lag_1: number of calls on the previous day  \n",
    "calls_lag_7: calls from the same weekday last week  \n",
    "Insight: Helps the model learn short-term patterns and anomalies (e.g., ongoing incidents, seasonal waves, or weekends).  \n",
    "\n"
   ]
  },
  {
   "cell_type": "code",
   "execution_count": 32,
   "id": "7020fcb2",
   "metadata": {},
   "outputs": [
    {
     "data": {
      "text/plain": [
       "dtype('<M8[ns]')"
      ]
     },
     "execution_count": 32,
     "metadata": {},
     "output_type": "execute_result"
    }
   ],
   "source": [
    "# Confirming date is in datetime format\n",
    "df.date.dtype"
   ]
  },
  {
   "cell_type": "code",
   "execution_count": 33,
   "id": "86963542",
   "metadata": {},
   "outputs": [],
   "source": [
    "# Aggregate daily ambulance call volume per borough\n",
    "\n",
    "daily_calls = df.groupby(['date','borough']).agg(\n",
    "            daily_call_vol=('hour','count'),\n",
    "            mean_severity_level=('initial_severity_level_code','mean'),\n",
    "            max_severity_level=('initial_severity_level_code', 'min'),\n",
    "            min_severity=('initial_severity_level_code','max'),\n",
    "            non_urgent_call=('initial_severity_level_code', lambda x: (x>=6).sum()),\n",
    "            day_of_week=('day_of_week','first'),\n",
    "            is_weekend=('is_weekend','first'),\n",
    "            is_holiday=('is_holiday','first')\n",
    ").reset_index()"
   ]
  },
  {
   "cell_type": "code",
   "execution_count": 34,
   "id": "766b624e",
   "metadata": {},
   "outputs": [
    {
     "data": {
      "text/html": [
       "<div>\n",
       "<style scoped>\n",
       "    .dataframe tbody tr th:only-of-type {\n",
       "        vertical-align: middle;\n",
       "    }\n",
       "\n",
       "    .dataframe tbody tr th {\n",
       "        vertical-align: top;\n",
       "    }\n",
       "\n",
       "    .dataframe thead th {\n",
       "        text-align: right;\n",
       "    }\n",
       "</style>\n",
       "<table border=\"1\" class=\"dataframe\">\n",
       "  <thead>\n",
       "    <tr style=\"text-align: right;\">\n",
       "      <th></th>\n",
       "      <th>date</th>\n",
       "      <th>borough</th>\n",
       "      <th>daily_call_vol</th>\n",
       "      <th>mean_severity_level</th>\n",
       "      <th>max_severity_level</th>\n",
       "      <th>min_severity</th>\n",
       "      <th>non_urgent_call</th>\n",
       "      <th>day_of_week</th>\n",
       "      <th>is_weekend</th>\n",
       "      <th>is_holiday</th>\n",
       "    </tr>\n",
       "  </thead>\n",
       "  <tbody>\n",
       "    <tr>\n",
       "      <th>0</th>\n",
       "      <td>2025-01-01</td>\n",
       "      <td>BRONX</td>\n",
       "      <td>954</td>\n",
       "      <td>4.091195</td>\n",
       "      <td>1</td>\n",
       "      <td>7</td>\n",
       "      <td>205</td>\n",
       "      <td>2</td>\n",
       "      <td>0</td>\n",
       "      <td>1</td>\n",
       "    </tr>\n",
       "    <tr>\n",
       "      <th>1</th>\n",
       "      <td>2025-01-01</td>\n",
       "      <td>BROOKLYN</td>\n",
       "      <td>1140</td>\n",
       "      <td>4.160526</td>\n",
       "      <td>1</td>\n",
       "      <td>8</td>\n",
       "      <td>233</td>\n",
       "      <td>2</td>\n",
       "      <td>0</td>\n",
       "      <td>1</td>\n",
       "    </tr>\n",
       "    <tr>\n",
       "      <th>2</th>\n",
       "      <td>2025-01-01</td>\n",
       "      <td>MANHATTAN</td>\n",
       "      <td>1049</td>\n",
       "      <td>4.173499</td>\n",
       "      <td>1</td>\n",
       "      <td>8</td>\n",
       "      <td>205</td>\n",
       "      <td>2</td>\n",
       "      <td>0</td>\n",
       "      <td>1</td>\n",
       "    </tr>\n",
       "    <tr>\n",
       "      <th>3</th>\n",
       "      <td>2025-01-01</td>\n",
       "      <td>QUEENS</td>\n",
       "      <td>890</td>\n",
       "      <td>4.196629</td>\n",
       "      <td>1</td>\n",
       "      <td>8</td>\n",
       "      <td>187</td>\n",
       "      <td>2</td>\n",
       "      <td>0</td>\n",
       "      <td>1</td>\n",
       "    </tr>\n",
       "    <tr>\n",
       "      <th>4</th>\n",
       "      <td>2025-01-01</td>\n",
       "      <td>RICHMOND / STATEN ISLAND</td>\n",
       "      <td>157</td>\n",
       "      <td>4.401274</td>\n",
       "      <td>1</td>\n",
       "      <td>8</td>\n",
       "      <td>40</td>\n",
       "      <td>2</td>\n",
       "      <td>0</td>\n",
       "      <td>1</td>\n",
       "    </tr>\n",
       "  </tbody>\n",
       "</table>\n",
       "</div>"
      ],
      "text/plain": [
       "        date                   borough  daily_call_vol  mean_severity_level  \\\n",
       "0 2025-01-01                     BRONX             954             4.091195   \n",
       "1 2025-01-01                  BROOKLYN            1140             4.160526   \n",
       "2 2025-01-01                 MANHATTAN            1049             4.173499   \n",
       "3 2025-01-01                    QUEENS             890             4.196629   \n",
       "4 2025-01-01  RICHMOND / STATEN ISLAND             157             4.401274   \n",
       "\n",
       "   max_severity_level  min_severity  non_urgent_call  day_of_week  is_weekend  \\\n",
       "0                   1             7              205            2           0   \n",
       "1                   1             8              233            2           0   \n",
       "2                   1             8              205            2           0   \n",
       "3                   1             8              187            2           0   \n",
       "4                   1             8               40            2           0   \n",
       "\n",
       "   is_holiday  \n",
       "0           1  \n",
       "1           1  \n",
       "2           1  \n",
       "3           1  \n",
       "4           1  "
      ]
     },
     "execution_count": 34,
     "metadata": {},
     "output_type": "execute_result"
    }
   ],
   "source": [
    "daily_calls.head()"
   ]
  },
  {
   "cell_type": "code",
   "execution_count": 35,
   "id": "a7f68fb5",
   "metadata": {},
   "outputs": [],
   "source": [
    "# Adding lag features by sorting borough and date\n",
    " \n",
    "daily_calls = daily_calls.sort_values(['borough','date'])\n",
    "daily_calls['lag_1'] = daily_calls.groupby('borough')['daily_call_vol'].shift(1)\n",
    "daily_calls['lag_7'] = daily_calls.groupby('borough')['daily_call_vol'].shift(7)"
   ]
  },
  {
   "cell_type": "code",
   "execution_count": 36,
   "id": "354732d0",
   "metadata": {},
   "outputs": [
    {
     "data": {
      "text/html": [
       "<div>\n",
       "<style scoped>\n",
       "    .dataframe tbody tr th:only-of-type {\n",
       "        vertical-align: middle;\n",
       "    }\n",
       "\n",
       "    .dataframe tbody tr th {\n",
       "        vertical-align: top;\n",
       "    }\n",
       "\n",
       "    .dataframe thead th {\n",
       "        text-align: right;\n",
       "    }\n",
       "</style>\n",
       "<table border=\"1\" class=\"dataframe\">\n",
       "  <thead>\n",
       "    <tr style=\"text-align: right;\">\n",
       "      <th></th>\n",
       "      <th>date</th>\n",
       "      <th>borough</th>\n",
       "      <th>daily_call_vol</th>\n",
       "      <th>mean_severity_level</th>\n",
       "      <th>max_severity_level</th>\n",
       "      <th>min_severity</th>\n",
       "      <th>non_urgent_call</th>\n",
       "      <th>day_of_week</th>\n",
       "      <th>is_weekend</th>\n",
       "      <th>is_holiday</th>\n",
       "      <th>lag_1</th>\n",
       "      <th>lag_7</th>\n",
       "    </tr>\n",
       "  </thead>\n",
       "  <tbody>\n",
       "    <tr>\n",
       "      <th>0</th>\n",
       "      <td>2025-01-01</td>\n",
       "      <td>BRONX</td>\n",
       "      <td>954</td>\n",
       "      <td>4.091195</td>\n",
       "      <td>1</td>\n",
       "      <td>7</td>\n",
       "      <td>205</td>\n",
       "      <td>2</td>\n",
       "      <td>0</td>\n",
       "      <td>1</td>\n",
       "      <td>NaN</td>\n",
       "      <td>NaN</td>\n",
       "    </tr>\n",
       "    <tr>\n",
       "      <th>35</th>\n",
       "      <td>2025-01-08</td>\n",
       "      <td>BRONX</td>\n",
       "      <td>998</td>\n",
       "      <td>4.113226</td>\n",
       "      <td>1</td>\n",
       "      <td>8</td>\n",
       "      <td>256</td>\n",
       "      <td>2</td>\n",
       "      <td>0</td>\n",
       "      <td>0</td>\n",
       "      <td>1092.0</td>\n",
       "      <td>954.0</td>\n",
       "    </tr>\n",
       "    <tr>\n",
       "      <th>70</th>\n",
       "      <td>2025-01-15</td>\n",
       "      <td>BRONX</td>\n",
       "      <td>1114</td>\n",
       "      <td>4.192101</td>\n",
       "      <td>1</td>\n",
       "      <td>8</td>\n",
       "      <td>274</td>\n",
       "      <td>2</td>\n",
       "      <td>0</td>\n",
       "      <td>0</td>\n",
       "      <td>1095.0</td>\n",
       "      <td>998.0</td>\n",
       "    </tr>\n",
       "    <tr>\n",
       "      <th>105</th>\n",
       "      <td>2025-01-22</td>\n",
       "      <td>BRONX</td>\n",
       "      <td>1042</td>\n",
       "      <td>4.216891</td>\n",
       "      <td>1</td>\n",
       "      <td>8</td>\n",
       "      <td>283</td>\n",
       "      <td>2</td>\n",
       "      <td>0</td>\n",
       "      <td>0</td>\n",
       "      <td>1127.0</td>\n",
       "      <td>1114.0</td>\n",
       "    </tr>\n",
       "    <tr>\n",
       "      <th>140</th>\n",
       "      <td>2025-01-29</td>\n",
       "      <td>BRONX</td>\n",
       "      <td>1051</td>\n",
       "      <td>4.139867</td>\n",
       "      <td>1</td>\n",
       "      <td>8</td>\n",
       "      <td>273</td>\n",
       "      <td>2</td>\n",
       "      <td>0</td>\n",
       "      <td>0</td>\n",
       "      <td>1092.0</td>\n",
       "      <td>1042.0</td>\n",
       "    </tr>\n",
       "    <tr>\n",
       "      <th>175</th>\n",
       "      <td>2025-02-05</td>\n",
       "      <td>BRONX</td>\n",
       "      <td>1044</td>\n",
       "      <td>4.249042</td>\n",
       "      <td>1</td>\n",
       "      <td>8</td>\n",
       "      <td>273</td>\n",
       "      <td>2</td>\n",
       "      <td>0</td>\n",
       "      <td>0</td>\n",
       "      <td>1083.0</td>\n",
       "      <td>1051.0</td>\n",
       "    </tr>\n",
       "    <tr>\n",
       "      <th>210</th>\n",
       "      <td>2025-02-12</td>\n",
       "      <td>BRONX</td>\n",
       "      <td>1014</td>\n",
       "      <td>4.214990</td>\n",
       "      <td>1</td>\n",
       "      <td>8</td>\n",
       "      <td>267</td>\n",
       "      <td>2</td>\n",
       "      <td>0</td>\n",
       "      <td>0</td>\n",
       "      <td>1072.0</td>\n",
       "      <td>1044.0</td>\n",
       "    </tr>\n",
       "    <tr>\n",
       "      <th>245</th>\n",
       "      <td>2025-02-19</td>\n",
       "      <td>BRONX</td>\n",
       "      <td>995</td>\n",
       "      <td>4.181910</td>\n",
       "      <td>1</td>\n",
       "      <td>8</td>\n",
       "      <td>253</td>\n",
       "      <td>2</td>\n",
       "      <td>0</td>\n",
       "      <td>0</td>\n",
       "      <td>1018.0</td>\n",
       "      <td>1014.0</td>\n",
       "    </tr>\n",
       "  </tbody>\n",
       "</table>\n",
       "</div>"
      ],
      "text/plain": [
       "          date borough  daily_call_vol  mean_severity_level  \\\n",
       "0   2025-01-01   BRONX             954             4.091195   \n",
       "35  2025-01-08   BRONX             998             4.113226   \n",
       "70  2025-01-15   BRONX            1114             4.192101   \n",
       "105 2025-01-22   BRONX            1042             4.216891   \n",
       "140 2025-01-29   BRONX            1051             4.139867   \n",
       "175 2025-02-05   BRONX            1044             4.249042   \n",
       "210 2025-02-12   BRONX            1014             4.214990   \n",
       "245 2025-02-19   BRONX             995             4.181910   \n",
       "\n",
       "     max_severity_level  min_severity  non_urgent_call  day_of_week  \\\n",
       "0                     1             7              205            2   \n",
       "35                    1             8              256            2   \n",
       "70                    1             8              274            2   \n",
       "105                   1             8              283            2   \n",
       "140                   1             8              273            2   \n",
       "175                   1             8              273            2   \n",
       "210                   1             8              267            2   \n",
       "245                   1             8              253            2   \n",
       "\n",
       "     is_weekend  is_holiday   lag_1   lag_7  \n",
       "0             0           1     NaN     NaN  \n",
       "35            0           0  1092.0   954.0  \n",
       "70            0           0  1095.0   998.0  \n",
       "105           0           0  1127.0  1114.0  \n",
       "140           0           0  1092.0  1042.0  \n",
       "175           0           0  1083.0  1051.0  \n",
       "210           0           0  1072.0  1044.0  \n",
       "245           0           0  1018.0  1014.0  "
      ]
     },
     "execution_count": 36,
     "metadata": {},
     "output_type": "execute_result"
    }
   ],
   "source": [
    "daily_calls.iloc[0:56:7]"
   ]
  },
  {
   "cell_type": "code",
   "execution_count": 37,
   "id": "2e36b4d8",
   "metadata": {},
   "outputs": [
    {
     "data": {
      "text/plain": [
       "(575, 12)"
      ]
     },
     "execution_count": 37,
     "metadata": {},
     "output_type": "execute_result"
    }
   ],
   "source": [
    "daily_calls.shape"
   ]
  },
  {
   "cell_type": "code",
   "execution_count": 38,
   "id": "03d322ce",
   "metadata": {},
   "outputs": [
    {
     "data": {
      "text/plain": [
       "date                   datetime64[ns]\n",
       "borough                        object\n",
       "daily_call_vol                  int64\n",
       "mean_severity_level           float64\n",
       "max_severity_level              int64\n",
       "min_severity                    int64\n",
       "non_urgent_call                 int64\n",
       "day_of_week                     int32\n",
       "is_weekend                      int64\n",
       "is_holiday                      int64\n",
       "lag_1                         float64\n",
       "lag_7                         float64\n",
       "dtype: object"
      ]
     },
     "execution_count": 38,
     "metadata": {},
     "output_type": "execute_result"
    }
   ],
   "source": [
    "daily_calls.dtypes"
   ]
  },
  {
   "cell_type": "code",
   "execution_count": 39,
   "id": "8be5a828",
   "metadata": {},
   "outputs": [
    {
     "data": {
      "text/plain": [
       "date                    0\n",
       "borough                 0\n",
       "daily_call_vol          0\n",
       "mean_severity_level     0\n",
       "max_severity_level      0\n",
       "min_severity            0\n",
       "non_urgent_call         0\n",
       "day_of_week             0\n",
       "is_weekend              0\n",
       "is_holiday              0\n",
       "lag_1                   5\n",
       "lag_7                  35\n",
       "dtype: int64"
      ]
     },
     "execution_count": 39,
     "metadata": {},
     "output_type": "execute_result"
    }
   ],
   "source": [
    "# Checking for missing values\n",
    "daily_calls.isna().sum()"
   ]
  },
  {
   "cell_type": "markdown",
   "id": "52fb52a4",
   "metadata": {},
   "source": [
    "**Standardizing Borough Names**\n",
    "\n",
    "Before merging the daily calls and weather datasets, we need to ensure that the borough names are consistent.  \n",
    "\n",
    "- The `daily_call` DataFrame has borough names in **all caps**, while `weather_daily` uses **title case**.  \n",
    "- To avoid merge mismatches, we **normalize the strings** by converting them to title case and trimming any whitespace."
   ]
  },
  {
   "cell_type": "code",
   "execution_count": 40,
   "id": "79b67e2a",
   "metadata": {},
   "outputs": [
    {
     "data": {
      "text/plain": [
       "array(['BRONX', 'BROOKLYN', 'MANHATTAN', 'QUEENS',\n",
       "       'RICHMOND / STATEN ISLAND'], dtype=object)"
      ]
     },
     "execution_count": 40,
     "metadata": {},
     "output_type": "execute_result"
    }
   ],
   "source": [
    "# Checking for string consistency: \n",
    "daily_calls.borough.unique()"
   ]
  },
  {
   "cell_type": "code",
   "execution_count": 41,
   "id": "4151dc57",
   "metadata": {},
   "outputs": [],
   "source": [
    "# Standardize borough names in daily_calls\n",
    "daily_calls['borough'] =daily_calls['borough'].str.strip().str.title()"
   ]
  },
  {
   "cell_type": "code",
   "execution_count": 42,
   "id": "6f035fa3",
   "metadata": {},
   "outputs": [
    {
     "data": {
      "text/plain": [
       "array(['Bronx', 'Brooklyn', 'Manhattan', 'Queens',\n",
       "       'Richmond / Staten Island'], dtype=object)"
      ]
     },
     "execution_count": 42,
     "metadata": {},
     "output_type": "execute_result"
    }
   ],
   "source": [
    "daily_calls.borough.unique()"
   ]
  },
  {
   "cell_type": "markdown",
   "id": "796a2b3e",
   "metadata": {},
   "source": [
    "**In the `daily_call` dataset, Staten Island is labeled as `'Richmond / Staten Island'`.  \n",
    "To ensure consistency with the `weather_daily` dataset, we replace it with the standard name `'Staten Island'`.**"
   ]
  },
  {
   "cell_type": "code",
   "execution_count": 43,
   "id": "bf61f9e3",
   "metadata": {},
   "outputs": [],
   "source": [
    "daily_calls['borough'] = daily_calls['borough'].replace({'Richmond / Staten Island':'Staten Island'})"
   ]
  },
  {
   "cell_type": "code",
   "execution_count": 44,
   "id": "15e13805",
   "metadata": {},
   "outputs": [
    {
     "data": {
      "text/plain": [
       "array(['Bronx', 'Brooklyn', 'Manhattan', 'Queens', 'Staten Island'],\n",
       "      dtype=object)"
      ]
     },
     "execution_count": 44,
     "metadata": {},
     "output_type": "execute_result"
    }
   ],
   "source": [
    "daily_calls.borough.unique()"
   ]
  },
  {
   "cell_type": "code",
   "execution_count": 45,
   "id": "4231dfac",
   "metadata": {},
   "outputs": [],
   "source": [
    "# Saving it as csv file before joining weather data\n",
    "daily_calls.to_csv('daily_ambulance_calls.csv')"
   ]
  },
  {
   "cell_type": "markdown",
   "id": "e1a5dbb8",
   "metadata": {},
   "source": [
    "## Adding weather Data in Ambulance Call Prediction\n",
    "Weather conditions can have a direct and indirect impact on ambulance call volumes. Adding weather data enriches the feature space with external, real-world influences that the model can learn from. While it’s not always the dominant factor, weather adds important context, especially during extreme or seasonal changes."
   ]
  },
  {
   "cell_type": "markdown",
   "id": "e48d9c94",
   "metadata": {},
   "source": [
    "## Weather Data Summary  \n",
    "To add environmental context to the ambulance call data, we collected daily weather data in a different notebook,from January 1 to April 30, 2025 using We use the Open-Meteo **archive API** to get hourly weather data for all five NYC boroughs from **2025-01-01 to 2025-04-30**.  \n",
    "The variables we collect are:\n",
    "\n",
    "- `temperature_2m` — hourly temperature (°C)  \n",
    "- `precipitation` — hourly precipitation (mm)  \n",
    "- `snowfall` — new snow per hour (cm)  \n",
    "- `snow_depth` — total snow on ground (cm)  \n",
    "\n",
    "We store each borough’s data in a DataFrame and combine them into a single CSV(**'nyc_boroughs_weather.csv'**) for reproducibility.\n"
   ]
  },
  {
   "cell_type": "code",
   "execution_count": 46,
   "id": "bf9b658a",
   "metadata": {},
   "outputs": [],
   "source": [
    "# Load weather data \n",
    "weather = pd.read_csv('nyc_boroughs_weather.csv')"
   ]
  },
  {
   "cell_type": "code",
   "execution_count": 47,
   "id": "5688fb22",
   "metadata": {},
   "outputs": [
    {
     "data": {
      "text/html": [
       "<div>\n",
       "<style scoped>\n",
       "    .dataframe tbody tr th:only-of-type {\n",
       "        vertical-align: middle;\n",
       "    }\n",
       "\n",
       "    .dataframe tbody tr th {\n",
       "        vertical-align: top;\n",
       "    }\n",
       "\n",
       "    .dataframe thead th {\n",
       "        text-align: right;\n",
       "    }\n",
       "</style>\n",
       "<table border=\"1\" class=\"dataframe\">\n",
       "  <thead>\n",
       "    <tr style=\"text-align: right;\">\n",
       "      <th></th>\n",
       "      <th>time</th>\n",
       "      <th>temperature_2m</th>\n",
       "      <th>precipitation</th>\n",
       "      <th>snowfall</th>\n",
       "      <th>snow_depth</th>\n",
       "      <th>borough</th>\n",
       "    </tr>\n",
       "  </thead>\n",
       "  <tbody>\n",
       "    <tr>\n",
       "      <th>3025</th>\n",
       "      <td>2025-01-07 01:00:00</td>\n",
       "      <td>-6.7</td>\n",
       "      <td>0.0</td>\n",
       "      <td>0.0</td>\n",
       "      <td>0.02</td>\n",
       "      <td>Brooklyn</td>\n",
       "    </tr>\n",
       "    <tr>\n",
       "      <th>7182</th>\n",
       "      <td>2025-03-01 06:00:00</td>\n",
       "      <td>5.8</td>\n",
       "      <td>0.0</td>\n",
       "      <td>0.0</td>\n",
       "      <td>0.00</td>\n",
       "      <td>Queens</td>\n",
       "    </tr>\n",
       "    <tr>\n",
       "      <th>3492</th>\n",
       "      <td>2025-01-26 12:00:00</td>\n",
       "      <td>2.4</td>\n",
       "      <td>0.0</td>\n",
       "      <td>0.0</td>\n",
       "      <td>0.04</td>\n",
       "      <td>Brooklyn</td>\n",
       "    </tr>\n",
       "    <tr>\n",
       "      <th>6685</th>\n",
       "      <td>2025-02-08 13:00:00</td>\n",
       "      <td>0.3</td>\n",
       "      <td>0.0</td>\n",
       "      <td>0.0</td>\n",
       "      <td>0.01</td>\n",
       "      <td>Queens</td>\n",
       "    </tr>\n",
       "    <tr>\n",
       "      <th>9099</th>\n",
       "      <td>2025-01-20 03:00:00</td>\n",
       "      <td>-4.9</td>\n",
       "      <td>0.0</td>\n",
       "      <td>0.0</td>\n",
       "      <td>0.05</td>\n",
       "      <td>Bronx</td>\n",
       "    </tr>\n",
       "    <tr>\n",
       "      <th>11672</th>\n",
       "      <td>2025-01-07 08:00:00</td>\n",
       "      <td>-6.4</td>\n",
       "      <td>0.0</td>\n",
       "      <td>0.0</td>\n",
       "      <td>0.02</td>\n",
       "      <td>Staten Island</td>\n",
       "    </tr>\n",
       "    <tr>\n",
       "      <th>10297</th>\n",
       "      <td>2025-03-11 01:00:00</td>\n",
       "      <td>7.9</td>\n",
       "      <td>0.0</td>\n",
       "      <td>0.0</td>\n",
       "      <td>0.00</td>\n",
       "      <td>Bronx</td>\n",
       "    </tr>\n",
       "    <tr>\n",
       "      <th>3860</th>\n",
       "      <td>2025-02-10 20:00:00</td>\n",
       "      <td>-3.6</td>\n",
       "      <td>0.0</td>\n",
       "      <td>0.0</td>\n",
       "      <td>0.06</td>\n",
       "      <td>Brooklyn</td>\n",
       "    </tr>\n",
       "    <tr>\n",
       "      <th>6178</th>\n",
       "      <td>2025-01-18 10:00:00</td>\n",
       "      <td>5.5</td>\n",
       "      <td>0.0</td>\n",
       "      <td>0.0</td>\n",
       "      <td>0.01</td>\n",
       "      <td>Queens</td>\n",
       "    </tr>\n",
       "    <tr>\n",
       "      <th>2861</th>\n",
       "      <td>2025-04-30 05:00:00</td>\n",
       "      <td>19.8</td>\n",
       "      <td>0.0</td>\n",
       "      <td>0.0</td>\n",
       "      <td>0.00</td>\n",
       "      <td>Manhattan</td>\n",
       "    </tr>\n",
       "  </tbody>\n",
       "</table>\n",
       "</div>"
      ],
      "text/plain": [
       "                      time  temperature_2m  precipitation  snowfall  \\\n",
       "3025   2025-01-07 01:00:00            -6.7            0.0       0.0   \n",
       "7182   2025-03-01 06:00:00             5.8            0.0       0.0   \n",
       "3492   2025-01-26 12:00:00             2.4            0.0       0.0   \n",
       "6685   2025-02-08 13:00:00             0.3            0.0       0.0   \n",
       "9099   2025-01-20 03:00:00            -4.9            0.0       0.0   \n",
       "11672  2025-01-07 08:00:00            -6.4            0.0       0.0   \n",
       "10297  2025-03-11 01:00:00             7.9            0.0       0.0   \n",
       "3860   2025-02-10 20:00:00            -3.6            0.0       0.0   \n",
       "6178   2025-01-18 10:00:00             5.5            0.0       0.0   \n",
       "2861   2025-04-30 05:00:00            19.8            0.0       0.0   \n",
       "\n",
       "       snow_depth        borough  \n",
       "3025         0.02       Brooklyn  \n",
       "7182         0.00         Queens  \n",
       "3492         0.04       Brooklyn  \n",
       "6685         0.01         Queens  \n",
       "9099         0.05          Bronx  \n",
       "11672        0.02  Staten Island  \n",
       "10297        0.00          Bronx  \n",
       "3860         0.06       Brooklyn  \n",
       "6178         0.01         Queens  \n",
       "2861         0.00      Manhattan  "
      ]
     },
     "execution_count": 47,
     "metadata": {},
     "output_type": "execute_result"
    }
   ],
   "source": [
    "# Randomly selecting 10 rows\n",
    "weather.sample(n=10, random_state=42)"
   ]
  },
  {
   "cell_type": "code",
   "execution_count": 48,
   "id": "e6591803",
   "metadata": {},
   "outputs": [],
   "source": [
    "# Convert temperature columns to Farenheit from Celsius (F = C * 9/5 + 32)\n",
    "\n",
    "weather['temperature_2m'] = weather['temperature_2m']* 9/5 + 32"
   ]
  },
  {
   "cell_type": "code",
   "execution_count": 49,
   "id": "018a202a",
   "metadata": {},
   "outputs": [
    {
     "data": {
      "text/html": [
       "<div>\n",
       "<style scoped>\n",
       "    .dataframe tbody tr th:only-of-type {\n",
       "        vertical-align: middle;\n",
       "    }\n",
       "\n",
       "    .dataframe tbody tr th {\n",
       "        vertical-align: top;\n",
       "    }\n",
       "\n",
       "    .dataframe thead th {\n",
       "        text-align: right;\n",
       "    }\n",
       "</style>\n",
       "<table border=\"1\" class=\"dataframe\">\n",
       "  <thead>\n",
       "    <tr style=\"text-align: right;\">\n",
       "      <th></th>\n",
       "      <th>time</th>\n",
       "      <th>temperature_2m</th>\n",
       "      <th>precipitation</th>\n",
       "      <th>snowfall</th>\n",
       "      <th>snow_depth</th>\n",
       "      <th>borough</th>\n",
       "    </tr>\n",
       "  </thead>\n",
       "  <tbody>\n",
       "    <tr>\n",
       "      <th>0</th>\n",
       "      <td>2025-01-01 00:00:00</td>\n",
       "      <td>45.32</td>\n",
       "      <td>3.7</td>\n",
       "      <td>0.0</td>\n",
       "      <td>0.0</td>\n",
       "      <td>Manhattan</td>\n",
       "    </tr>\n",
       "    <tr>\n",
       "      <th>1</th>\n",
       "      <td>2025-01-01 01:00:00</td>\n",
       "      <td>46.58</td>\n",
       "      <td>0.9</td>\n",
       "      <td>0.0</td>\n",
       "      <td>0.0</td>\n",
       "      <td>Manhattan</td>\n",
       "    </tr>\n",
       "    <tr>\n",
       "      <th>2</th>\n",
       "      <td>2025-01-01 02:00:00</td>\n",
       "      <td>47.30</td>\n",
       "      <td>0.0</td>\n",
       "      <td>0.0</td>\n",
       "      <td>0.0</td>\n",
       "      <td>Manhattan</td>\n",
       "    </tr>\n",
       "    <tr>\n",
       "      <th>3</th>\n",
       "      <td>2025-01-01 03:00:00</td>\n",
       "      <td>47.84</td>\n",
       "      <td>0.0</td>\n",
       "      <td>0.0</td>\n",
       "      <td>0.0</td>\n",
       "      <td>Manhattan</td>\n",
       "    </tr>\n",
       "    <tr>\n",
       "      <th>4</th>\n",
       "      <td>2025-01-01 04:00:00</td>\n",
       "      <td>47.84</td>\n",
       "      <td>0.0</td>\n",
       "      <td>0.0</td>\n",
       "      <td>0.0</td>\n",
       "      <td>Manhattan</td>\n",
       "    </tr>\n",
       "  </tbody>\n",
       "</table>\n",
       "</div>"
      ],
      "text/plain": [
       "                  time  temperature_2m  precipitation  snowfall  snow_depth  \\\n",
       "0  2025-01-01 00:00:00           45.32            3.7       0.0         0.0   \n",
       "1  2025-01-01 01:00:00           46.58            0.9       0.0         0.0   \n",
       "2  2025-01-01 02:00:00           47.30            0.0       0.0         0.0   \n",
       "3  2025-01-01 03:00:00           47.84            0.0       0.0         0.0   \n",
       "4  2025-01-01 04:00:00           47.84            0.0       0.0         0.0   \n",
       "\n",
       "     borough  \n",
       "0  Manhattan  \n",
       "1  Manhattan  \n",
       "2  Manhattan  \n",
       "3  Manhattan  \n",
       "4  Manhattan  "
      ]
     },
     "execution_count": 49,
     "metadata": {},
     "output_type": "execute_result"
    }
   ],
   "source": [
    "weather.head()"
   ]
  },
  {
   "cell_type": "code",
   "execution_count": 50,
   "id": "b79dfbcd",
   "metadata": {},
   "outputs": [
    {
     "data": {
      "text/plain": [
       "(14400, 6)"
      ]
     },
     "execution_count": 50,
     "metadata": {},
     "output_type": "execute_result"
    }
   ],
   "source": [
    "weather.shape"
   ]
  },
  {
   "cell_type": "code",
   "execution_count": 51,
   "id": "dad877ef",
   "metadata": {},
   "outputs": [
    {
     "data": {
      "text/plain": [
       "time               object\n",
       "temperature_2m    float64\n",
       "precipitation     float64\n",
       "snowfall          float64\n",
       "snow_depth        float64\n",
       "borough            object\n",
       "dtype: object"
      ]
     },
     "execution_count": 51,
     "metadata": {},
     "output_type": "execute_result"
    }
   ],
   "source": [
    "# Weather data type\n",
    "weather.dtypes"
   ]
  },
  {
   "cell_type": "markdown",
   "id": "58207e6f",
   "metadata": {},
   "source": [
    "**Change weather 'time' to to_datetime and and add 'date' column**"
   ]
  },
  {
   "cell_type": "code",
   "execution_count": 52,
   "id": "bf9664bb",
   "metadata": {},
   "outputs": [],
   "source": [
    "# Convert 'time' to datetime\n",
    "weather['time'] = pd.to_datetime(weather['time'])\n",
    "\n",
    "# Rename column to 'date'\n",
    "weather.rename(columns={'time':'date'}, inplace=True)\n",
    "\n",
    "# Reset index\n",
    "weather.set_index('date', inplace = True)"
   ]
  },
  {
   "cell_type": "markdown",
   "id": "2b306dac",
   "metadata": {},
   "source": [
    "**Resample Hourly Weather Data to Daily**\n",
    "\n",
    "The ambulance call data is **daily**, so we aggregate hourly weather to daily values (**mean**) to match the target frequency.  \n",
    "Daily aggregation reduces noise from hourly fluctuations and makes features like average temperature, total precipitation, or snow depth easier for the model to use."
   ]
  },
  {
   "cell_type": "code",
   "execution_count": 53,
   "id": "70c8fc17",
   "metadata": {
    "scrolled": true
   },
   "outputs": [
    {
     "name": "stderr",
     "output_type": "stream",
     "text": [
      "/var/folders/f3/hdbg9f_j0cn761_jtcpg4pkr0000gn/T/ipykernel_4433/3532421393.py:4: FutureWarning: DataFrameGroupBy.resample operated on the grouping columns. This behavior is deprecated, and in a future version of pandas the grouping columns will be excluded from the operation. Either pass `include_groups=False` to exclude the groupings or explicitly select the grouping columns after groupby to silence this warning.\n",
      "  .agg(\n"
     ]
    },
    {
     "data": {
      "text/html": [
       "<div>\n",
       "<style scoped>\n",
       "    .dataframe tbody tr th:only-of-type {\n",
       "        vertical-align: middle;\n",
       "    }\n",
       "\n",
       "    .dataframe tbody tr th {\n",
       "        vertical-align: top;\n",
       "    }\n",
       "\n",
       "    .dataframe thead th {\n",
       "        text-align: right;\n",
       "    }\n",
       "</style>\n",
       "<table border=\"1\" class=\"dataframe\">\n",
       "  <thead>\n",
       "    <tr style=\"text-align: right;\">\n",
       "      <th></th>\n",
       "      <th>borough</th>\n",
       "      <th>date</th>\n",
       "      <th>temp</th>\n",
       "      <th>precp</th>\n",
       "      <th>snowfall</th>\n",
       "      <th>snow_depth</th>\n",
       "    </tr>\n",
       "  </thead>\n",
       "  <tbody>\n",
       "    <tr>\n",
       "      <th>0</th>\n",
       "      <td>Bronx</td>\n",
       "      <td>2025-01-01</td>\n",
       "      <td>45.3200</td>\n",
       "      <td>0.254167</td>\n",
       "      <td>0.0</td>\n",
       "      <td>0.0</td>\n",
       "    </tr>\n",
       "    <tr>\n",
       "      <th>1</th>\n",
       "      <td>Bronx</td>\n",
       "      <td>2025-01-02</td>\n",
       "      <td>37.1300</td>\n",
       "      <td>0.000000</td>\n",
       "      <td>0.0</td>\n",
       "      <td>0.0</td>\n",
       "    </tr>\n",
       "    <tr>\n",
       "      <th>2</th>\n",
       "      <td>Bronx</td>\n",
       "      <td>2025-01-03</td>\n",
       "      <td>32.9825</td>\n",
       "      <td>0.000000</td>\n",
       "      <td>0.0</td>\n",
       "      <td>0.0</td>\n",
       "    </tr>\n",
       "    <tr>\n",
       "      <th>3</th>\n",
       "      <td>Bronx</td>\n",
       "      <td>2025-01-04</td>\n",
       "      <td>29.6975</td>\n",
       "      <td>0.000000</td>\n",
       "      <td>0.0</td>\n",
       "      <td>0.0</td>\n",
       "    </tr>\n",
       "    <tr>\n",
       "      <th>4</th>\n",
       "      <td>Bronx</td>\n",
       "      <td>2025-01-05</td>\n",
       "      <td>28.5650</td>\n",
       "      <td>0.000000</td>\n",
       "      <td>0.0</td>\n",
       "      <td>0.0</td>\n",
       "    </tr>\n",
       "  </tbody>\n",
       "</table>\n",
       "</div>"
      ],
      "text/plain": [
       "  borough       date     temp     precp  snowfall  snow_depth\n",
       "0   Bronx 2025-01-01  45.3200  0.254167       0.0         0.0\n",
       "1   Bronx 2025-01-02  37.1300  0.000000       0.0         0.0\n",
       "2   Bronx 2025-01-03  32.9825  0.000000       0.0         0.0\n",
       "3   Bronx 2025-01-04  29.6975  0.000000       0.0         0.0\n",
       "4   Bronx 2025-01-05  28.5650  0.000000       0.0         0.0"
      ]
     },
     "execution_count": 53,
     "metadata": {},
     "output_type": "execute_result"
    }
   ],
   "source": [
    "# Resampling data to daily\n",
    "weather_daily = (weather.groupby('borough')\n",
    "                .resample('D')\n",
    "                .agg(\n",
    "                temp =('temperature_2m','mean',),\n",
    "                precp = ('precipitation', 'mean'),\n",
    "                snowfall = ('snowfall','mean'),\n",
    "                snow_depth =('snow_depth', 'mean')\n",
    "                )\n",
    "                 .reset_index()\n",
    "                )\n",
    "weather_daily.head()    "
   ]
  },
  {
   "cell_type": "code",
   "execution_count": 54,
   "id": "e8b9447d",
   "metadata": {},
   "outputs": [
    {
     "data": {
      "text/plain": [
       "(600, 6)"
      ]
     },
     "execution_count": 54,
     "metadata": {},
     "output_type": "execute_result"
    }
   ],
   "source": [
    "weather_daily.shape"
   ]
  },
  {
   "cell_type": "code",
   "execution_count": 55,
   "id": "3e6a5699",
   "metadata": {},
   "outputs": [
    {
     "data": {
      "text/plain": [
       "borough       0\n",
       "date          0\n",
       "temp          0\n",
       "precp         0\n",
       "snowfall      0\n",
       "snow_depth    0\n",
       "dtype: int64"
      ]
     },
     "execution_count": 55,
     "metadata": {},
     "output_type": "execute_result"
    }
   ],
   "source": [
    "# Check weather_daily for missing values \n",
    "weather_daily.isna().sum()"
   ]
  },
  {
   "cell_type": "code",
   "execution_count": 56,
   "id": "7c3b61a1",
   "metadata": {},
   "outputs": [
    {
     "data": {
      "text/plain": [
       "array(['Bronx', 'Brooklyn', 'Manhattan', 'Queens', 'Staten Island'],\n",
       "      dtype=object)"
      ]
     },
     "execution_count": 56,
     "metadata": {},
     "output_type": "execute_result"
    }
   ],
   "source": [
    "# checking for string consistancy\n",
    "weather_daily.borough.unique()"
   ]
  },
  {
   "cell_type": "markdown",
   "id": "03f87d7d",
   "metadata": {},
   "source": [
    "**Merge Weather with Daily Ambulance Calls**\n",
    "\n",
    "The `weather_daily` dataset has **no missing values** and is now ready to be merged with `daily_calls` on `date` and `borough` using a **left join** to preserve all ambulance records."
   ]
  },
  {
   "cell_type": "code",
   "execution_count": null,
   "id": "d8853340",
   "metadata": {},
   "outputs": [],
   "source": []
  },
  {
   "cell_type": "code",
   "execution_count": 57,
   "id": "d245a4c7",
   "metadata": {},
   "outputs": [],
   "source": [
    "# Merge weather_daily with daily_calls to 'daily-amb-calls'\n",
    "\n",
    "daily_amb_calls = daily_calls.merge(weather_daily, on=['date','borough'], how='left')"
   ]
  },
  {
   "cell_type": "code",
   "execution_count": 58,
   "id": "71caf45b",
   "metadata": {},
   "outputs": [
    {
     "data": {
      "text/html": [
       "<div>\n",
       "<style scoped>\n",
       "    .dataframe tbody tr th:only-of-type {\n",
       "        vertical-align: middle;\n",
       "    }\n",
       "\n",
       "    .dataframe tbody tr th {\n",
       "        vertical-align: top;\n",
       "    }\n",
       "\n",
       "    .dataframe thead th {\n",
       "        text-align: right;\n",
       "    }\n",
       "</style>\n",
       "<table border=\"1\" class=\"dataframe\">\n",
       "  <thead>\n",
       "    <tr style=\"text-align: right;\">\n",
       "      <th></th>\n",
       "      <th>date</th>\n",
       "      <th>borough</th>\n",
       "      <th>daily_call_vol</th>\n",
       "      <th>mean_severity_level</th>\n",
       "      <th>max_severity_level</th>\n",
       "      <th>min_severity</th>\n",
       "      <th>non_urgent_call</th>\n",
       "      <th>day_of_week</th>\n",
       "      <th>is_weekend</th>\n",
       "      <th>is_holiday</th>\n",
       "      <th>lag_1</th>\n",
       "      <th>lag_7</th>\n",
       "      <th>temp</th>\n",
       "      <th>precp</th>\n",
       "      <th>snowfall</th>\n",
       "      <th>snow_depth</th>\n",
       "    </tr>\n",
       "  </thead>\n",
       "  <tbody>\n",
       "    <tr>\n",
       "      <th>0</th>\n",
       "      <td>2025-01-01</td>\n",
       "      <td>Bronx</td>\n",
       "      <td>954</td>\n",
       "      <td>4.091195</td>\n",
       "      <td>1</td>\n",
       "      <td>7</td>\n",
       "      <td>205</td>\n",
       "      <td>2</td>\n",
       "      <td>0</td>\n",
       "      <td>1</td>\n",
       "      <td>NaN</td>\n",
       "      <td>NaN</td>\n",
       "      <td>45.3200</td>\n",
       "      <td>0.254167</td>\n",
       "      <td>0.0</td>\n",
       "      <td>0.0</td>\n",
       "    </tr>\n",
       "    <tr>\n",
       "      <th>1</th>\n",
       "      <td>2025-01-02</td>\n",
       "      <td>Bronx</td>\n",
       "      <td>1116</td>\n",
       "      <td>4.144265</td>\n",
       "      <td>1</td>\n",
       "      <td>8</td>\n",
       "      <td>278</td>\n",
       "      <td>3</td>\n",
       "      <td>0</td>\n",
       "      <td>0</td>\n",
       "      <td>954.0</td>\n",
       "      <td>NaN</td>\n",
       "      <td>37.1300</td>\n",
       "      <td>0.000000</td>\n",
       "      <td>0.0</td>\n",
       "      <td>0.0</td>\n",
       "    </tr>\n",
       "    <tr>\n",
       "      <th>2</th>\n",
       "      <td>2025-01-03</td>\n",
       "      <td>Bronx</td>\n",
       "      <td>1116</td>\n",
       "      <td>4.229391</td>\n",
       "      <td>1</td>\n",
       "      <td>8</td>\n",
       "      <td>276</td>\n",
       "      <td>4</td>\n",
       "      <td>0</td>\n",
       "      <td>0</td>\n",
       "      <td>1116.0</td>\n",
       "      <td>NaN</td>\n",
       "      <td>32.9825</td>\n",
       "      <td>0.000000</td>\n",
       "      <td>0.0</td>\n",
       "      <td>0.0</td>\n",
       "    </tr>\n",
       "    <tr>\n",
       "      <th>3</th>\n",
       "      <td>2025-01-04</td>\n",
       "      <td>Bronx</td>\n",
       "      <td>1035</td>\n",
       "      <td>4.173913</td>\n",
       "      <td>1</td>\n",
       "      <td>8</td>\n",
       "      <td>231</td>\n",
       "      <td>5</td>\n",
       "      <td>1</td>\n",
       "      <td>0</td>\n",
       "      <td>1116.0</td>\n",
       "      <td>NaN</td>\n",
       "      <td>29.6975</td>\n",
       "      <td>0.000000</td>\n",
       "      <td>0.0</td>\n",
       "      <td>0.0</td>\n",
       "    </tr>\n",
       "    <tr>\n",
       "      <th>4</th>\n",
       "      <td>2025-01-05</td>\n",
       "      <td>Bronx</td>\n",
       "      <td>964</td>\n",
       "      <td>4.117220</td>\n",
       "      <td>1</td>\n",
       "      <td>8</td>\n",
       "      <td>237</td>\n",
       "      <td>6</td>\n",
       "      <td>1</td>\n",
       "      <td>0</td>\n",
       "      <td>1035.0</td>\n",
       "      <td>NaN</td>\n",
       "      <td>28.5650</td>\n",
       "      <td>0.000000</td>\n",
       "      <td>0.0</td>\n",
       "      <td>0.0</td>\n",
       "    </tr>\n",
       "  </tbody>\n",
       "</table>\n",
       "</div>"
      ],
      "text/plain": [
       "        date borough  daily_call_vol  mean_severity_level  max_severity_level  \\\n",
       "0 2025-01-01   Bronx             954             4.091195                   1   \n",
       "1 2025-01-02   Bronx            1116             4.144265                   1   \n",
       "2 2025-01-03   Bronx            1116             4.229391                   1   \n",
       "3 2025-01-04   Bronx            1035             4.173913                   1   \n",
       "4 2025-01-05   Bronx             964             4.117220                   1   \n",
       "\n",
       "   min_severity  non_urgent_call  day_of_week  is_weekend  is_holiday   lag_1  \\\n",
       "0             7              205            2           0           1     NaN   \n",
       "1             8              278            3           0           0   954.0   \n",
       "2             8              276            4           0           0  1116.0   \n",
       "3             8              231            5           1           0  1116.0   \n",
       "4             8              237            6           1           0  1035.0   \n",
       "\n",
       "   lag_7     temp     precp  snowfall  snow_depth  \n",
       "0    NaN  45.3200  0.254167       0.0         0.0  \n",
       "1    NaN  37.1300  0.000000       0.0         0.0  \n",
       "2    NaN  32.9825  0.000000       0.0         0.0  \n",
       "3    NaN  29.6975  0.000000       0.0         0.0  \n",
       "4    NaN  28.5650  0.000000       0.0         0.0  "
      ]
     },
     "execution_count": 58,
     "metadata": {},
     "output_type": "execute_result"
    }
   ],
   "source": [
    "daily_amb_calls.head()"
   ]
  },
  {
   "cell_type": "code",
   "execution_count": 59,
   "id": "d8d2a739",
   "metadata": {},
   "outputs": [
    {
     "data": {
      "text/plain": [
       "date                    0\n",
       "borough                 0\n",
       "daily_call_vol          0\n",
       "mean_severity_level     0\n",
       "max_severity_level      0\n",
       "min_severity            0\n",
       "non_urgent_call         0\n",
       "day_of_week             0\n",
       "is_weekend              0\n",
       "is_holiday              0\n",
       "lag_1                   5\n",
       "lag_7                  35\n",
       "temp                    0\n",
       "precp                   0\n",
       "snowfall                0\n",
       "snow_depth              0\n",
       "dtype: int64"
      ]
     },
     "execution_count": 59,
     "metadata": {},
     "output_type": "execute_result"
    }
   ],
   "source": [
    "daily_amb_calls.isna().sum()"
   ]
  },
  {
   "cell_type": "markdown",
   "id": "cafa0b44",
   "metadata": {},
   "source": [
    "**Handling Missing Lag Features**\n",
    "\n",
    "The `lag_1` and `lag_7` features represent the number of calls from 1 day and 7 days prior.  \n",
    "- By definition, the first day of each borough has no `lag_1`, and the first 7 days have no `lag_7`.  \n",
    "- These missing values are **not errors** but a natural consequence of computing lags.\n",
    "\n",
    "Filling lag_1 with the previous day’s value (within the same borough) and lag_7 with the borough mean ensures that each row has reasonable historical information without introducing large distortions"
   ]
  },
  {
   "cell_type": "code",
   "execution_count": 64,
   "id": "d4943b46",
   "metadata": {},
   "outputs": [],
   "source": [
    "# Fill lag_1 missing values with the boroughs mean within the same borough\n",
    "daily_amb_calls['lag_1'] = daily_amb_calls.groupby('borough')['lag_1'].transform(lambda x: x.fillna(x.mean()))\n",
    "\n",
    "# Fill lag_7 missing values with the boroughs 'lag_7' mean value within the same borough\n",
    "daily_amb_calls['lag_7'] = daily_amb_calls.groupby('borough')['lag_7'] \\\n",
    "                                          .transform(lambda x: x.fillna(x.mean()))"
   ]
  },
  {
   "cell_type": "code",
   "execution_count": 65,
   "id": "f558b194",
   "metadata": {},
   "outputs": [
    {
     "data": {
      "text/plain": [
       "date                   0\n",
       "borough                0\n",
       "daily_call_vol         0\n",
       "mean_severity_level    0\n",
       "max_severity_level     0\n",
       "min_severity           0\n",
       "non_urgent_call        0\n",
       "day_of_week            0\n",
       "is_weekend             0\n",
       "is_holiday             0\n",
       "lag_1                  0\n",
       "lag_7                  0\n",
       "temp                   0\n",
       "precp                  0\n",
       "snowfall               0\n",
       "snow_depth             0\n",
       "dtype: int64"
      ]
     },
     "execution_count": 65,
     "metadata": {},
     "output_type": "execute_result"
    }
   ],
   "source": [
    "# Check for missing values \n",
    "daily_amb_calls.isna().sum()"
   ]
  },
  {
   "cell_type": "markdown",
   "id": "b5ccc8c5",
   "metadata": {},
   "source": [
    "**Save `daily_amb_call` as CSV**"
   ]
  },
  {
   "cell_type": "code",
   "execution_count": 66,
   "id": "c0d1c2bc",
   "metadata": {},
   "outputs": [],
   "source": [
    "daily_amb_calls.to_csv('daily_ambulance_calls.csv')"
   ]
  },
  {
   "cell_type": "markdown",
   "id": "5e1baf54",
   "metadata": {},
   "source": [
    "## The merged dataset is now `clean`, `consistent`, and `ready` for exploratory data analysis (EDA)."
   ]
  },
  {
   "cell_type": "code",
   "execution_count": 67,
   "id": "861a58d8",
   "metadata": {},
   "outputs": [
    {
     "data": {
      "text/html": [
       "<div>\n",
       "<style scoped>\n",
       "    .dataframe tbody tr th:only-of-type {\n",
       "        vertical-align: middle;\n",
       "    }\n",
       "\n",
       "    .dataframe tbody tr th {\n",
       "        vertical-align: top;\n",
       "    }\n",
       "\n",
       "    .dataframe thead th {\n",
       "        text-align: right;\n",
       "    }\n",
       "</style>\n",
       "<table border=\"1\" class=\"dataframe\">\n",
       "  <thead>\n",
       "    <tr style=\"text-align: right;\">\n",
       "      <th></th>\n",
       "      <th>date</th>\n",
       "      <th>borough</th>\n",
       "      <th>daily_call_vol</th>\n",
       "      <th>mean_severity_level</th>\n",
       "      <th>max_severity_level</th>\n",
       "      <th>min_severity</th>\n",
       "      <th>non_urgent_call</th>\n",
       "      <th>day_of_week</th>\n",
       "      <th>is_weekend</th>\n",
       "      <th>is_holiday</th>\n",
       "      <th>lag_1</th>\n",
       "      <th>lag_7</th>\n",
       "      <th>temp</th>\n",
       "      <th>precp</th>\n",
       "      <th>snowfall</th>\n",
       "      <th>snow_depth</th>\n",
       "    </tr>\n",
       "  </thead>\n",
       "  <tbody>\n",
       "    <tr>\n",
       "      <th>0</th>\n",
       "      <td>2025-01-01</td>\n",
       "      <td>Bronx</td>\n",
       "      <td>954</td>\n",
       "      <td>4.091195</td>\n",
       "      <td>1</td>\n",
       "      <td>7</td>\n",
       "      <td>205</td>\n",
       "      <td>2</td>\n",
       "      <td>0</td>\n",
       "      <td>1</td>\n",
       "      <td>1020.859649</td>\n",
       "      <td>1018.12963</td>\n",
       "      <td>45.3200</td>\n",
       "      <td>0.254167</td>\n",
       "      <td>0.0</td>\n",
       "      <td>0.0</td>\n",
       "    </tr>\n",
       "    <tr>\n",
       "      <th>1</th>\n",
       "      <td>2025-01-02</td>\n",
       "      <td>Bronx</td>\n",
       "      <td>1116</td>\n",
       "      <td>4.144265</td>\n",
       "      <td>1</td>\n",
       "      <td>8</td>\n",
       "      <td>278</td>\n",
       "      <td>3</td>\n",
       "      <td>0</td>\n",
       "      <td>0</td>\n",
       "      <td>954.000000</td>\n",
       "      <td>1018.12963</td>\n",
       "      <td>37.1300</td>\n",
       "      <td>0.000000</td>\n",
       "      <td>0.0</td>\n",
       "      <td>0.0</td>\n",
       "    </tr>\n",
       "    <tr>\n",
       "      <th>2</th>\n",
       "      <td>2025-01-03</td>\n",
       "      <td>Bronx</td>\n",
       "      <td>1116</td>\n",
       "      <td>4.229391</td>\n",
       "      <td>1</td>\n",
       "      <td>8</td>\n",
       "      <td>276</td>\n",
       "      <td>4</td>\n",
       "      <td>0</td>\n",
       "      <td>0</td>\n",
       "      <td>1116.000000</td>\n",
       "      <td>1018.12963</td>\n",
       "      <td>32.9825</td>\n",
       "      <td>0.000000</td>\n",
       "      <td>0.0</td>\n",
       "      <td>0.0</td>\n",
       "    </tr>\n",
       "    <tr>\n",
       "      <th>3</th>\n",
       "      <td>2025-01-04</td>\n",
       "      <td>Bronx</td>\n",
       "      <td>1035</td>\n",
       "      <td>4.173913</td>\n",
       "      <td>1</td>\n",
       "      <td>8</td>\n",
       "      <td>231</td>\n",
       "      <td>5</td>\n",
       "      <td>1</td>\n",
       "      <td>0</td>\n",
       "      <td>1116.000000</td>\n",
       "      <td>1018.12963</td>\n",
       "      <td>29.6975</td>\n",
       "      <td>0.000000</td>\n",
       "      <td>0.0</td>\n",
       "      <td>0.0</td>\n",
       "    </tr>\n",
       "    <tr>\n",
       "      <th>4</th>\n",
       "      <td>2025-01-05</td>\n",
       "      <td>Bronx</td>\n",
       "      <td>964</td>\n",
       "      <td>4.117220</td>\n",
       "      <td>1</td>\n",
       "      <td>8</td>\n",
       "      <td>237</td>\n",
       "      <td>6</td>\n",
       "      <td>1</td>\n",
       "      <td>0</td>\n",
       "      <td>1035.000000</td>\n",
       "      <td>1018.12963</td>\n",
       "      <td>28.5650</td>\n",
       "      <td>0.000000</td>\n",
       "      <td>0.0</td>\n",
       "      <td>0.0</td>\n",
       "    </tr>\n",
       "  </tbody>\n",
       "</table>\n",
       "</div>"
      ],
      "text/plain": [
       "        date borough  daily_call_vol  mean_severity_level  max_severity_level  \\\n",
       "0 2025-01-01   Bronx             954             4.091195                   1   \n",
       "1 2025-01-02   Bronx            1116             4.144265                   1   \n",
       "2 2025-01-03   Bronx            1116             4.229391                   1   \n",
       "3 2025-01-04   Bronx            1035             4.173913                   1   \n",
       "4 2025-01-05   Bronx             964             4.117220                   1   \n",
       "\n",
       "   min_severity  non_urgent_call  day_of_week  is_weekend  is_holiday  \\\n",
       "0             7              205            2           0           1   \n",
       "1             8              278            3           0           0   \n",
       "2             8              276            4           0           0   \n",
       "3             8              231            5           1           0   \n",
       "4             8              237            6           1           0   \n",
       "\n",
       "         lag_1       lag_7     temp     precp  snowfall  snow_depth  \n",
       "0  1020.859649  1018.12963  45.3200  0.254167       0.0         0.0  \n",
       "1   954.000000  1018.12963  37.1300  0.000000       0.0         0.0  \n",
       "2  1116.000000  1018.12963  32.9825  0.000000       0.0         0.0  \n",
       "3  1116.000000  1018.12963  29.6975  0.000000       0.0         0.0  \n",
       "4  1035.000000  1018.12963  28.5650  0.000000       0.0         0.0  "
      ]
     },
     "execution_count": 67,
     "metadata": {},
     "output_type": "execute_result"
    }
   ],
   "source": [
    "daily_amb_calls.head()"
   ]
  },
  {
   "cell_type": "code",
   "execution_count": null,
   "id": "3fdd9a82",
   "metadata": {},
   "outputs": [],
   "source": []
  }
 ],
 "metadata": {
  "kernelspec": {
   "display_name": "Python 3 (ipykernel)",
   "language": "python",
   "name": "python3"
  },
  "language_info": {
   "codemirror_mode": {
    "name": "ipython",
    "version": 3
   },
   "file_extension": ".py",
   "mimetype": "text/x-python",
   "name": "python",
   "nbconvert_exporter": "python",
   "pygments_lexer": "ipython3",
   "version": "3.13.5"
  }
 },
 "nbformat": 4,
 "nbformat_minor": 5
}
