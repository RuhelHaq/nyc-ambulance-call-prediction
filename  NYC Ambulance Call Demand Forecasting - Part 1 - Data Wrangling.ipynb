{
 "cells": [
  {
   "cell_type": "markdown",
   "id": "8d1009d7",
   "metadata": {},
   "source": [
    "**Objective:**  \n",
    "The goal of this project is to predict daily ambulance call demand in New York City, with a focus on borough-specific patterns.  \n",
    "This analysis will also incorporate weather and holiday data to explore external factors influencing call volume.\n",
    "\n",
    "**Dataset Source:**  \n",
    "NYC Open Data API – [Link to API](https://data.cityofnewyork.us/resource/76xm-jjuj.json)  \n",
    "\n",
    "**Notebook Outline:**  \n",
    "1. Introduction  \n",
    "2. Data Wrangling  \n",
    "3. Feature Engineering (adding weather & holiday data)   \n",
    "4.Exploratory Data Analysis (EDA)   \n",
    "5. Model Selection & Training  \n",
    "6. Evaluation & Conclusion\n"
   ]
  },
  {
   "cell_type": "markdown",
   "id": "be987a4f",
   "metadata": {},
   "source": [
    "**Introduction**\n",
    "\n",
    "Emergency response systems are a critical part of city infrastructure, and understanding patterns in emergency call demand can help allocate resources more efficiently. In this project, I analyze 911 call data for New York City to explore patterns by time, location, and external factors such as weather and holidays.\n",
    "The primary goals of this project are:\n",
    "\n",
    "Data Wrangling – Collect and clean raw data from the NYC Open Data API.\n",
    "\n",
    "Feature Engineering – Create meaningful variables such as hour, day_of_week, is_holiday, and integrate external data sources like weather conditions. \n",
    "\n",
    "Exploratory Data Analysis (EDA) – Visualize trends in call volume across boroughs and identify patterns related to time, weather, and holidays. \n",
    "\n",
    "Modeling – Build and evaluate predictive models (Linear Regression and Random Forest) to forecast daily call volume. \n",
    "\n",
    "Insights – Summarize findings and highlight factors most strongly associated with variations in call volume. "
   ]
  },
  {
   "cell_type": "code",
   "execution_count": 1,
   "id": "475c41de",
   "metadata": {},
   "outputs": [],
   "source": [
    "# Loading the libraries\n",
    "\n",
    "import requests \n",
    "import pandas as pd\n",
    "import numpy as np\n",
    "import matplotlib.pyplot as plt\n",
    "import seaborn as sns\n",
    "%matplotlib inline"
   ]
  },
  {
   "cell_type": "markdown",
   "id": "e2978935",
   "metadata": {},
   "source": [
    "## NYC EMS Call Data Collection\n",
    "\n",
    "\n",
    "We collected NYC EMS call data from the **NYC Open Data API**.  \n",
    "\n",
    "- **Date Range:** July 1, 2024 → April 25, 2025  \n",
    "- **Method:** Multiple smaller requests over different date ranges, then merged into a single dataset.  \n",
    "- **Storage:** Saved as `nyc_ambulance_call.csv` to avoid re-fetching.  \n",
    "\n",
    "> **Note:** The dataset is large; running the full code may take hours. This is provided for reference.  \n",
    "\n",
    "```python\n",
    "import requests\n",
    "import pandas as pd\n",
    "\n",
    "url = \"https://data.cityofnewyork.us/resource/76xm-jjuj.json\"\n",
    "all_data = []\n",
    "limit = 1000\n",
    "\n",
    "for offset in range(0, 500000, limit):\n",
    "    params = {\n",
    "        \"$where\": \"incident_datetime between '2024-07-01T00:00:00' and '2025-04-25T23:59:59'\",\n",
    "        \"$order\": \"incident_datetime ASC\",\n",
    "        \"$limit\": limit,\n",
    "        \"$offset\": offset\n",
    "    }\n",
    "    response = requests.get(url, params=params)\n",
    "    batch = response.json()\n",
    "    if not batch:\n",
    "        break\n",
    "    all_data.extend(batch)\n",
    "\n",
    "df = pd.DataFrame(all_data)\n",
    "df.to_csv('nyc_ambulance_call.csv', index=False)\n",
    "df = pd.read_csv('nyc_ambulance_call_data.csv')\n"
   ]
  },
  {
   "cell_type": "code",
   "execution_count": 2,
   "id": "50b80942",
   "metadata": {},
   "outputs": [],
   "source": [
    "# Load the csv file into dataframe\n",
    "df = pd.read_csv('nyc_ambulance_call_data.csv')"
   ]
  },
  {
   "cell_type": "code",
   "execution_count": 3,
   "id": "8627dd43",
   "metadata": {},
   "outputs": [
    {
     "name": "stdout",
     "output_type": "stream",
     "text": [
      "df - number of rows : 1308614\n",
      "df - number of columns : 32\n"
     ]
    },
    {
     "data": {
      "text/html": [
       "<div>\n",
       "<style scoped>\n",
       "    .dataframe tbody tr th:only-of-type {\n",
       "        vertical-align: middle;\n",
       "    }\n",
       "\n",
       "    .dataframe tbody tr th {\n",
       "        vertical-align: top;\n",
       "    }\n",
       "\n",
       "    .dataframe thead th {\n",
       "        text-align: right;\n",
       "    }\n",
       "</style>\n",
       "<table border=\"1\" class=\"dataframe\">\n",
       "  <thead>\n",
       "    <tr style=\"text-align: right;\">\n",
       "      <th></th>\n",
       "      <th>Unnamed: 0</th>\n",
       "      <th>cad_incident_id</th>\n",
       "      <th>incident_datetime</th>\n",
       "      <th>initial_call_type</th>\n",
       "      <th>initial_severity_level_code</th>\n",
       "      <th>final_call_type</th>\n",
       "      <th>final_severity_level_code</th>\n",
       "      <th>first_assignment_datetime</th>\n",
       "      <th>valid_dispatch_rspns_time_indc</th>\n",
       "      <th>dispatch_response_seconds_qy</th>\n",
       "      <th>...</th>\n",
       "      <th>citycouncildistrict</th>\n",
       "      <th>communitydistrict</th>\n",
       "      <th>communityschooldistrict</th>\n",
       "      <th>congressionaldistrict</th>\n",
       "      <th>reopen_indicator</th>\n",
       "      <th>special_event_indicator</th>\n",
       "      <th>standby_indicator</th>\n",
       "      <th>transfer_indicator</th>\n",
       "      <th>first_to_hosp_datetime</th>\n",
       "      <th>first_hosp_arrival_datetime</th>\n",
       "    </tr>\n",
       "  </thead>\n",
       "  <tbody>\n",
       "    <tr>\n",
       "      <th>0</th>\n",
       "      <td>0</td>\n",
       "      <td>241830001</td>\n",
       "      <td>2024-07-01T00:00:02.000</td>\n",
       "      <td>STNDBY</td>\n",
       "      <td>8</td>\n",
       "      <td>STNDBY</td>\n",
       "      <td>8</td>\n",
       "      <td>2024-07-01T06:19:55.000</td>\n",
       "      <td>Y</td>\n",
       "      <td>22793</td>\n",
       "      <td>...</td>\n",
       "      <td>26.0</td>\n",
       "      <td>402.0</td>\n",
       "      <td>30.0</td>\n",
       "      <td>12.0</td>\n",
       "      <td>Y</td>\n",
       "      <td>N</td>\n",
       "      <td>Y</td>\n",
       "      <td>N</td>\n",
       "      <td>NaN</td>\n",
       "      <td>NaN</td>\n",
       "    </tr>\n",
       "    <tr>\n",
       "      <th>1</th>\n",
       "      <td>1</td>\n",
       "      <td>241830002</td>\n",
       "      <td>2024-07-01T00:00:04.000</td>\n",
       "      <td>STNDBY</td>\n",
       "      <td>8</td>\n",
       "      <td>STNDBY</td>\n",
       "      <td>8</td>\n",
       "      <td>2024-07-01T14:38:23.000</td>\n",
       "      <td>N</td>\n",
       "      <td>0</td>\n",
       "      <td>...</td>\n",
       "      <td>8.0</td>\n",
       "      <td>111.0</td>\n",
       "      <td>4.0</td>\n",
       "      <td>12.0</td>\n",
       "      <td>Y</td>\n",
       "      <td>N</td>\n",
       "      <td>Y</td>\n",
       "      <td>N</td>\n",
       "      <td>NaN</td>\n",
       "      <td>NaN</td>\n",
       "    </tr>\n",
       "    <tr>\n",
       "      <th>2</th>\n",
       "      <td>2</td>\n",
       "      <td>241830003</td>\n",
       "      <td>2024-07-01T00:00:06.000</td>\n",
       "      <td>EDP</td>\n",
       "      <td>7</td>\n",
       "      <td>EDP</td>\n",
       "      <td>7</td>\n",
       "      <td>NaN</td>\n",
       "      <td>N</td>\n",
       "      <td>0</td>\n",
       "      <td>...</td>\n",
       "      <td>5.0</td>\n",
       "      <td>108.0</td>\n",
       "      <td>2.0</td>\n",
       "      <td>12.0</td>\n",
       "      <td>N</td>\n",
       "      <td>N</td>\n",
       "      <td>N</td>\n",
       "      <td>N</td>\n",
       "      <td>NaN</td>\n",
       "      <td>NaN</td>\n",
       "    </tr>\n",
       "    <tr>\n",
       "      <th>3</th>\n",
       "      <td>3</td>\n",
       "      <td>241830004</td>\n",
       "      <td>2024-07-01T00:00:12.000</td>\n",
       "      <td>STNDBY</td>\n",
       "      <td>8</td>\n",
       "      <td>STNDBY</td>\n",
       "      <td>8</td>\n",
       "      <td>2024-07-01T06:28:45.000</td>\n",
       "      <td>Y</td>\n",
       "      <td>23313</td>\n",
       "      <td>...</td>\n",
       "      <td>8.0</td>\n",
       "      <td>111.0</td>\n",
       "      <td>4.0</td>\n",
       "      <td>12.0</td>\n",
       "      <td>Y</td>\n",
       "      <td>N</td>\n",
       "      <td>Y</td>\n",
       "      <td>N</td>\n",
       "      <td>NaN</td>\n",
       "      <td>NaN</td>\n",
       "    </tr>\n",
       "    <tr>\n",
       "      <th>4</th>\n",
       "      <td>4</td>\n",
       "      <td>241830007</td>\n",
       "      <td>2024-07-01T00:00:22.000</td>\n",
       "      <td>SEIZR</td>\n",
       "      <td>3</td>\n",
       "      <td>SEIZR</td>\n",
       "      <td>3</td>\n",
       "      <td>2024-07-01T00:00:41.000</td>\n",
       "      <td>Y</td>\n",
       "      <td>19</td>\n",
       "      <td>...</td>\n",
       "      <td>17.0</td>\n",
       "      <td>201.0</td>\n",
       "      <td>7.0</td>\n",
       "      <td>15.0</td>\n",
       "      <td>N</td>\n",
       "      <td>N</td>\n",
       "      <td>N</td>\n",
       "      <td>N</td>\n",
       "      <td>2024-07-01T00:23:56.000</td>\n",
       "      <td>2024-07-01T00:34:20.000</td>\n",
       "    </tr>\n",
       "  </tbody>\n",
       "</table>\n",
       "<p>5 rows × 32 columns</p>\n",
       "</div>"
      ],
      "text/plain": [
       "   Unnamed: 0  cad_incident_id        incident_datetime initial_call_type  \\\n",
       "0           0        241830001  2024-07-01T00:00:02.000            STNDBY   \n",
       "1           1        241830002  2024-07-01T00:00:04.000            STNDBY   \n",
       "2           2        241830003  2024-07-01T00:00:06.000               EDP   \n",
       "3           3        241830004  2024-07-01T00:00:12.000            STNDBY   \n",
       "4           4        241830007  2024-07-01T00:00:22.000             SEIZR   \n",
       "\n",
       "   initial_severity_level_code final_call_type  final_severity_level_code  \\\n",
       "0                            8          STNDBY                          8   \n",
       "1                            8          STNDBY                          8   \n",
       "2                            7             EDP                          7   \n",
       "3                            8          STNDBY                          8   \n",
       "4                            3           SEIZR                          3   \n",
       "\n",
       "  first_assignment_datetime valid_dispatch_rspns_time_indc  \\\n",
       "0   2024-07-01T06:19:55.000                              Y   \n",
       "1   2024-07-01T14:38:23.000                              N   \n",
       "2                       NaN                              N   \n",
       "3   2024-07-01T06:28:45.000                              Y   \n",
       "4   2024-07-01T00:00:41.000                              Y   \n",
       "\n",
       "   dispatch_response_seconds_qy  ... citycouncildistrict communitydistrict  \\\n",
       "0                         22793  ...                26.0             402.0   \n",
       "1                             0  ...                 8.0             111.0   \n",
       "2                             0  ...                 5.0             108.0   \n",
       "3                         23313  ...                 8.0             111.0   \n",
       "4                            19  ...                17.0             201.0   \n",
       "\n",
       "  communityschooldistrict  congressionaldistrict  reopen_indicator  \\\n",
       "0                    30.0                   12.0                 Y   \n",
       "1                     4.0                   12.0                 Y   \n",
       "2                     2.0                   12.0                 N   \n",
       "3                     4.0                   12.0                 Y   \n",
       "4                     7.0                   15.0                 N   \n",
       "\n",
       "  special_event_indicator standby_indicator transfer_indicator  \\\n",
       "0                       N                 Y                  N   \n",
       "1                       N                 Y                  N   \n",
       "2                       N                 N                  N   \n",
       "3                       N                 Y                  N   \n",
       "4                       N                 N                  N   \n",
       "\n",
       "    first_to_hosp_datetime first_hosp_arrival_datetime  \n",
       "0                      NaN                         NaN  \n",
       "1                      NaN                         NaN  \n",
       "2                      NaN                         NaN  \n",
       "3                      NaN                         NaN  \n",
       "4  2024-07-01T00:23:56.000     2024-07-01T00:34:20.000  \n",
       "\n",
       "[5 rows x 32 columns]"
      ]
     },
     "execution_count": 3,
     "metadata": {},
     "output_type": "execute_result"
    }
   ],
   "source": [
    "print(f'df - number of rows : {df.shape[0]}')\n",
    "print((f'df - number of columns : {df.shape[1]}'))\n",
    "df.head()      "
   ]
  },
  {
   "cell_type": "code",
   "execution_count": 4,
   "id": "e33e4588",
   "metadata": {},
   "outputs": [
    {
     "data": {
      "text/plain": [
       "Index(['Unnamed: 0', 'cad_incident_id', 'incident_datetime',\n",
       "       'initial_call_type', 'initial_severity_level_code', 'final_call_type',\n",
       "       'final_severity_level_code', 'first_assignment_datetime',\n",
       "       'valid_dispatch_rspns_time_indc', 'dispatch_response_seconds_qy',\n",
       "       'first_activation_datetime', 'first_on_scene_datetime',\n",
       "       'valid_incident_rspns_time_indc', 'incident_response_seconds_qy',\n",
       "       'incident_travel_tm_seconds_qy', 'incident_close_datetime',\n",
       "       'held_indicator', 'incident_disposition_code', 'borough',\n",
       "       'incident_dispatch_area', 'zipcode', 'policeprecinct',\n",
       "       'citycouncildistrict', 'communitydistrict', 'communityschooldistrict',\n",
       "       'congressionaldistrict', 'reopen_indicator', 'special_event_indicator',\n",
       "       'standby_indicator', 'transfer_indicator', 'first_to_hosp_datetime',\n",
       "       'first_hosp_arrival_datetime'],\n",
       "      dtype='object')"
      ]
     },
     "execution_count": 4,
     "metadata": {},
     "output_type": "execute_result"
    }
   ],
   "source": [
    "# Dataframes columns\n",
    "df.columns"
   ]
  },
  {
   "cell_type": "code",
   "execution_count": 5,
   "id": "b7253532",
   "metadata": {},
   "outputs": [
    {
     "data": {
      "text/plain": [
       "Unnamed: 0                          int64\n",
       "cad_incident_id                     int64\n",
       "incident_datetime                  object\n",
       "initial_call_type                  object\n",
       "initial_severity_level_code         int64\n",
       "final_call_type                    object\n",
       "final_severity_level_code           int64\n",
       "first_assignment_datetime          object\n",
       "valid_dispatch_rspns_time_indc     object\n",
       "dispatch_response_seconds_qy        int64\n",
       "first_activation_datetime          object\n",
       "first_on_scene_datetime            object\n",
       "valid_incident_rspns_time_indc     object\n",
       "incident_response_seconds_qy      float64\n",
       "incident_travel_tm_seconds_qy     float64\n",
       "incident_close_datetime            object\n",
       "held_indicator                     object\n",
       "incident_disposition_code          object\n",
       "borough                            object\n",
       "incident_dispatch_area             object\n",
       "zipcode                           float64\n",
       "policeprecinct                    float64\n",
       "citycouncildistrict               float64\n",
       "communitydistrict                 float64\n",
       "communityschooldistrict           float64\n",
       "congressionaldistrict             float64\n",
       "reopen_indicator                   object\n",
       "special_event_indicator            object\n",
       "standby_indicator                  object\n",
       "transfer_indicator                 object\n",
       "first_to_hosp_datetime             object\n",
       "first_hosp_arrival_datetime        object\n",
       "dtype: object"
      ]
     },
     "execution_count": 5,
     "metadata": {},
     "output_type": "execute_result"
    }
   ],
   "source": [
    "# df data types \n",
    "df.dtypes"
   ]
  },
  {
   "cell_type": "code",
   "execution_count": 6,
   "id": "6ffbbc2e",
   "metadata": {},
   "outputs": [
    {
     "name": "stdout",
     "output_type": "stream",
     "text": [
      "<class 'pandas.core.frame.DataFrame'>\n",
      "RangeIndex: 1308614 entries, 0 to 1308613\n",
      "Data columns (total 32 columns):\n",
      " #   Column                          Non-Null Count    Dtype  \n",
      "---  ------                          --------------    -----  \n",
      " 0   Unnamed: 0                      1308614 non-null  int64  \n",
      " 1   cad_incident_id                 1308614 non-null  int64  \n",
      " 2   incident_datetime               1308614 non-null  object \n",
      " 3   initial_call_type               1308614 non-null  object \n",
      " 4   initial_severity_level_code     1308614 non-null  int64  \n",
      " 5   final_call_type                 1308614 non-null  object \n",
      " 6   final_severity_level_code       1308614 non-null  int64  \n",
      " 7   first_assignment_datetime       1283939 non-null  object \n",
      " 8   valid_dispatch_rspns_time_indc  1308614 non-null  object \n",
      " 9   dispatch_response_seconds_qy    1308614 non-null  int64  \n",
      " 10  first_activation_datetime       1281483 non-null  object \n",
      " 11  first_on_scene_datetime         1233989 non-null  object \n",
      " 12  valid_incident_rspns_time_indc  1308614 non-null  object \n",
      " 13  incident_response_seconds_qy    1233688 non-null  float64\n",
      " 14  incident_travel_tm_seconds_qy   1233962 non-null  float64\n",
      " 15  incident_close_datetime         1308455 non-null  object \n",
      " 16  held_indicator                  1308614 non-null  object \n",
      " 17  incident_disposition_code       1308614 non-null  object \n",
      " 18  borough                         1308614 non-null  object \n",
      " 19  incident_dispatch_area          1308614 non-null  object \n",
      " 20  zipcode                         1287491 non-null  float64\n",
      " 21  policeprecinct                  1287530 non-null  float64\n",
      " 22  citycouncildistrict             1287530 non-null  float64\n",
      " 23  communitydistrict               1287529 non-null  float64\n",
      " 24  communityschooldistrict         1286646 non-null  float64\n",
      " 25  congressionaldistrict           1287530 non-null  float64\n",
      " 26  reopen_indicator                1308614 non-null  object \n",
      " 27  special_event_indicator         1308614 non-null  object \n",
      " 28  standby_indicator               1308614 non-null  object \n",
      " 29  transfer_indicator              1308614 non-null  object \n",
      " 30  first_to_hosp_datetime          815359 non-null   object \n",
      " 31  first_hosp_arrival_datetime     811982 non-null   object \n",
      "dtypes: float64(8), int64(5), object(19)\n",
      "memory usage: 319.5+ MB\n"
     ]
    }
   ],
   "source": [
    "# Datframe info\n",
    "df.info()"
   ]
  },
  {
   "cell_type": "code",
   "execution_count": 7,
   "id": "648c05b8",
   "metadata": {},
   "outputs": [
    {
     "data": {
      "text/plain": [
       "('2024-07-01T00:00:02.000', '2025-04-25T21:03:38.000')"
      ]
     },
     "execution_count": 7,
     "metadata": {},
     "output_type": "execute_result"
    }
   ],
   "source": [
    "# max and min date\n",
    "\n",
    "df.incident_datetime.min(), df.incident_datetime.max()"
   ]
  },
  {
   "cell_type": "markdown",
   "id": "b68ce67b",
   "metadata": {},
   "source": [
    "**Select only the columns relevant to predicting ambulance call demand by hour and location. The incident_datetime column allow time-based analysis and forecasting. Borough and zipcode provide geographic context to understand spatial demand patterns. Other columns like initial_call_type and severity_level help capture the nature and urgency of calls, which may affect demand. Removing unnecessary columns reduces data size, simplifies the analysis, and focuses the model on meaningful features.**"
   ]
  },
  {
   "cell_type": "code",
   "execution_count": 8,
   "id": "7bd0a3dc",
   "metadata": {},
   "outputs": [
    {
     "data": {
      "text/html": [
       "<div>\n",
       "<style scoped>\n",
       "    .dataframe tbody tr th:only-of-type {\n",
       "        vertical-align: middle;\n",
       "    }\n",
       "\n",
       "    .dataframe tbody tr th {\n",
       "        vertical-align: top;\n",
       "    }\n",
       "\n",
       "    .dataframe thead th {\n",
       "        text-align: right;\n",
       "    }\n",
       "</style>\n",
       "<table border=\"1\" class=\"dataframe\">\n",
       "  <thead>\n",
       "    <tr style=\"text-align: right;\">\n",
       "      <th></th>\n",
       "      <th>incident_datetime</th>\n",
       "      <th>borough</th>\n",
       "      <th>zipcode</th>\n",
       "      <th>initial_call_type</th>\n",
       "      <th>initial_severity_level_code</th>\n",
       "    </tr>\n",
       "  </thead>\n",
       "  <tbody>\n",
       "    <tr>\n",
       "      <th>0</th>\n",
       "      <td>2024-07-01T00:00:02.000</td>\n",
       "      <td>QUEENS</td>\n",
       "      <td>11101.0</td>\n",
       "      <td>STNDBY</td>\n",
       "      <td>8</td>\n",
       "    </tr>\n",
       "    <tr>\n",
       "      <th>10</th>\n",
       "      <td>2024-07-01T00:00:59.000</td>\n",
       "      <td>BROOKLYN</td>\n",
       "      <td>11214.0</td>\n",
       "      <td>ARREST</td>\n",
       "      <td>1</td>\n",
       "    </tr>\n",
       "    <tr>\n",
       "      <th>20</th>\n",
       "      <td>2024-07-01T00:03:31.000</td>\n",
       "      <td>BROOKLYN</td>\n",
       "      <td>11220.0</td>\n",
       "      <td>SICK</td>\n",
       "      <td>6</td>\n",
       "    </tr>\n",
       "    <tr>\n",
       "      <th>30</th>\n",
       "      <td>2024-07-01T00:06:33.000</td>\n",
       "      <td>BROOKLYN</td>\n",
       "      <td>11212.0</td>\n",
       "      <td>SICK</td>\n",
       "      <td>6</td>\n",
       "    </tr>\n",
       "    <tr>\n",
       "      <th>40</th>\n",
       "      <td>2024-07-01T00:09:01.000</td>\n",
       "      <td>BROOKLYN</td>\n",
       "      <td>11204.0</td>\n",
       "      <td>INJURY</td>\n",
       "      <td>5</td>\n",
       "    </tr>\n",
       "    <tr>\n",
       "      <th>50</th>\n",
       "      <td>2024-07-01T00:13:16.000</td>\n",
       "      <td>BROOKLYN</td>\n",
       "      <td>11224.0</td>\n",
       "      <td>CARD</td>\n",
       "      <td>3</td>\n",
       "    </tr>\n",
       "    <tr>\n",
       "      <th>60</th>\n",
       "      <td>2024-07-01T00:18:35.000</td>\n",
       "      <td>BRONX</td>\n",
       "      <td>10453.0</td>\n",
       "      <td>INJURY</td>\n",
       "      <td>5</td>\n",
       "    </tr>\n",
       "    <tr>\n",
       "      <th>70</th>\n",
       "      <td>2024-07-01T00:21:59.000</td>\n",
       "      <td>MANHATTAN</td>\n",
       "      <td>10014.0</td>\n",
       "      <td>INJURY</td>\n",
       "      <td>5</td>\n",
       "    </tr>\n",
       "    <tr>\n",
       "      <th>80</th>\n",
       "      <td>2024-07-01T00:25:11.000</td>\n",
       "      <td>MANHATTAN</td>\n",
       "      <td>10035.0</td>\n",
       "      <td>RESPIR</td>\n",
       "      <td>4</td>\n",
       "    </tr>\n",
       "    <tr>\n",
       "      <th>90</th>\n",
       "      <td>2024-07-01T00:29:02.000</td>\n",
       "      <td>MANHATTAN</td>\n",
       "      <td>10031.0</td>\n",
       "      <td>UNKNOW</td>\n",
       "      <td>4</td>\n",
       "    </tr>\n",
       "  </tbody>\n",
       "</table>\n",
       "</div>"
      ],
      "text/plain": [
       "          incident_datetime    borough  zipcode initial_call_type  \\\n",
       "0   2024-07-01T00:00:02.000     QUEENS  11101.0            STNDBY   \n",
       "10  2024-07-01T00:00:59.000   BROOKLYN  11214.0            ARREST   \n",
       "20  2024-07-01T00:03:31.000   BROOKLYN  11220.0              SICK   \n",
       "30  2024-07-01T00:06:33.000   BROOKLYN  11212.0              SICK   \n",
       "40  2024-07-01T00:09:01.000   BROOKLYN  11204.0            INJURY   \n",
       "50  2024-07-01T00:13:16.000   BROOKLYN  11224.0              CARD   \n",
       "60  2024-07-01T00:18:35.000      BRONX  10453.0            INJURY   \n",
       "70  2024-07-01T00:21:59.000  MANHATTAN  10014.0            INJURY   \n",
       "80  2024-07-01T00:25:11.000  MANHATTAN  10035.0            RESPIR   \n",
       "90  2024-07-01T00:29:02.000  MANHATTAN  10031.0            UNKNOW   \n",
       "\n",
       "    initial_severity_level_code  \n",
       "0                             8  \n",
       "10                            1  \n",
       "20                            6  \n",
       "30                            6  \n",
       "40                            5  \n",
       "50                            3  \n",
       "60                            5  \n",
       "70                            5  \n",
       "80                            4  \n",
       "90                            4  "
      ]
     },
     "execution_count": 8,
     "metadata": {},
     "output_type": "execute_result"
    }
   ],
   "source": [
    "# Selecting the required columns \n",
    "cols=['incident_datetime','borough','zipcode','initial_call_type','initial_severity_level_code']\n",
    "\n",
    "# Subsetting the dataframe \n",
    "df = df[cols]\n",
    "df.iloc[0:100:10]"
   ]
  },
  {
   "cell_type": "code",
   "execution_count": 9,
   "id": "d922bcc9",
   "metadata": {},
   "outputs": [],
   "source": [
    "# Converting incident_datetime to pandas date time format\n",
    "df['incident_datetime'] = pd.to_datetime(df['incident_datetime'], errors='coerce')"
   ]
  },
  {
   "cell_type": "code",
   "execution_count": 10,
   "id": "7c8738e0",
   "metadata": {
    "scrolled": true
   },
   "outputs": [
    {
     "data": {
      "text/plain": [
       "incident_datetime              datetime64[ns]\n",
       "borough                                object\n",
       "zipcode                               float64\n",
       "initial_call_type                      object\n",
       "initial_severity_level_code             int64\n",
       "dtype: object"
      ]
     },
     "execution_count": 10,
     "metadata": {},
     "output_type": "execute_result"
    }
   ],
   "source": [
    "# Check datatypes \n",
    "df.dtypes"
   ]
  },
  {
   "cell_type": "markdown",
   "id": "10f5c369",
   "metadata": {},
   "source": [
    "__**Feature Engineering:**  \n",
    "Create new columns from the incident_datetime because the original timestamp is hard to use directly.  \n",
    "'date' helps us group calls by day.  \n",
    "'hour' shows what time of day calls happen.  \n",
    "'day_of_week' is an arbitrary number (0 for Monday, 1 for Tuesday, etc.) that helps identify the day of the week.  \n",
    "'month' lets us see if calls change by season.  \n",
    "'is_weekend' marks weekends, since weekends can have different call patterns than weekdays.  \n",
    "These features make it easier to find patterns and improve our predictions.__"
   ]
  },
  {
   "cell_type": "code",
   "execution_count": 11,
   "id": "918c1ada",
   "metadata": {},
   "outputs": [],
   "source": [
    "# Feature engineering - creating new columns from incident_datetime \n",
    "df['date'] = df['incident_datetime'].dt.date\n",
    "df['hour'] = df['incident_datetime'].dt.hour\n",
    "df['day_of_week'] = df['incident_datetime'].dt.dayofweek\n",
    "df['month'] = df['incident_datetime'].dt.month\n",
    "df['is_weekend'] = df['day_of_week'].isin([5,6]).astype(int)"
   ]
  },
  {
   "cell_type": "code",
   "execution_count": 12,
   "id": "2554efb1",
   "metadata": {},
   "outputs": [
    {
     "data": {
      "text/html": [
       "<div>\n",
       "<style scoped>\n",
       "    .dataframe tbody tr th:only-of-type {\n",
       "        vertical-align: middle;\n",
       "    }\n",
       "\n",
       "    .dataframe tbody tr th {\n",
       "        vertical-align: top;\n",
       "    }\n",
       "\n",
       "    .dataframe thead th {\n",
       "        text-align: right;\n",
       "    }\n",
       "</style>\n",
       "<table border=\"1\" class=\"dataframe\">\n",
       "  <thead>\n",
       "    <tr style=\"text-align: right;\">\n",
       "      <th></th>\n",
       "      <th>incident_datetime</th>\n",
       "      <th>borough</th>\n",
       "      <th>zipcode</th>\n",
       "      <th>initial_call_type</th>\n",
       "      <th>initial_severity_level_code</th>\n",
       "      <th>date</th>\n",
       "      <th>hour</th>\n",
       "      <th>day_of_week</th>\n",
       "      <th>month</th>\n",
       "      <th>is_weekend</th>\n",
       "    </tr>\n",
       "  </thead>\n",
       "  <tbody>\n",
       "    <tr>\n",
       "      <th>0</th>\n",
       "      <td>2024-07-01 00:00:02</td>\n",
       "      <td>QUEENS</td>\n",
       "      <td>11101.0</td>\n",
       "      <td>STNDBY</td>\n",
       "      <td>8</td>\n",
       "      <td>2024-07-01</td>\n",
       "      <td>0</td>\n",
       "      <td>0</td>\n",
       "      <td>7</td>\n",
       "      <td>0</td>\n",
       "    </tr>\n",
       "    <tr>\n",
       "      <th>1</th>\n",
       "      <td>2024-07-01 00:00:04</td>\n",
       "      <td>MANHATTAN</td>\n",
       "      <td>10035.0</td>\n",
       "      <td>STNDBY</td>\n",
       "      <td>8</td>\n",
       "      <td>2024-07-01</td>\n",
       "      <td>0</td>\n",
       "      <td>0</td>\n",
       "      <td>7</td>\n",
       "      <td>0</td>\n",
       "    </tr>\n",
       "    <tr>\n",
       "      <th>2</th>\n",
       "      <td>2024-07-01 00:00:06</td>\n",
       "      <td>MANHATTAN</td>\n",
       "      <td>10065.0</td>\n",
       "      <td>EDP</td>\n",
       "      <td>7</td>\n",
       "      <td>2024-07-01</td>\n",
       "      <td>0</td>\n",
       "      <td>0</td>\n",
       "      <td>7</td>\n",
       "      <td>0</td>\n",
       "    </tr>\n",
       "    <tr>\n",
       "      <th>3</th>\n",
       "      <td>2024-07-01 00:00:12</td>\n",
       "      <td>MANHATTAN</td>\n",
       "      <td>10035.0</td>\n",
       "      <td>STNDBY</td>\n",
       "      <td>8</td>\n",
       "      <td>2024-07-01</td>\n",
       "      <td>0</td>\n",
       "      <td>0</td>\n",
       "      <td>7</td>\n",
       "      <td>0</td>\n",
       "    </tr>\n",
       "    <tr>\n",
       "      <th>4</th>\n",
       "      <td>2024-07-01 00:00:22</td>\n",
       "      <td>BRONX</td>\n",
       "      <td>10451.0</td>\n",
       "      <td>SEIZR</td>\n",
       "      <td>3</td>\n",
       "      <td>2024-07-01</td>\n",
       "      <td>0</td>\n",
       "      <td>0</td>\n",
       "      <td>7</td>\n",
       "      <td>0</td>\n",
       "    </tr>\n",
       "  </tbody>\n",
       "</table>\n",
       "</div>"
      ],
      "text/plain": [
       "    incident_datetime    borough  zipcode initial_call_type  \\\n",
       "0 2024-07-01 00:00:02     QUEENS  11101.0            STNDBY   \n",
       "1 2024-07-01 00:00:04  MANHATTAN  10035.0            STNDBY   \n",
       "2 2024-07-01 00:00:06  MANHATTAN  10065.0               EDP   \n",
       "3 2024-07-01 00:00:12  MANHATTAN  10035.0            STNDBY   \n",
       "4 2024-07-01 00:00:22      BRONX  10451.0             SEIZR   \n",
       "\n",
       "   initial_severity_level_code        date  hour  day_of_week  month  \\\n",
       "0                            8  2024-07-01     0            0      7   \n",
       "1                            8  2024-07-01     0            0      7   \n",
       "2                            7  2024-07-01     0            0      7   \n",
       "3                            8  2024-07-01     0            0      7   \n",
       "4                            3  2024-07-01     0            0      7   \n",
       "\n",
       "   is_weekend  \n",
       "0           0  \n",
       "1           0  \n",
       "2           0  \n",
       "3           0  \n",
       "4           0  "
      ]
     },
     "execution_count": 12,
     "metadata": {},
     "output_type": "execute_result"
    }
   ],
   "source": [
    "df.head()"
   ]
  },
  {
   "cell_type": "code",
   "execution_count": 13,
   "id": "594c1006",
   "metadata": {},
   "outputs": [],
   "source": [
    "# Rearanging the DataFrame columns by subsetting and exclude the original incident_datetime\n",
    "cols = ['date', 'hour', 'day_of_week', 'is_weekend', 'month', 'borough', 'zipcode', 'initial_call_type', 'initial_severity_level_code']\n",
    "df = df[cols]"
   ]
  },
  {
   "cell_type": "code",
   "execution_count": 14,
   "id": "ce4191e2",
   "metadata": {},
   "outputs": [
    {
     "data": {
      "text/html": [
       "<div>\n",
       "<style scoped>\n",
       "    .dataframe tbody tr th:only-of-type {\n",
       "        vertical-align: middle;\n",
       "    }\n",
       "\n",
       "    .dataframe tbody tr th {\n",
       "        vertical-align: top;\n",
       "    }\n",
       "\n",
       "    .dataframe thead th {\n",
       "        text-align: right;\n",
       "    }\n",
       "</style>\n",
       "<table border=\"1\" class=\"dataframe\">\n",
       "  <thead>\n",
       "    <tr style=\"text-align: right;\">\n",
       "      <th></th>\n",
       "      <th>date</th>\n",
       "      <th>hour</th>\n",
       "      <th>day_of_week</th>\n",
       "      <th>is_weekend</th>\n",
       "      <th>month</th>\n",
       "      <th>borough</th>\n",
       "      <th>zipcode</th>\n",
       "      <th>initial_call_type</th>\n",
       "      <th>initial_severity_level_code</th>\n",
       "    </tr>\n",
       "  </thead>\n",
       "  <tbody>\n",
       "    <tr>\n",
       "      <th>0</th>\n",
       "      <td>2024-07-01</td>\n",
       "      <td>0</td>\n",
       "      <td>0</td>\n",
       "      <td>0</td>\n",
       "      <td>7</td>\n",
       "      <td>QUEENS</td>\n",
       "      <td>11101.0</td>\n",
       "      <td>STNDBY</td>\n",
       "      <td>8</td>\n",
       "    </tr>\n",
       "    <tr>\n",
       "      <th>1</th>\n",
       "      <td>2024-07-01</td>\n",
       "      <td>0</td>\n",
       "      <td>0</td>\n",
       "      <td>0</td>\n",
       "      <td>7</td>\n",
       "      <td>MANHATTAN</td>\n",
       "      <td>10035.0</td>\n",
       "      <td>STNDBY</td>\n",
       "      <td>8</td>\n",
       "    </tr>\n",
       "    <tr>\n",
       "      <th>2</th>\n",
       "      <td>2024-07-01</td>\n",
       "      <td>0</td>\n",
       "      <td>0</td>\n",
       "      <td>0</td>\n",
       "      <td>7</td>\n",
       "      <td>MANHATTAN</td>\n",
       "      <td>10065.0</td>\n",
       "      <td>EDP</td>\n",
       "      <td>7</td>\n",
       "    </tr>\n",
       "    <tr>\n",
       "      <th>3</th>\n",
       "      <td>2024-07-01</td>\n",
       "      <td>0</td>\n",
       "      <td>0</td>\n",
       "      <td>0</td>\n",
       "      <td>7</td>\n",
       "      <td>MANHATTAN</td>\n",
       "      <td>10035.0</td>\n",
       "      <td>STNDBY</td>\n",
       "      <td>8</td>\n",
       "    </tr>\n",
       "    <tr>\n",
       "      <th>4</th>\n",
       "      <td>2024-07-01</td>\n",
       "      <td>0</td>\n",
       "      <td>0</td>\n",
       "      <td>0</td>\n",
       "      <td>7</td>\n",
       "      <td>BRONX</td>\n",
       "      <td>10451.0</td>\n",
       "      <td>SEIZR</td>\n",
       "      <td>3</td>\n",
       "    </tr>\n",
       "  </tbody>\n",
       "</table>\n",
       "</div>"
      ],
      "text/plain": [
       "         date  hour  day_of_week  is_weekend  month    borough  zipcode  \\\n",
       "0  2024-07-01     0            0           0      7     QUEENS  11101.0   \n",
       "1  2024-07-01     0            0           0      7  MANHATTAN  10035.0   \n",
       "2  2024-07-01     0            0           0      7  MANHATTAN  10065.0   \n",
       "3  2024-07-01     0            0           0      7  MANHATTAN  10035.0   \n",
       "4  2024-07-01     0            0           0      7      BRONX  10451.0   \n",
       "\n",
       "  initial_call_type  initial_severity_level_code  \n",
       "0            STNDBY                            8  \n",
       "1            STNDBY                            8  \n",
       "2               EDP                            7  \n",
       "3            STNDBY                            8  \n",
       "4             SEIZR                            3  "
      ]
     },
     "execution_count": 14,
     "metadata": {},
     "output_type": "execute_result"
    }
   ],
   "source": [
    "df.head()"
   ]
  },
  {
   "cell_type": "markdown",
   "id": "118ea43a",
   "metadata": {},
   "source": [
    "__Checking for Missing Values__\n",
    "\n",
    "Before adding features like holidays or weather, it's important to handle missing values in key columns:\n",
    "\n",
    "- **`date`**: Needed to match holidays and weather data by time. Missing dates make time-based features unreliable.\n",
    "- **`zipcode`** and **`borough`**: Needed to match the location for weather data. Missing values mean we can’t add weather accurately.\n"
   ]
  },
  {
   "cell_type": "code",
   "execution_count": 15,
   "id": "c6fff940",
   "metadata": {},
   "outputs": [
    {
     "data": {
      "text/plain": [
       "np.int64(0)"
      ]
     },
     "execution_count": 15,
     "metadata": {},
     "output_type": "execute_result"
    }
   ],
   "source": [
    "# Check for missing date\n",
    "df.date.isna().sum()"
   ]
  },
  {
   "cell_type": "code",
   "execution_count": 16,
   "id": "d1a5282d",
   "metadata": {},
   "outputs": [
    {
     "data": {
      "text/plain": [
       "np.int64(21123)"
      ]
     },
     "execution_count": 16,
     "metadata": {},
     "output_type": "execute_result"
    }
   ],
   "source": [
    "#Check for missing  in boruogh \n",
    "df.zipcode.isna().sum()"
   ]
  },
  {
   "cell_type": "markdown",
   "id": "0f8ea169",
   "metadata": {},
   "source": [
    "__Analyzing missing zipcode rows__"
   ]
  },
  {
   "cell_type": "code",
   "execution_count": 17,
   "id": "2240d47f",
   "metadata": {},
   "outputs": [
    {
     "data": {
      "text/html": [
       "<div>\n",
       "<style scoped>\n",
       "    .dataframe tbody tr th:only-of-type {\n",
       "        vertical-align: middle;\n",
       "    }\n",
       "\n",
       "    .dataframe tbody tr th {\n",
       "        vertical-align: top;\n",
       "    }\n",
       "\n",
       "    .dataframe thead th {\n",
       "        text-align: right;\n",
       "    }\n",
       "</style>\n",
       "<table border=\"1\" class=\"dataframe\">\n",
       "  <thead>\n",
       "    <tr style=\"text-align: right;\">\n",
       "      <th></th>\n",
       "      <th>date</th>\n",
       "      <th>hour</th>\n",
       "      <th>day_of_week</th>\n",
       "      <th>is_weekend</th>\n",
       "      <th>month</th>\n",
       "      <th>borough</th>\n",
       "      <th>zipcode</th>\n",
       "      <th>initial_call_type</th>\n",
       "      <th>initial_severity_level_code</th>\n",
       "    </tr>\n",
       "  </thead>\n",
       "  <tbody>\n",
       "    <tr>\n",
       "      <th>1308403</th>\n",
       "      <td>2025-04-25</td>\n",
       "      <td>20</td>\n",
       "      <td>4</td>\n",
       "      <td>0</td>\n",
       "      <td>4</td>\n",
       "      <td>QUEENS</td>\n",
       "      <td>NaN</td>\n",
       "      <td>SICMIN</td>\n",
       "      <td>7</td>\n",
       "    </tr>\n",
       "    <tr>\n",
       "      <th>1308424</th>\n",
       "      <td>2025-04-25</td>\n",
       "      <td>20</td>\n",
       "      <td>4</td>\n",
       "      <td>0</td>\n",
       "      <td>4</td>\n",
       "      <td>BROOKLYN</td>\n",
       "      <td>NaN</td>\n",
       "      <td>UNKNOW</td>\n",
       "      <td>4</td>\n",
       "    </tr>\n",
       "    <tr>\n",
       "      <th>1308458</th>\n",
       "      <td>2025-04-25</td>\n",
       "      <td>20</td>\n",
       "      <td>4</td>\n",
       "      <td>0</td>\n",
       "      <td>4</td>\n",
       "      <td>BRONX</td>\n",
       "      <td>NaN</td>\n",
       "      <td>MVAINJ</td>\n",
       "      <td>5</td>\n",
       "    </tr>\n",
       "    <tr>\n",
       "      <th>1308537</th>\n",
       "      <td>2025-04-25</td>\n",
       "      <td>20</td>\n",
       "      <td>4</td>\n",
       "      <td>0</td>\n",
       "      <td>4</td>\n",
       "      <td>RICHMOND / STATEN ISLAND</td>\n",
       "      <td>NaN</td>\n",
       "      <td>INJURY</td>\n",
       "      <td>5</td>\n",
       "    </tr>\n",
       "    <tr>\n",
       "      <th>1308551</th>\n",
       "      <td>2025-04-25</td>\n",
       "      <td>20</td>\n",
       "      <td>4</td>\n",
       "      <td>0</td>\n",
       "      <td>4</td>\n",
       "      <td>QUEENS</td>\n",
       "      <td>NaN</td>\n",
       "      <td>STNDBY</td>\n",
       "      <td>8</td>\n",
       "    </tr>\n",
       "  </tbody>\n",
       "</table>\n",
       "</div>"
      ],
      "text/plain": [
       "               date  hour  day_of_week  is_weekend  month  \\\n",
       "1308403  2025-04-25    20            4           0      4   \n",
       "1308424  2025-04-25    20            4           0      4   \n",
       "1308458  2025-04-25    20            4           0      4   \n",
       "1308537  2025-04-25    20            4           0      4   \n",
       "1308551  2025-04-25    20            4           0      4   \n",
       "\n",
       "                          borough  zipcode initial_call_type  \\\n",
       "1308403                    QUEENS      NaN            SICMIN   \n",
       "1308424                  BROOKLYN      NaN            UNKNOW   \n",
       "1308458                     BRONX      NaN            MVAINJ   \n",
       "1308537  RICHMOND / STATEN ISLAND      NaN            INJURY   \n",
       "1308551                    QUEENS      NaN            STNDBY   \n",
       "\n",
       "         initial_severity_level_code  \n",
       "1308403                            7  \n",
       "1308424                            4  \n",
       "1308458                            5  \n",
       "1308537                            5  \n",
       "1308551                            8  "
      ]
     },
     "execution_count": 17,
     "metadata": {},
     "output_type": "execute_result"
    }
   ],
   "source": [
    "missing_zip = df[df.zipcode.isna()]\n",
    "missing_zip.tail()"
   ]
  },
  {
   "cell_type": "code",
   "execution_count": 18,
   "id": "944953c3",
   "metadata": {},
   "outputs": [
    {
     "data": {
      "text/plain": [
       "borough\n",
       "QUEENS                      8103\n",
       "BROOKLYN                    4416\n",
       "BRONX                       4036\n",
       "MANHATTAN                   2846\n",
       "RICHMOND / STATEN ISLAND    1721\n",
       "UNKNOWN                        1\n",
       "Name: count, dtype: int64"
      ]
     },
     "execution_count": 18,
     "metadata": {},
     "output_type": "execute_result"
    }
   ],
   "source": [
    "# check missing zipcode by borough\n",
    "missing_zip.borough.value_counts()"
   ]
  },
  {
   "cell_type": "code",
   "execution_count": 19,
   "id": "ae696edf",
   "metadata": {},
   "outputs": [
    {
     "name": "stdout",
     "output_type": "stream",
     "text": [
      "borough\n",
      "BRONX                         1.304380\n",
      "BROOKLYN                      1.223814\n",
      "MANHATTAN                     0.901726\n",
      "QUEENS                        3.032560\n",
      "RICHMOND / STATEN ISLAND      3.098779\n",
      "UNKNOWN                     100.000000\n",
      "dtype: float64\n"
     ]
    }
   ],
   "source": [
    "# Total zipcodes by borough\n",
    "total_counts = df.groupby('borough').size()\n",
    "\n",
    "# Missing zipcode per borough\n",
    "missing_zip = df[df.zipcode.isna()].groupby('borough').size()\n",
    "\n",
    "# Mising percentage \n",
    "missing_percentage = (missing_zip/total_counts)*100\n",
    "\n",
    "print(missing_percentage)"
   ]
  },
  {
   "cell_type": "markdown",
   "id": "04083dc6",
   "metadata": {},
   "source": [
    "__Drop Rows with Missing `zipcode`__\n",
    "\n",
    "Dataset has about **1308614 rows**, and around **1–3% of zipcodes are missing**, depending on the borough.\n",
    "\n",
    "Since `zipcode` is important for adding **location-based features** like weather, missing values in this column reduce the accuracy of those features.\n",
    "\n",
    "Given the small dataset size, keeping clean and reliable data is essential. \n",
    "So, we choose to **drop rows with missing `zipcode`** to avoid adding incorrect or incomplete location-based data.\n",
    "\n",
    "This results in only a small data loss (~2.5%), which is acceptable for improving data quality."
   ]
  },
  {
   "cell_type": "code",
   "execution_count": 20,
   "id": "cb5b7cc0",
   "metadata": {},
   "outputs": [
    {
     "data": {
      "text/plain": [
       "np.int64(0)"
      ]
     },
     "execution_count": 20,
     "metadata": {},
     "output_type": "execute_result"
    }
   ],
   "source": [
    "# Drop missing zipcode values\n",
    "df = df.dropna(subset=['zipcode'])\n",
    "\n",
    "df.zipcode.isna().sum()"
   ]
  },
  {
   "cell_type": "code",
   "execution_count": 21,
   "id": "8a5b878e",
   "metadata": {},
   "outputs": [
    {
     "data": {
      "text/plain": [
       "date                           0\n",
       "hour                           0\n",
       "day_of_week                    0\n",
       "is_weekend                     0\n",
       "month                          0\n",
       "borough                        0\n",
       "zipcode                        0\n",
       "initial_call_type              0\n",
       "initial_severity_level_code    0\n",
       "dtype: int64"
      ]
     },
     "execution_count": 21,
     "metadata": {},
     "output_type": "execute_result"
    }
   ],
   "source": [
    "# Check the df for any other missing values\n",
    "df.isna().sum()"
   ]
  },
  {
   "cell_type": "markdown",
   "id": "6f91cfee",
   "metadata": {},
   "source": [
    "__Zipcodes are numeric identifiers — storing them as float (e.g., 10001.0) is incorrect and can cause confusion.__"
   ]
  },
  {
   "cell_type": "code",
   "execution_count": 22,
   "id": "720f58f5",
   "metadata": {},
   "outputs": [
    {
     "data": {
      "text/plain": [
       "dtype('float64')"
      ]
     },
     "execution_count": 22,
     "metadata": {},
     "output_type": "execute_result"
    }
   ],
   "source": [
    "# check zipcode type\n",
    "df.zipcode.dtype"
   ]
  },
  {
   "cell_type": "code",
   "execution_count": 23,
   "id": "12beb175",
   "metadata": {},
   "outputs": [],
   "source": [
    "# Converting zipcode to int\n",
    "df['zipcode'] = df['zipcode'].astype(int)\n"
   ]
  },
  {
   "cell_type": "code",
   "execution_count": 24,
   "id": "c95d85fd",
   "metadata": {},
   "outputs": [
    {
     "data": {
      "text/plain": [
       "date                           object\n",
       "hour                            int32\n",
       "day_of_week                     int32\n",
       "is_weekend                      int64\n",
       "month                           int32\n",
       "borough                        object\n",
       "zipcode                         int64\n",
       "initial_call_type              object\n",
       "initial_severity_level_code     int64\n",
       "dtype: object"
      ]
     },
     "execution_count": 24,
     "metadata": {},
     "output_type": "execute_result"
    }
   ],
   "source": [
    "df.dtypes"
   ]
  },
  {
   "cell_type": "code",
   "execution_count": 25,
   "id": "2f77574b",
   "metadata": {},
   "outputs": [],
   "source": [
    "# Converting date back to datetime \n",
    "df['date']=pd.to_datetime(df['date'])"
   ]
  },
  {
   "cell_type": "code",
   "execution_count": 26,
   "id": "4dccc87f",
   "metadata": {},
   "outputs": [
    {
     "data": {
      "text/plain": [
       "dtype('<M8[ns]')"
      ]
     },
     "execution_count": 26,
     "metadata": {},
     "output_type": "execute_result"
    }
   ],
   "source": [
    "df.date.dtype"
   ]
  },
  {
   "cell_type": "code",
   "execution_count": 27,
   "id": "a527e1c8",
   "metadata": {},
   "outputs": [
    {
     "data": {
      "text/plain": [
       "(1287491, 9)"
      ]
     },
     "execution_count": 27,
     "metadata": {},
     "output_type": "execute_result"
    }
   ],
   "source": [
    "df.shape"
   ]
  },
  {
   "cell_type": "markdown",
   "id": "cd33b74d",
   "metadata": {},
   "source": [
    "__Add Holidays to the Dataset__\n",
    "\n",
    "Holidays can affect ambulance call patterns because people behave differently on those days. There may be more accidents, health emergencies, or delayed care. \n",
    "\n",
    "We are adding a holiday column using the `pandas` `USFederalHolidayCalendar` library to help the model understand and predict these changes more accurately."
   ]
  },
  {
   "cell_type": "code",
   "execution_count": 28,
   "id": "283ef7eb",
   "metadata": {},
   "outputs": [],
   "source": [
    "# importing USFederalHoilidayCalender\n",
    "from pandas.tseries.holiday import USFederalHolidayCalendar   \n",
    "\n",
    "#Generate calender\n",
    "calendar = USFederalHolidayCalendar()\n",
    "\n",
    "# Create US hoildays using df date range\n",
    "us_holidays = calendar.holidays(start='2024-07-01', end='2025-04-25')"
   ]
  },
  {
   "cell_type": "code",
   "execution_count": 29,
   "id": "7c1aa1a6",
   "metadata": {},
   "outputs": [
    {
     "data": {
      "text/html": [
       "<div>\n",
       "<style scoped>\n",
       "    .dataframe tbody tr th:only-of-type {\n",
       "        vertical-align: middle;\n",
       "    }\n",
       "\n",
       "    .dataframe tbody tr th {\n",
       "        vertical-align: top;\n",
       "    }\n",
       "\n",
       "    .dataframe thead th {\n",
       "        text-align: right;\n",
       "    }\n",
       "</style>\n",
       "<table border=\"1\" class=\"dataframe\">\n",
       "  <thead>\n",
       "    <tr style=\"text-align: right;\">\n",
       "      <th></th>\n",
       "      <th>date</th>\n",
       "      <th>hour</th>\n",
       "      <th>day_of_week</th>\n",
       "      <th>is_weekend</th>\n",
       "      <th>month</th>\n",
       "      <th>borough</th>\n",
       "      <th>zipcode</th>\n",
       "      <th>initial_call_type</th>\n",
       "      <th>initial_severity_level_code</th>\n",
       "      <th>is_holiday</th>\n",
       "    </tr>\n",
       "  </thead>\n",
       "  <tbody>\n",
       "    <tr>\n",
       "      <th>0</th>\n",
       "      <td>2024-07-01</td>\n",
       "      <td>0</td>\n",
       "      <td>0</td>\n",
       "      <td>0</td>\n",
       "      <td>7</td>\n",
       "      <td>QUEENS</td>\n",
       "      <td>11101</td>\n",
       "      <td>STNDBY</td>\n",
       "      <td>8</td>\n",
       "      <td>0</td>\n",
       "    </tr>\n",
       "    <tr>\n",
       "      <th>1</th>\n",
       "      <td>2024-07-01</td>\n",
       "      <td>0</td>\n",
       "      <td>0</td>\n",
       "      <td>0</td>\n",
       "      <td>7</td>\n",
       "      <td>MANHATTAN</td>\n",
       "      <td>10035</td>\n",
       "      <td>STNDBY</td>\n",
       "      <td>8</td>\n",
       "      <td>0</td>\n",
       "    </tr>\n",
       "    <tr>\n",
       "      <th>2</th>\n",
       "      <td>2024-07-01</td>\n",
       "      <td>0</td>\n",
       "      <td>0</td>\n",
       "      <td>0</td>\n",
       "      <td>7</td>\n",
       "      <td>MANHATTAN</td>\n",
       "      <td>10065</td>\n",
       "      <td>EDP</td>\n",
       "      <td>7</td>\n",
       "      <td>0</td>\n",
       "    </tr>\n",
       "    <tr>\n",
       "      <th>3</th>\n",
       "      <td>2024-07-01</td>\n",
       "      <td>0</td>\n",
       "      <td>0</td>\n",
       "      <td>0</td>\n",
       "      <td>7</td>\n",
       "      <td>MANHATTAN</td>\n",
       "      <td>10035</td>\n",
       "      <td>STNDBY</td>\n",
       "      <td>8</td>\n",
       "      <td>0</td>\n",
       "    </tr>\n",
       "    <tr>\n",
       "      <th>4</th>\n",
       "      <td>2024-07-01</td>\n",
       "      <td>0</td>\n",
       "      <td>0</td>\n",
       "      <td>0</td>\n",
       "      <td>7</td>\n",
       "      <td>BRONX</td>\n",
       "      <td>10451</td>\n",
       "      <td>SEIZR</td>\n",
       "      <td>3</td>\n",
       "      <td>0</td>\n",
       "    </tr>\n",
       "  </tbody>\n",
       "</table>\n",
       "</div>"
      ],
      "text/plain": [
       "        date  hour  day_of_week  is_weekend  month    borough  zipcode  \\\n",
       "0 2024-07-01     0            0           0      7     QUEENS    11101   \n",
       "1 2024-07-01     0            0           0      7  MANHATTAN    10035   \n",
       "2 2024-07-01     0            0           0      7  MANHATTAN    10065   \n",
       "3 2024-07-01     0            0           0      7  MANHATTAN    10035   \n",
       "4 2024-07-01     0            0           0      7      BRONX    10451   \n",
       "\n",
       "  initial_call_type  initial_severity_level_code  is_holiday  \n",
       "0            STNDBY                            8           0  \n",
       "1            STNDBY                            8           0  \n",
       "2               EDP                            7           0  \n",
       "3            STNDBY                            8           0  \n",
       "4             SEIZR                            3           0  "
      ]
     },
     "execution_count": 29,
     "metadata": {},
     "output_type": "execute_result"
    }
   ],
   "source": [
    "# Create new cloumn is_holiday. True=1, False=0\n",
    "df['is_holiday']=df['date'].isin(us_holidays).astype(int)\n",
    "df.head()"
   ]
  },
  {
   "cell_type": "code",
   "execution_count": 30,
   "id": "0f9bd740",
   "metadata": {},
   "outputs": [
    {
     "data": {
      "text/plain": [
       "np.int64(36182)"
      ]
     },
     "execution_count": 30,
     "metadata": {},
     "output_type": "execute_result"
    }
   ],
   "source": [
    "df.is_holiday.sum()"
   ]
  },
  {
   "cell_type": "code",
   "execution_count": 31,
   "id": "25a6a3b0",
   "metadata": {},
   "outputs": [
    {
     "data": {
      "text/plain": [
       "(Timestamp('2024-07-01 00:00:00'), Timestamp('2025-04-25 00:00:00'))"
      ]
     },
     "execution_count": 31,
     "metadata": {},
     "output_type": "execute_result"
    }
   ],
   "source": [
    "df.date.min(), df.date.max()"
   ]
  },
  {
   "cell_type": "markdown",
   "id": "f4488272",
   "metadata": {},
   "source": [
    "**Feature Engineering: Rationale** \n",
    "  \n",
    "**1. Daily Aggregation of Ambulance Calls**.   \n",
    "Why: The goal is to predict daily call volumes, not hourly.  \n",
    "Reason: Aggregating to daily level simplifies modeling, reduces noise from short-term fluctuations, and aligns with how trends like holidays, weather, or weekdays typically influence behavior.  \n",
    "How: Count total calls per day per borough or ZIP.\n",
    "\n",
    "**2. Mean, Min, and Max Severity Levels**   \n",
    "Why: Severity level ranges from **1 (most severe) to 8 (least severe)**.      \n",
    "Reason: These statistical summaries help capture the nature of the calls on a given day:   \n",
    "mean_severity: shows general trend of urgency (lower = more severe).  \n",
    "min_severity: identifies if very serious cases occurred.  \n",
    "max_severity: captures the full range of severity types on that day.  \n",
    "Insight: A day with mostly low severity levels might reflect routine calls, while a lower mean might indicate a stressful or crisis-heavy day.  \n",
    "\n",
    "**3. Lag Features (Previous Day’s Call Volume)**.     \n",
    "Why: To capture temporal trends and patterns.  \n",
    "Reason: Ambulance call volume often shows autocorrelation — a high call volume one day might be followed by a similar trend the next.  \n",
    "How: Create lag features like:  \n",
    "calls_lag_1: number of calls on the previous day  \n",
    "calls_lag_7: calls from the same weekday last week  \n",
    "Insight: Helps the model learn short-term patterns and anomalies (e.g., ongoing incidents, seasonal waves, or weekends).  \n",
    "\n"
   ]
  },
  {
   "cell_type": "code",
   "execution_count": 32,
   "id": "7020fcb2",
   "metadata": {},
   "outputs": [
    {
     "data": {
      "text/plain": [
       "dtype('<M8[ns]')"
      ]
     },
     "execution_count": 32,
     "metadata": {},
     "output_type": "execute_result"
    }
   ],
   "source": [
    "# Confirming date is in datetime format\n",
    "df.date.dtype"
   ]
  },
  {
   "cell_type": "code",
   "execution_count": 33,
   "id": "86963542",
   "metadata": {},
   "outputs": [],
   "source": [
    "# Aggregate daily ambulance call volume per borough\n",
    "\n",
    "daily_calls = df.groupby(['date','borough']).agg(\n",
    "            daily_call_vol=('hour','count'),\n",
    "            mean_severity_level=('initial_severity_level_code','mean'),\n",
    "            max_severity_level=('initial_severity_level_code', 'min'),\n",
    "            min_severity=('initial_severity_level_code','max'),\n",
    "            day_of_week=('day_of_week','first'),\n",
    "            is_weekend=('is_weekend','first'),\n",
    "            is_holiday=('is_holiday','first')\n",
    ").reset_index()"
   ]
  },
  {
   "cell_type": "code",
   "execution_count": 34,
   "id": "766b624e",
   "metadata": {},
   "outputs": [
    {
     "data": {
      "text/html": [
       "<div>\n",
       "<style scoped>\n",
       "    .dataframe tbody tr th:only-of-type {\n",
       "        vertical-align: middle;\n",
       "    }\n",
       "\n",
       "    .dataframe tbody tr th {\n",
       "        vertical-align: top;\n",
       "    }\n",
       "\n",
       "    .dataframe thead th {\n",
       "        text-align: right;\n",
       "    }\n",
       "</style>\n",
       "<table border=\"1\" class=\"dataframe\">\n",
       "  <thead>\n",
       "    <tr style=\"text-align: right;\">\n",
       "      <th></th>\n",
       "      <th>date</th>\n",
       "      <th>borough</th>\n",
       "      <th>daily_call_vol</th>\n",
       "      <th>mean_severity_level</th>\n",
       "      <th>max_severity_level</th>\n",
       "      <th>min_severity</th>\n",
       "      <th>day_of_week</th>\n",
       "      <th>is_weekend</th>\n",
       "      <th>is_holiday</th>\n",
       "    </tr>\n",
       "  </thead>\n",
       "  <tbody>\n",
       "    <tr>\n",
       "      <th>0</th>\n",
       "      <td>2024-07-01</td>\n",
       "      <td>BRONX</td>\n",
       "      <td>1039</td>\n",
       "      <td>4.216554</td>\n",
       "      <td>1</td>\n",
       "      <td>8</td>\n",
       "      <td>0</td>\n",
       "      <td>0</td>\n",
       "      <td>0</td>\n",
       "    </tr>\n",
       "    <tr>\n",
       "      <th>1</th>\n",
       "      <td>2024-07-01</td>\n",
       "      <td>BROOKLYN</td>\n",
       "      <td>1266</td>\n",
       "      <td>4.274882</td>\n",
       "      <td>1</td>\n",
       "      <td>8</td>\n",
       "      <td>0</td>\n",
       "      <td>0</td>\n",
       "      <td>0</td>\n",
       "    </tr>\n",
       "    <tr>\n",
       "      <th>2</th>\n",
       "      <td>2024-07-01</td>\n",
       "      <td>MANHATTAN</td>\n",
       "      <td>1200</td>\n",
       "      <td>4.276667</td>\n",
       "      <td>1</td>\n",
       "      <td>8</td>\n",
       "      <td>0</td>\n",
       "      <td>0</td>\n",
       "      <td>0</td>\n",
       "    </tr>\n",
       "    <tr>\n",
       "      <th>3</th>\n",
       "      <td>2024-07-01</td>\n",
       "      <td>QUEENS</td>\n",
       "      <td>914</td>\n",
       "      <td>4.250547</td>\n",
       "      <td>1</td>\n",
       "      <td>8</td>\n",
       "      <td>0</td>\n",
       "      <td>0</td>\n",
       "      <td>0</td>\n",
       "    </tr>\n",
       "    <tr>\n",
       "      <th>4</th>\n",
       "      <td>2024-07-01</td>\n",
       "      <td>RICHMOND / STATEN ISLAND</td>\n",
       "      <td>167</td>\n",
       "      <td>4.233533</td>\n",
       "      <td>1</td>\n",
       "      <td>7</td>\n",
       "      <td>0</td>\n",
       "      <td>0</td>\n",
       "      <td>0</td>\n",
       "    </tr>\n",
       "  </tbody>\n",
       "</table>\n",
       "</div>"
      ],
      "text/plain": [
       "        date                   borough  daily_call_vol  mean_severity_level  \\\n",
       "0 2024-07-01                     BRONX            1039             4.216554   \n",
       "1 2024-07-01                  BROOKLYN            1266             4.274882   \n",
       "2 2024-07-01                 MANHATTAN            1200             4.276667   \n",
       "3 2024-07-01                    QUEENS             914             4.250547   \n",
       "4 2024-07-01  RICHMOND / STATEN ISLAND             167             4.233533   \n",
       "\n",
       "   max_severity_level  min_severity  day_of_week  is_weekend  is_holiday  \n",
       "0                   1             8            0           0           0  \n",
       "1                   1             8            0           0           0  \n",
       "2                   1             8            0           0           0  \n",
       "3                   1             8            0           0           0  \n",
       "4                   1             7            0           0           0  "
      ]
     },
     "execution_count": 34,
     "metadata": {},
     "output_type": "execute_result"
    }
   ],
   "source": [
    "daily_calls.head()"
   ]
  },
  {
   "cell_type": "code",
   "execution_count": 35,
   "id": "a7f68fb5",
   "metadata": {},
   "outputs": [],
   "source": [
    "# Adding lag features by sorting borough and date\n",
    " \n",
    "daily_calls = daily_calls.sort_values(['borough','date'])\n",
    "daily_calls['lag_1'] = daily_calls.groupby('borough')['daily_call_vol'].shift(1)\n",
    "daily_calls['lag_7'] = daily_calls.groupby('borough')['daily_call_vol'].shift(7)"
   ]
  },
  {
   "cell_type": "code",
   "execution_count": 36,
   "id": "354732d0",
   "metadata": {},
   "outputs": [
    {
     "data": {
      "text/html": [
       "<div>\n",
       "<style scoped>\n",
       "    .dataframe tbody tr th:only-of-type {\n",
       "        vertical-align: middle;\n",
       "    }\n",
       "\n",
       "    .dataframe tbody tr th {\n",
       "        vertical-align: top;\n",
       "    }\n",
       "\n",
       "    .dataframe thead th {\n",
       "        text-align: right;\n",
       "    }\n",
       "</style>\n",
       "<table border=\"1\" class=\"dataframe\">\n",
       "  <thead>\n",
       "    <tr style=\"text-align: right;\">\n",
       "      <th></th>\n",
       "      <th>date</th>\n",
       "      <th>borough</th>\n",
       "      <th>daily_call_vol</th>\n",
       "      <th>mean_severity_level</th>\n",
       "      <th>max_severity_level</th>\n",
       "      <th>min_severity</th>\n",
       "      <th>day_of_week</th>\n",
       "      <th>is_weekend</th>\n",
       "      <th>is_holiday</th>\n",
       "      <th>lag_1</th>\n",
       "      <th>lag_7</th>\n",
       "    </tr>\n",
       "  </thead>\n",
       "  <tbody>\n",
       "    <tr>\n",
       "      <th>0</th>\n",
       "      <td>2024-07-01</td>\n",
       "      <td>BRONX</td>\n",
       "      <td>1039</td>\n",
       "      <td>4.216554</td>\n",
       "      <td>1</td>\n",
       "      <td>8</td>\n",
       "      <td>0</td>\n",
       "      <td>0</td>\n",
       "      <td>0</td>\n",
       "      <td>NaN</td>\n",
       "      <td>NaN</td>\n",
       "    </tr>\n",
       "    <tr>\n",
       "      <th>35</th>\n",
       "      <td>2024-07-08</td>\n",
       "      <td>BRONX</td>\n",
       "      <td>1134</td>\n",
       "      <td>4.194885</td>\n",
       "      <td>1</td>\n",
       "      <td>7</td>\n",
       "      <td>0</td>\n",
       "      <td>0</td>\n",
       "      <td>0</td>\n",
       "      <td>1009.0</td>\n",
       "      <td>1039.0</td>\n",
       "    </tr>\n",
       "    <tr>\n",
       "      <th>70</th>\n",
       "      <td>2024-07-15</td>\n",
       "      <td>BRONX</td>\n",
       "      <td>1230</td>\n",
       "      <td>4.162602</td>\n",
       "      <td>1</td>\n",
       "      <td>8</td>\n",
       "      <td>0</td>\n",
       "      <td>0</td>\n",
       "      <td>0</td>\n",
       "      <td>1070.0</td>\n",
       "      <td>1134.0</td>\n",
       "    </tr>\n",
       "    <tr>\n",
       "      <th>105</th>\n",
       "      <td>2024-07-22</td>\n",
       "      <td>BRONX</td>\n",
       "      <td>1137</td>\n",
       "      <td>4.186456</td>\n",
       "      <td>1</td>\n",
       "      <td>8</td>\n",
       "      <td>0</td>\n",
       "      <td>0</td>\n",
       "      <td>0</td>\n",
       "      <td>1091.0</td>\n",
       "      <td>1230.0</td>\n",
       "    </tr>\n",
       "    <tr>\n",
       "      <th>140</th>\n",
       "      <td>2024-07-29</td>\n",
       "      <td>BRONX</td>\n",
       "      <td>1077</td>\n",
       "      <td>4.319406</td>\n",
       "      <td>1</td>\n",
       "      <td>7</td>\n",
       "      <td>0</td>\n",
       "      <td>0</td>\n",
       "      <td>0</td>\n",
       "      <td>1002.0</td>\n",
       "      <td>1137.0</td>\n",
       "    </tr>\n",
       "    <tr>\n",
       "      <th>175</th>\n",
       "      <td>2024-08-05</td>\n",
       "      <td>BRONX</td>\n",
       "      <td>1089</td>\n",
       "      <td>4.234160</td>\n",
       "      <td>1</td>\n",
       "      <td>7</td>\n",
       "      <td>0</td>\n",
       "      <td>0</td>\n",
       "      <td>0</td>\n",
       "      <td>941.0</td>\n",
       "      <td>1077.0</td>\n",
       "    </tr>\n",
       "    <tr>\n",
       "      <th>210</th>\n",
       "      <td>2024-08-12</td>\n",
       "      <td>BRONX</td>\n",
       "      <td>1075</td>\n",
       "      <td>4.301395</td>\n",
       "      <td>1</td>\n",
       "      <td>8</td>\n",
       "      <td>0</td>\n",
       "      <td>0</td>\n",
       "      <td>0</td>\n",
       "      <td>1020.0</td>\n",
       "      <td>1089.0</td>\n",
       "    </tr>\n",
       "    <tr>\n",
       "      <th>245</th>\n",
       "      <td>2024-08-19</td>\n",
       "      <td>BRONX</td>\n",
       "      <td>1011</td>\n",
       "      <td>4.281899</td>\n",
       "      <td>1</td>\n",
       "      <td>8</td>\n",
       "      <td>0</td>\n",
       "      <td>0</td>\n",
       "      <td>0</td>\n",
       "      <td>937.0</td>\n",
       "      <td>1075.0</td>\n",
       "    </tr>\n",
       "  </tbody>\n",
       "</table>\n",
       "</div>"
      ],
      "text/plain": [
       "          date borough  daily_call_vol  mean_severity_level  \\\n",
       "0   2024-07-01   BRONX            1039             4.216554   \n",
       "35  2024-07-08   BRONX            1134             4.194885   \n",
       "70  2024-07-15   BRONX            1230             4.162602   \n",
       "105 2024-07-22   BRONX            1137             4.186456   \n",
       "140 2024-07-29   BRONX            1077             4.319406   \n",
       "175 2024-08-05   BRONX            1089             4.234160   \n",
       "210 2024-08-12   BRONX            1075             4.301395   \n",
       "245 2024-08-19   BRONX            1011             4.281899   \n",
       "\n",
       "     max_severity_level  min_severity  day_of_week  is_weekend  is_holiday  \\\n",
       "0                     1             8            0           0           0   \n",
       "35                    1             7            0           0           0   \n",
       "70                    1             8            0           0           0   \n",
       "105                   1             8            0           0           0   \n",
       "140                   1             7            0           0           0   \n",
       "175                   1             7            0           0           0   \n",
       "210                   1             8            0           0           0   \n",
       "245                   1             8            0           0           0   \n",
       "\n",
       "      lag_1   lag_7  \n",
       "0       NaN     NaN  \n",
       "35   1009.0  1039.0  \n",
       "70   1070.0  1134.0  \n",
       "105  1091.0  1230.0  \n",
       "140  1002.0  1137.0  \n",
       "175   941.0  1077.0  \n",
       "210  1020.0  1089.0  \n",
       "245   937.0  1075.0  "
      ]
     },
     "execution_count": 36,
     "metadata": {},
     "output_type": "execute_result"
    }
   ],
   "source": [
    "daily_calls.iloc[0:56:7]"
   ]
  },
  {
   "cell_type": "code",
   "execution_count": 37,
   "id": "2e36b4d8",
   "metadata": {},
   "outputs": [
    {
     "data": {
      "text/plain": [
       "(1495, 11)"
      ]
     },
     "execution_count": 37,
     "metadata": {},
     "output_type": "execute_result"
    }
   ],
   "source": [
    "daily_calls.shape"
   ]
  },
  {
   "cell_type": "code",
   "execution_count": 38,
   "id": "03d322ce",
   "metadata": {},
   "outputs": [
    {
     "data": {
      "text/plain": [
       "date                   datetime64[ns]\n",
       "borough                        object\n",
       "daily_call_vol                  int64\n",
       "mean_severity_level           float64\n",
       "max_severity_level              int64\n",
       "min_severity                    int64\n",
       "day_of_week                     int32\n",
       "is_weekend                      int64\n",
       "is_holiday                      int64\n",
       "lag_1                         float64\n",
       "lag_7                         float64\n",
       "dtype: object"
      ]
     },
     "execution_count": 38,
     "metadata": {},
     "output_type": "execute_result"
    }
   ],
   "source": [
    "daily_calls.dtypes"
   ]
  },
  {
   "cell_type": "code",
   "execution_count": 39,
   "id": "8be5a828",
   "metadata": {},
   "outputs": [
    {
     "data": {
      "text/plain": [
       "date                    0\n",
       "borough                 0\n",
       "daily_call_vol          0\n",
       "mean_severity_level     0\n",
       "max_severity_level      0\n",
       "min_severity            0\n",
       "day_of_week             0\n",
       "is_weekend              0\n",
       "is_holiday              0\n",
       "lag_1                   5\n",
       "lag_7                  35\n",
       "dtype: int64"
      ]
     },
     "execution_count": 39,
     "metadata": {},
     "output_type": "execute_result"
    }
   ],
   "source": [
    "# Checking for missing values\n",
    "daily_calls.isna().sum()"
   ]
  },
  {
   "cell_type": "markdown",
   "id": "52fb52a4",
   "metadata": {},
   "source": [
    "**Standardizing Borough Names**\n",
    "\n",
    "Before merging the daily calls and weather datasets, we need to ensure that the borough names are consistent.  \n",
    "\n",
    "- The `daily_call` DataFrame has borough names in **all caps**, while `weather_daily` uses **title case**.  \n",
    "- To avoid merge mismatches, we **normalize the strings** by converting them to title case and trimming any whitespace."
   ]
  },
  {
   "cell_type": "code",
   "execution_count": 40,
   "id": "79b67e2a",
   "metadata": {},
   "outputs": [
    {
     "data": {
      "text/plain": [
       "array(['BRONX', 'BROOKLYN', 'MANHATTAN', 'QUEENS',\n",
       "       'RICHMOND / STATEN ISLAND'], dtype=object)"
      ]
     },
     "execution_count": 40,
     "metadata": {},
     "output_type": "execute_result"
    }
   ],
   "source": [
    "# Checking for string consistency: \n",
    "daily_calls.borough.unique()"
   ]
  },
  {
   "cell_type": "code",
   "execution_count": 41,
   "id": "4151dc57",
   "metadata": {},
   "outputs": [],
   "source": [
    "# Standardize borough names in daily_calls\n",
    "daily_calls['borough'] =daily_calls['borough'].str.strip().str.title()"
   ]
  },
  {
   "cell_type": "code",
   "execution_count": 42,
   "id": "6f035fa3",
   "metadata": {},
   "outputs": [
    {
     "data": {
      "text/plain": [
       "array(['Bronx', 'Brooklyn', 'Manhattan', 'Queens',\n",
       "       'Richmond / Staten Island'], dtype=object)"
      ]
     },
     "execution_count": 42,
     "metadata": {},
     "output_type": "execute_result"
    }
   ],
   "source": [
    "daily_calls.borough.unique()"
   ]
  },
  {
   "cell_type": "markdown",
   "id": "796a2b3e",
   "metadata": {},
   "source": [
    "**In the `daily_call` dataset, Staten Island is labeled as `'Richmond / Staten Island'`.  \n",
    "To ensure consistency with the `weather_daily` dataset, we replace it with the standard name `'Staten Island'`.**"
   ]
  },
  {
   "cell_type": "code",
   "execution_count": 43,
   "id": "bf61f9e3",
   "metadata": {},
   "outputs": [],
   "source": [
    "daily_calls['borough'] = daily_calls['borough'].replace({'Richmond / Staten Island':'Staten Island'})"
   ]
  },
  {
   "cell_type": "code",
   "execution_count": 44,
   "id": "15e13805",
   "metadata": {},
   "outputs": [
    {
     "data": {
      "text/plain": [
       "array(['Bronx', 'Brooklyn', 'Manhattan', 'Queens', 'Staten Island'],\n",
       "      dtype=object)"
      ]
     },
     "execution_count": 44,
     "metadata": {},
     "output_type": "execute_result"
    }
   ],
   "source": [
    "daily_calls.borough.unique()"
   ]
  },
  {
   "cell_type": "code",
   "execution_count": 45,
   "id": "4231dfac",
   "metadata": {},
   "outputs": [],
   "source": [
    "# Saving it as csv file before joining weather data\n",
    "daily_calls.to_csv('daily_ambulance_calls.csv')"
   ]
  },
  {
   "cell_type": "markdown",
   "id": "e1a5dbb8",
   "metadata": {},
   "source": [
    "## Adding weather Data in Ambulance Call Prediction\n",
    "Weather conditions can have a direct and indirect impact on ambulance call volumes. Adding weather data enriches the feature space with external, real-world influences that the model can learn from. While it’s not always the dominant factor, weather adds important context, especially during extreme or seasonal changes."
   ]
  },
  {
   "cell_type": "markdown",
   "id": "e48d9c94",
   "metadata": {},
   "source": [
    "## Weather Data Summary  \n",
    "To add environmental context to the ambulance call data, we collected daily weather data in a different notebook,from July 1, 2024 to April 25, 2025 using We use the Open-Meteo **archive API** to get daily weather data for all five NYC boroughs from **2025-01-01 to 2025-04-30**.  \n",
    "The variables we collect are:\n",
    "\n",
    "- `temperature_2m` — hourly temperature (°C)  \n",
    "- `precipitation` — hourly precipitation (mm)  \n",
    "- `snowfall` — new snow per hour (cm)    \n",
    "\n",
    "We store each borough’s data in a DataFrame and combine them into a single CSV(**'nyc_weather_daily.csv''**) for reproducibility.\n"
   ]
  },
  {
   "cell_type": "code",
   "execution_count": 46,
   "id": "bf9b658a",
   "metadata": {},
   "outputs": [],
   "source": [
    "# Load weather data \n",
    "weather = pd.read_csv('nyc_weather_daily.csv')"
   ]
  },
  {
   "cell_type": "code",
   "execution_count": 47,
   "id": "5688fb22",
   "metadata": {},
   "outputs": [
    {
     "data": {
      "text/html": [
       "<div>\n",
       "<style scoped>\n",
       "    .dataframe tbody tr th:only-of-type {\n",
       "        vertical-align: middle;\n",
       "    }\n",
       "\n",
       "    .dataframe tbody tr th {\n",
       "        vertical-align: top;\n",
       "    }\n",
       "\n",
       "    .dataframe thead th {\n",
       "        text-align: right;\n",
       "    }\n",
       "</style>\n",
       "<table border=\"1\" class=\"dataframe\">\n",
       "  <thead>\n",
       "    <tr style=\"text-align: right;\">\n",
       "      <th></th>\n",
       "      <th>temperature_2m_max</th>\n",
       "      <th>temperature_2m_min</th>\n",
       "      <th>precipitation_sum</th>\n",
       "      <th>snowfall_sum</th>\n",
       "      <th>borough</th>\n",
       "      <th>date</th>\n",
       "    </tr>\n",
       "  </thead>\n",
       "  <tbody>\n",
       "    <tr>\n",
       "      <th>999</th>\n",
       "      <td>20.4</td>\n",
       "      <td>7.3</td>\n",
       "      <td>0.0</td>\n",
       "      <td>0.0</td>\n",
       "      <td>The Bronx</td>\n",
       "      <td>2024-10-11</td>\n",
       "    </tr>\n",
       "    <tr>\n",
       "      <th>1444</th>\n",
       "      <td>11.9</td>\n",
       "      <td>2.1</td>\n",
       "      <td>3.0</td>\n",
       "      <td>0.0</td>\n",
       "      <td>Staten Island</td>\n",
       "      <td>2025-03-06</td>\n",
       "    </tr>\n",
       "    <tr>\n",
       "      <th>1187</th>\n",
       "      <td>15.1</td>\n",
       "      <td>3.7</td>\n",
       "      <td>0.0</td>\n",
       "      <td>0.0</td>\n",
       "      <td>The Bronx</td>\n",
       "      <td>2025-04-17</td>\n",
       "    </tr>\n",
       "    <tr>\n",
       "      <th>886</th>\n",
       "      <td>19.2</td>\n",
       "      <td>9.1</td>\n",
       "      <td>1.6</td>\n",
       "      <td>0.0</td>\n",
       "      <td>Queens</td>\n",
       "      <td>2025-04-15</td>\n",
       "    </tr>\n",
       "    <tr>\n",
       "      <th>1166</th>\n",
       "      <td>9.5</td>\n",
       "      <td>-0.3</td>\n",
       "      <td>0.0</td>\n",
       "      <td>0.0</td>\n",
       "      <td>The Bronx</td>\n",
       "      <td>2025-03-27</td>\n",
       "    </tr>\n",
       "    <tr>\n",
       "      <th>561</th>\n",
       "      <td>8.8</td>\n",
       "      <td>5.6</td>\n",
       "      <td>9.0</td>\n",
       "      <td>0.0</td>\n",
       "      <td>Brooklyn</td>\n",
       "      <td>2025-03-20</td>\n",
       "    </tr>\n",
       "    <tr>\n",
       "      <th>481</th>\n",
       "      <td>12.8</td>\n",
       "      <td>8.3</td>\n",
       "      <td>8.3</td>\n",
       "      <td>0.0</td>\n",
       "      <td>Brooklyn</td>\n",
       "      <td>2024-12-30</td>\n",
       "    </tr>\n",
       "    <tr>\n",
       "      <th>303</th>\n",
       "      <td>29.2</td>\n",
       "      <td>21.3</td>\n",
       "      <td>0.7</td>\n",
       "      <td>0.0</td>\n",
       "      <td>Brooklyn</td>\n",
       "      <td>2024-07-05</td>\n",
       "    </tr>\n",
       "    <tr>\n",
       "      <th>342</th>\n",
       "      <td>27.4</td>\n",
       "      <td>16.3</td>\n",
       "      <td>0.0</td>\n",
       "      <td>0.0</td>\n",
       "      <td>Brooklyn</td>\n",
       "      <td>2024-08-13</td>\n",
       "    </tr>\n",
       "    <tr>\n",
       "      <th>244</th>\n",
       "      <td>0.1</td>\n",
       "      <td>-7.6</td>\n",
       "      <td>0.0</td>\n",
       "      <td>0.0</td>\n",
       "      <td>Manhattan</td>\n",
       "      <td>2025-03-02</td>\n",
       "    </tr>\n",
       "  </tbody>\n",
       "</table>\n",
       "</div>"
      ],
      "text/plain": [
       "      temperature_2m_max  temperature_2m_min  precipitation_sum  snowfall_sum  \\\n",
       "999                 20.4                 7.3                0.0           0.0   \n",
       "1444                11.9                 2.1                3.0           0.0   \n",
       "1187                15.1                 3.7                0.0           0.0   \n",
       "886                 19.2                 9.1                1.6           0.0   \n",
       "1166                 9.5                -0.3                0.0           0.0   \n",
       "561                  8.8                 5.6                9.0           0.0   \n",
       "481                 12.8                 8.3                8.3           0.0   \n",
       "303                 29.2                21.3                0.7           0.0   \n",
       "342                 27.4                16.3                0.0           0.0   \n",
       "244                  0.1                -7.6                0.0           0.0   \n",
       "\n",
       "            borough        date  \n",
       "999       The Bronx  2024-10-11  \n",
       "1444  Staten Island  2025-03-06  \n",
       "1187      The Bronx  2025-04-17  \n",
       "886          Queens  2025-04-15  \n",
       "1166      The Bronx  2025-03-27  \n",
       "561        Brooklyn  2025-03-20  \n",
       "481        Brooklyn  2024-12-30  \n",
       "303        Brooklyn  2024-07-05  \n",
       "342        Brooklyn  2024-08-13  \n",
       "244       Manhattan  2025-03-02  "
      ]
     },
     "execution_count": 47,
     "metadata": {},
     "output_type": "execute_result"
    }
   ],
   "source": [
    "# Randomly selecting 10 rows\n",
    "weather.sample(n=10, random_state=42)"
   ]
  },
  {
   "cell_type": "code",
   "execution_count": 48,
   "id": "e6591803",
   "metadata": {},
   "outputs": [],
   "source": [
    "# Create Daily mean temperature column temperature_2m\n",
    "weather['temperature_2m'] = (weather.temperature_2m_max+weather.temperature_2m_min)/2\n",
    "\n",
    "# Convert temperature columns to Farenheit from Celsius (F = C * 9/5 + 32)\n",
    "\n",
    "weather['temperature_2m'] = weather['temperature_2m']* 9/5 + 32\n",
    "\n",
    "# Drop temperature min and max column\n",
    "weather = weather.drop(columns=['temperature_2m_max', 'temperature_2m_min'])"
   ]
  },
  {
   "cell_type": "code",
   "execution_count": 49,
   "id": "018a202a",
   "metadata": {},
   "outputs": [
    {
     "data": {
      "text/html": [
       "<div>\n",
       "<style scoped>\n",
       "    .dataframe tbody tr th:only-of-type {\n",
       "        vertical-align: middle;\n",
       "    }\n",
       "\n",
       "    .dataframe tbody tr th {\n",
       "        vertical-align: top;\n",
       "    }\n",
       "\n",
       "    .dataframe thead th {\n",
       "        text-align: right;\n",
       "    }\n",
       "</style>\n",
       "<table border=\"1\" class=\"dataframe\">\n",
       "  <thead>\n",
       "    <tr style=\"text-align: right;\">\n",
       "      <th></th>\n",
       "      <th>precipitation_sum</th>\n",
       "      <th>snowfall_sum</th>\n",
       "      <th>borough</th>\n",
       "      <th>date</th>\n",
       "      <th>temperature_2m</th>\n",
       "    </tr>\n",
       "  </thead>\n",
       "  <tbody>\n",
       "    <tr>\n",
       "      <th>0</th>\n",
       "      <td>0.2</td>\n",
       "      <td>0.0</td>\n",
       "      <td>Manhattan</td>\n",
       "      <td>2024-07-01</td>\n",
       "      <td>70.43</td>\n",
       "    </tr>\n",
       "    <tr>\n",
       "      <th>1</th>\n",
       "      <td>0.0</td>\n",
       "      <td>0.0</td>\n",
       "      <td>Manhattan</td>\n",
       "      <td>2024-07-02</td>\n",
       "      <td>71.96</td>\n",
       "    </tr>\n",
       "    <tr>\n",
       "      <th>2</th>\n",
       "      <td>0.0</td>\n",
       "      <td>0.0</td>\n",
       "      <td>Manhattan</td>\n",
       "      <td>2024-07-03</td>\n",
       "      <td>72.32</td>\n",
       "    </tr>\n",
       "    <tr>\n",
       "      <th>3</th>\n",
       "      <td>2.2</td>\n",
       "      <td>0.0</td>\n",
       "      <td>Manhattan</td>\n",
       "      <td>2024-07-04</td>\n",
       "      <td>76.46</td>\n",
       "    </tr>\n",
       "    <tr>\n",
       "      <th>4</th>\n",
       "      <td>5.7</td>\n",
       "      <td>0.0</td>\n",
       "      <td>Manhattan</td>\n",
       "      <td>2024-07-05</td>\n",
       "      <td>80.33</td>\n",
       "    </tr>\n",
       "  </tbody>\n",
       "</table>\n",
       "</div>"
      ],
      "text/plain": [
       "   precipitation_sum  snowfall_sum    borough        date  temperature_2m\n",
       "0                0.2           0.0  Manhattan  2024-07-01           70.43\n",
       "1                0.0           0.0  Manhattan  2024-07-02           71.96\n",
       "2                0.0           0.0  Manhattan  2024-07-03           72.32\n",
       "3                2.2           0.0  Manhattan  2024-07-04           76.46\n",
       "4                5.7           0.0  Manhattan  2024-07-05           80.33"
      ]
     },
     "execution_count": 49,
     "metadata": {},
     "output_type": "execute_result"
    }
   ],
   "source": [
    "weather.head()"
   ]
  },
  {
   "cell_type": "code",
   "execution_count": 50,
   "id": "b79dfbcd",
   "metadata": {},
   "outputs": [
    {
     "data": {
      "text/plain": [
       "(1495, 5)"
      ]
     },
     "execution_count": 50,
     "metadata": {},
     "output_type": "execute_result"
    }
   ],
   "source": [
    "weather.shape"
   ]
  },
  {
   "cell_type": "code",
   "execution_count": 51,
   "id": "dad877ef",
   "metadata": {},
   "outputs": [
    {
     "data": {
      "text/plain": [
       "precipitation_sum    float64\n",
       "snowfall_sum         float64\n",
       "borough               object\n",
       "date                  object\n",
       "temperature_2m       float64\n",
       "dtype: object"
      ]
     },
     "execution_count": 51,
     "metadata": {},
     "output_type": "execute_result"
    }
   ],
   "source": [
    "# Weather data type\n",
    "weather.dtypes"
   ]
  },
  {
   "cell_type": "markdown",
   "id": "58207e6f",
   "metadata": {},
   "source": [
    "**Change weather 'time' to to_datetime and and add 'date' column**"
   ]
  },
  {
   "cell_type": "code",
   "execution_count": 52,
   "id": "bf9664bb",
   "metadata": {},
   "outputs": [],
   "source": [
    "# Convert 'time' to datetime\n",
    "weather['date'] = pd.to_datetime(weather['date'])\n",
    "\n",
    "# Rename column to 'date'\n",
    "weather.rename(columns={'precipitation_sum':'precp', 'snowfall_sum':'snowfall', 'temperature_2m': 'temp'}, inplace=True)\n",
    "\n",
    "# Reset index\n",
    "weather.set_index('date', inplace = True)"
   ]
  },
  {
   "cell_type": "code",
   "execution_count": 53,
   "id": "5601fac3",
   "metadata": {},
   "outputs": [
    {
     "data": {
      "text/html": [
       "<div>\n",
       "<style scoped>\n",
       "    .dataframe tbody tr th:only-of-type {\n",
       "        vertical-align: middle;\n",
       "    }\n",
       "\n",
       "    .dataframe tbody tr th {\n",
       "        vertical-align: top;\n",
       "    }\n",
       "\n",
       "    .dataframe thead th {\n",
       "        text-align: right;\n",
       "    }\n",
       "</style>\n",
       "<table border=\"1\" class=\"dataframe\">\n",
       "  <thead>\n",
       "    <tr style=\"text-align: right;\">\n",
       "      <th></th>\n",
       "      <th>precp</th>\n",
       "      <th>snowfall</th>\n",
       "      <th>borough</th>\n",
       "      <th>temp</th>\n",
       "    </tr>\n",
       "    <tr>\n",
       "      <th>date</th>\n",
       "      <th></th>\n",
       "      <th></th>\n",
       "      <th></th>\n",
       "      <th></th>\n",
       "    </tr>\n",
       "  </thead>\n",
       "  <tbody>\n",
       "    <tr>\n",
       "      <th>2024-07-01</th>\n",
       "      <td>0.2</td>\n",
       "      <td>0.0</td>\n",
       "      <td>Manhattan</td>\n",
       "      <td>70.43</td>\n",
       "    </tr>\n",
       "    <tr>\n",
       "      <th>2024-07-02</th>\n",
       "      <td>0.0</td>\n",
       "      <td>0.0</td>\n",
       "      <td>Manhattan</td>\n",
       "      <td>71.96</td>\n",
       "    </tr>\n",
       "    <tr>\n",
       "      <th>2024-07-03</th>\n",
       "      <td>0.0</td>\n",
       "      <td>0.0</td>\n",
       "      <td>Manhattan</td>\n",
       "      <td>72.32</td>\n",
       "    </tr>\n",
       "    <tr>\n",
       "      <th>2024-07-04</th>\n",
       "      <td>2.2</td>\n",
       "      <td>0.0</td>\n",
       "      <td>Manhattan</td>\n",
       "      <td>76.46</td>\n",
       "    </tr>\n",
       "    <tr>\n",
       "      <th>2024-07-05</th>\n",
       "      <td>5.7</td>\n",
       "      <td>0.0</td>\n",
       "      <td>Manhattan</td>\n",
       "      <td>80.33</td>\n",
       "    </tr>\n",
       "  </tbody>\n",
       "</table>\n",
       "</div>"
      ],
      "text/plain": [
       "            precp  snowfall    borough   temp\n",
       "date                                         \n",
       "2024-07-01    0.2       0.0  Manhattan  70.43\n",
       "2024-07-02    0.0       0.0  Manhattan  71.96\n",
       "2024-07-03    0.0       0.0  Manhattan  72.32\n",
       "2024-07-04    2.2       0.0  Manhattan  76.46\n",
       "2024-07-05    5.7       0.0  Manhattan  80.33"
      ]
     },
     "execution_count": 53,
     "metadata": {},
     "output_type": "execute_result"
    }
   ],
   "source": [
    "weather.head()"
   ]
  },
  {
   "cell_type": "code",
   "execution_count": 54,
   "id": "e8b9447d",
   "metadata": {},
   "outputs": [
    {
     "data": {
      "text/plain": [
       "(1495, 4)"
      ]
     },
     "execution_count": 54,
     "metadata": {},
     "output_type": "execute_result"
    }
   ],
   "source": [
    "weather.shape"
   ]
  },
  {
   "cell_type": "code",
   "execution_count": 55,
   "id": "3e6a5699",
   "metadata": {},
   "outputs": [
    {
     "data": {
      "text/plain": [
       "precp       0\n",
       "snowfall    0\n",
       "borough     0\n",
       "temp        0\n",
       "dtype: int64"
      ]
     },
     "execution_count": 55,
     "metadata": {},
     "output_type": "execute_result"
    }
   ],
   "source": [
    "# Check weather_daily for missing values \n",
    "weather.isna().sum()"
   ]
  },
  {
   "cell_type": "code",
   "execution_count": 56,
   "id": "7c3b61a1",
   "metadata": {},
   "outputs": [
    {
     "data": {
      "text/plain": [
       "array(['Manhattan', 'Brooklyn', 'Queens', 'The Bronx', 'Staten Island'],\n",
       "      dtype=object)"
      ]
     },
     "execution_count": 56,
     "metadata": {},
     "output_type": "execute_result"
    }
   ],
   "source": [
    "# checking for string consistancy\n",
    "weather.borough.unique()"
   ]
  },
  {
   "cell_type": "code",
   "execution_count": 61,
   "id": "4eb1f176",
   "metadata": {},
   "outputs": [],
   "source": [
    "# Changing borough The Bronx to Bronx \n",
    "weather['borough']=weather['borough'].replace({'The Bronx' : 'Bronx'})"
   ]
  },
  {
   "cell_type": "markdown",
   "id": "03f87d7d",
   "metadata": {},
   "source": [
    "**Merge Weather with Daily Ambulance Calls**\n",
    "\n",
    "The `weather_daily` dataset has **no missing values** and is now ready to be merged with `daily_calls` on `date` and `borough` using a **left join** to preserve all ambulance records."
   ]
  },
  {
   "cell_type": "code",
   "execution_count": null,
   "id": "d8853340",
   "metadata": {},
   "outputs": [],
   "source": []
  },
  {
   "cell_type": "code",
   "execution_count": 62,
   "id": "d245a4c7",
   "metadata": {},
   "outputs": [],
   "source": [
    "# Merge weather_daily with daily_calls to 'daily-amb-calls'\n",
    "\n",
    "daily_amb_calls = daily_calls.merge(weather, on=['date','borough'], how='left')"
   ]
  },
  {
   "cell_type": "code",
   "execution_count": 63,
   "id": "71caf45b",
   "metadata": {},
   "outputs": [
    {
     "data": {
      "text/html": [
       "<div>\n",
       "<style scoped>\n",
       "    .dataframe tbody tr th:only-of-type {\n",
       "        vertical-align: middle;\n",
       "    }\n",
       "\n",
       "    .dataframe tbody tr th {\n",
       "        vertical-align: top;\n",
       "    }\n",
       "\n",
       "    .dataframe thead th {\n",
       "        text-align: right;\n",
       "    }\n",
       "</style>\n",
       "<table border=\"1\" class=\"dataframe\">\n",
       "  <thead>\n",
       "    <tr style=\"text-align: right;\">\n",
       "      <th></th>\n",
       "      <th>date</th>\n",
       "      <th>borough</th>\n",
       "      <th>daily_call_vol</th>\n",
       "      <th>mean_severity_level</th>\n",
       "      <th>max_severity_level</th>\n",
       "      <th>min_severity</th>\n",
       "      <th>day_of_week</th>\n",
       "      <th>is_weekend</th>\n",
       "      <th>is_holiday</th>\n",
       "      <th>lag_1</th>\n",
       "      <th>lag_7</th>\n",
       "      <th>precp</th>\n",
       "      <th>snowfall</th>\n",
       "      <th>temp</th>\n",
       "    </tr>\n",
       "  </thead>\n",
       "  <tbody>\n",
       "    <tr>\n",
       "      <th>0</th>\n",
       "      <td>2024-07-01</td>\n",
       "      <td>Bronx</td>\n",
       "      <td>1039</td>\n",
       "      <td>4.216554</td>\n",
       "      <td>1</td>\n",
       "      <td>8</td>\n",
       "      <td>0</td>\n",
       "      <td>0</td>\n",
       "      <td>0</td>\n",
       "      <td>NaN</td>\n",
       "      <td>NaN</td>\n",
       "      <td>0.4</td>\n",
       "      <td>0.0</td>\n",
       "      <td>70.34</td>\n",
       "    </tr>\n",
       "    <tr>\n",
       "      <th>1</th>\n",
       "      <td>2024-07-02</td>\n",
       "      <td>Bronx</td>\n",
       "      <td>950</td>\n",
       "      <td>4.195789</td>\n",
       "      <td>1</td>\n",
       "      <td>8</td>\n",
       "      <td>1</td>\n",
       "      <td>0</td>\n",
       "      <td>0</td>\n",
       "      <td>1039.0</td>\n",
       "      <td>NaN</td>\n",
       "      <td>0.0</td>\n",
       "      <td>0.0</td>\n",
       "      <td>71.87</td>\n",
       "    </tr>\n",
       "    <tr>\n",
       "      <th>2</th>\n",
       "      <td>2024-07-03</td>\n",
       "      <td>Bronx</td>\n",
       "      <td>1002</td>\n",
       "      <td>4.229541</td>\n",
       "      <td>1</td>\n",
       "      <td>8</td>\n",
       "      <td>2</td>\n",
       "      <td>0</td>\n",
       "      <td>0</td>\n",
       "      <td>950.0</td>\n",
       "      <td>NaN</td>\n",
       "      <td>0.0</td>\n",
       "      <td>0.0</td>\n",
       "      <td>71.87</td>\n",
       "    </tr>\n",
       "    <tr>\n",
       "      <th>3</th>\n",
       "      <td>2024-07-04</td>\n",
       "      <td>Bronx</td>\n",
       "      <td>907</td>\n",
       "      <td>4.060639</td>\n",
       "      <td>1</td>\n",
       "      <td>8</td>\n",
       "      <td>3</td>\n",
       "      <td>0</td>\n",
       "      <td>1</td>\n",
       "      <td>1002.0</td>\n",
       "      <td>NaN</td>\n",
       "      <td>1.3</td>\n",
       "      <td>0.0</td>\n",
       "      <td>75.47</td>\n",
       "    </tr>\n",
       "    <tr>\n",
       "      <th>4</th>\n",
       "      <td>2024-07-05</td>\n",
       "      <td>Bronx</td>\n",
       "      <td>1099</td>\n",
       "      <td>4.270246</td>\n",
       "      <td>1</td>\n",
       "      <td>8</td>\n",
       "      <td>4</td>\n",
       "      <td>0</td>\n",
       "      <td>0</td>\n",
       "      <td>907.0</td>\n",
       "      <td>NaN</td>\n",
       "      <td>15.6</td>\n",
       "      <td>0.0</td>\n",
       "      <td>78.71</td>\n",
       "    </tr>\n",
       "  </tbody>\n",
       "</table>\n",
       "</div>"
      ],
      "text/plain": [
       "        date borough  daily_call_vol  mean_severity_level  max_severity_level  \\\n",
       "0 2024-07-01   Bronx            1039             4.216554                   1   \n",
       "1 2024-07-02   Bronx             950             4.195789                   1   \n",
       "2 2024-07-03   Bronx            1002             4.229541                   1   \n",
       "3 2024-07-04   Bronx             907             4.060639                   1   \n",
       "4 2024-07-05   Bronx            1099             4.270246                   1   \n",
       "\n",
       "   min_severity  day_of_week  is_weekend  is_holiday   lag_1  lag_7  precp  \\\n",
       "0             8            0           0           0     NaN    NaN    0.4   \n",
       "1             8            1           0           0  1039.0    NaN    0.0   \n",
       "2             8            2           0           0   950.0    NaN    0.0   \n",
       "3             8            3           0           1  1002.0    NaN    1.3   \n",
       "4             8            4           0           0   907.0    NaN   15.6   \n",
       "\n",
       "   snowfall   temp  \n",
       "0       0.0  70.34  \n",
       "1       0.0  71.87  \n",
       "2       0.0  71.87  \n",
       "3       0.0  75.47  \n",
       "4       0.0  78.71  "
      ]
     },
     "execution_count": 63,
     "metadata": {},
     "output_type": "execute_result"
    }
   ],
   "source": [
    "daily_amb_calls.head()"
   ]
  },
  {
   "cell_type": "code",
   "execution_count": 64,
   "id": "d8d2a739",
   "metadata": {},
   "outputs": [
    {
     "data": {
      "text/plain": [
       "date                    0\n",
       "borough                 0\n",
       "daily_call_vol          0\n",
       "mean_severity_level     0\n",
       "max_severity_level      0\n",
       "min_severity            0\n",
       "day_of_week             0\n",
       "is_weekend              0\n",
       "is_holiday              0\n",
       "lag_1                   5\n",
       "lag_7                  35\n",
       "precp                   0\n",
       "snowfall                0\n",
       "temp                    0\n",
       "dtype: int64"
      ]
     },
     "execution_count": 64,
     "metadata": {},
     "output_type": "execute_result"
    }
   ],
   "source": [
    "daily_amb_calls.isna().sum()"
   ]
  },
  {
   "cell_type": "markdown",
   "id": "cafa0b44",
   "metadata": {},
   "source": [
    "**Handling Missing Lag Features**\n",
    "\n",
    "The `lag_1` and `lag_7` features represent the number of calls from 1 day and 7 days prior.  \n",
    "- By definition, the first day of each borough has no `lag_1`, and the first 7 days have no `lag_7`.  \n",
    "- These missing values are **not errors** but a natural consequence of computing lags.\n",
    "\n",
    "Filling lag_1 with the previous day’s value (within the same borough) and lag_7 with the borough mean ensures that each row has reasonable historical information without introducing large distortions"
   ]
  },
  {
   "cell_type": "code",
   "execution_count": 65,
   "id": "d4943b46",
   "metadata": {},
   "outputs": [],
   "source": [
    "# Fill lag_1 missing values with the boroughs mean within the same borough\n",
    "daily_amb_calls['lag_1'] = daily_amb_calls.groupby('borough')['lag_1'].transform(lambda x: x.fillna(x.mean()))\n",
    "\n",
    "# Fill lag_7 missing values with the boroughs 'lag_7' mean value within the same borough\n",
    "daily_amb_calls['lag_7'] = daily_amb_calls.groupby('borough')['lag_7'] \\\n",
    "                                          .transform(lambda x: x.fillna(x.mean()))"
   ]
  },
  {
   "cell_type": "code",
   "execution_count": 66,
   "id": "f558b194",
   "metadata": {},
   "outputs": [
    {
     "data": {
      "text/plain": [
       "date                   0\n",
       "borough                0\n",
       "daily_call_vol         0\n",
       "mean_severity_level    0\n",
       "max_severity_level     0\n",
       "min_severity           0\n",
       "day_of_week            0\n",
       "is_weekend             0\n",
       "is_holiday             0\n",
       "lag_1                  0\n",
       "lag_7                  0\n",
       "precp                  0\n",
       "snowfall               0\n",
       "temp                   0\n",
       "dtype: int64"
      ]
     },
     "execution_count": 66,
     "metadata": {},
     "output_type": "execute_result"
    }
   ],
   "source": [
    "# Check for missing values \n",
    "daily_amb_calls.isna().sum()"
   ]
  },
  {
   "cell_type": "markdown",
   "id": "b5ccc8c5",
   "metadata": {},
   "source": [
    "**Save `daily_amb_call` as CSV**"
   ]
  },
  {
   "cell_type": "code",
   "execution_count": 69,
   "id": "c0d1c2bc",
   "metadata": {},
   "outputs": [],
   "source": [
    "daily_amb_calls.to_csv('daily_ambulance_calls.csv')"
   ]
  },
  {
   "cell_type": "markdown",
   "id": "5e1baf54",
   "metadata": {},
   "source": [
    "## The merged dataset is now `clean`, `consistent`, and `ready` for exploratory data analysis (EDA)."
   ]
  },
  {
   "cell_type": "code",
   "execution_count": 68,
   "id": "861a58d8",
   "metadata": {},
   "outputs": [
    {
     "data": {
      "text/html": [
       "<div>\n",
       "<style scoped>\n",
       "    .dataframe tbody tr th:only-of-type {\n",
       "        vertical-align: middle;\n",
       "    }\n",
       "\n",
       "    .dataframe tbody tr th {\n",
       "        vertical-align: top;\n",
       "    }\n",
       "\n",
       "    .dataframe thead th {\n",
       "        text-align: right;\n",
       "    }\n",
       "</style>\n",
       "<table border=\"1\" class=\"dataframe\">\n",
       "  <thead>\n",
       "    <tr style=\"text-align: right;\">\n",
       "      <th></th>\n",
       "      <th>date</th>\n",
       "      <th>borough</th>\n",
       "      <th>daily_call_vol</th>\n",
       "      <th>mean_severity_level</th>\n",
       "      <th>max_severity_level</th>\n",
       "      <th>min_severity</th>\n",
       "      <th>day_of_week</th>\n",
       "      <th>is_weekend</th>\n",
       "      <th>is_holiday</th>\n",
       "      <th>lag_1</th>\n",
       "      <th>lag_7</th>\n",
       "      <th>precp</th>\n",
       "      <th>snowfall</th>\n",
       "      <th>temp</th>\n",
       "    </tr>\n",
       "  </thead>\n",
       "  <tbody>\n",
       "    <tr>\n",
       "      <th>0</th>\n",
       "      <td>2024-07-01</td>\n",
       "      <td>Bronx</td>\n",
       "      <td>1039</td>\n",
       "      <td>4.216554</td>\n",
       "      <td>1</td>\n",
       "      <td>8</td>\n",
       "      <td>0</td>\n",
       "      <td>0</td>\n",
       "      <td>0</td>\n",
       "      <td>1021.557047</td>\n",
       "      <td>1020.561644</td>\n",
       "      <td>0.4</td>\n",
       "      <td>0.0</td>\n",
       "      <td>70.34</td>\n",
       "    </tr>\n",
       "    <tr>\n",
       "      <th>1</th>\n",
       "      <td>2024-07-02</td>\n",
       "      <td>Bronx</td>\n",
       "      <td>950</td>\n",
       "      <td>4.195789</td>\n",
       "      <td>1</td>\n",
       "      <td>8</td>\n",
       "      <td>1</td>\n",
       "      <td>0</td>\n",
       "      <td>0</td>\n",
       "      <td>1039.000000</td>\n",
       "      <td>1020.561644</td>\n",
       "      <td>0.0</td>\n",
       "      <td>0.0</td>\n",
       "      <td>71.87</td>\n",
       "    </tr>\n",
       "    <tr>\n",
       "      <th>2</th>\n",
       "      <td>2024-07-03</td>\n",
       "      <td>Bronx</td>\n",
       "      <td>1002</td>\n",
       "      <td>4.229541</td>\n",
       "      <td>1</td>\n",
       "      <td>8</td>\n",
       "      <td>2</td>\n",
       "      <td>0</td>\n",
       "      <td>0</td>\n",
       "      <td>950.000000</td>\n",
       "      <td>1020.561644</td>\n",
       "      <td>0.0</td>\n",
       "      <td>0.0</td>\n",
       "      <td>71.87</td>\n",
       "    </tr>\n",
       "    <tr>\n",
       "      <th>3</th>\n",
       "      <td>2024-07-04</td>\n",
       "      <td>Bronx</td>\n",
       "      <td>907</td>\n",
       "      <td>4.060639</td>\n",
       "      <td>1</td>\n",
       "      <td>8</td>\n",
       "      <td>3</td>\n",
       "      <td>0</td>\n",
       "      <td>1</td>\n",
       "      <td>1002.000000</td>\n",
       "      <td>1020.561644</td>\n",
       "      <td>1.3</td>\n",
       "      <td>0.0</td>\n",
       "      <td>75.47</td>\n",
       "    </tr>\n",
       "    <tr>\n",
       "      <th>4</th>\n",
       "      <td>2024-07-05</td>\n",
       "      <td>Bronx</td>\n",
       "      <td>1099</td>\n",
       "      <td>4.270246</td>\n",
       "      <td>1</td>\n",
       "      <td>8</td>\n",
       "      <td>4</td>\n",
       "      <td>0</td>\n",
       "      <td>0</td>\n",
       "      <td>907.000000</td>\n",
       "      <td>1020.561644</td>\n",
       "      <td>15.6</td>\n",
       "      <td>0.0</td>\n",
       "      <td>78.71</td>\n",
       "    </tr>\n",
       "  </tbody>\n",
       "</table>\n",
       "</div>"
      ],
      "text/plain": [
       "        date borough  daily_call_vol  mean_severity_level  max_severity_level  \\\n",
       "0 2024-07-01   Bronx            1039             4.216554                   1   \n",
       "1 2024-07-02   Bronx             950             4.195789                   1   \n",
       "2 2024-07-03   Bronx            1002             4.229541                   1   \n",
       "3 2024-07-04   Bronx             907             4.060639                   1   \n",
       "4 2024-07-05   Bronx            1099             4.270246                   1   \n",
       "\n",
       "   min_severity  day_of_week  is_weekend  is_holiday        lag_1  \\\n",
       "0             8            0           0           0  1021.557047   \n",
       "1             8            1           0           0  1039.000000   \n",
       "2             8            2           0           0   950.000000   \n",
       "3             8            3           0           1  1002.000000   \n",
       "4             8            4           0           0   907.000000   \n",
       "\n",
       "         lag_7  precp  snowfall   temp  \n",
       "0  1020.561644    0.4       0.0  70.34  \n",
       "1  1020.561644    0.0       0.0  71.87  \n",
       "2  1020.561644    0.0       0.0  71.87  \n",
       "3  1020.561644    1.3       0.0  75.47  \n",
       "4  1020.561644   15.6       0.0  78.71  "
      ]
     },
     "execution_count": 68,
     "metadata": {},
     "output_type": "execute_result"
    }
   ],
   "source": [
    "daily_amb_calls.head()"
   ]
  },
  {
   "cell_type": "code",
   "execution_count": null,
   "id": "353560c5",
   "metadata": {},
   "outputs": [],
   "source": []
  }
 ],
 "metadata": {
  "kernelspec": {
   "display_name": "Python 3 (ipykernel)",
   "language": "python",
   "name": "python3"
  },
  "language_info": {
   "codemirror_mode": {
    "name": "ipython",
    "version": 3
   },
   "file_extension": ".py",
   "mimetype": "text/x-python",
   "name": "python",
   "nbconvert_exporter": "python",
   "pygments_lexer": "ipython3",
   "version": "3.13.5"
  }
 },
 "nbformat": 4,
 "nbformat_minor": 5
}
